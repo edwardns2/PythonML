{
 "cells": [
  {
   "cell_type": "code",
   "execution_count": 97,
   "id": "454b2253",
   "metadata": {},
   "outputs": [],
   "source": [
    "import pandas as pd\n",
    "import plotly.express as px\n",
    "import matplotlib.pyplot as plt\n",
    "import plotly.graph_objects as go\n",
    "\n",
    "from statsmodels.graphics.tsaplots import month_plot\n",
    "from statsmodels.tsa.seasonal import seasonal_decompose\n",
    "from statsforecast import StatsForecast\n",
    "from statsforecast.models import AutoARIMA\n"
   ]
  },
  {
   "cell_type": "code",
   "execution_count": 98,
   "id": "b5bc8ba0",
   "metadata": {},
   "outputs": [],
   "source": [
    "pd.set_option('display.float_format', lambda x: '{:,.2f}'.format(x))"
   ]
  },
  {
   "cell_type": "code",
   "execution_count": 99,
   "id": "12d794b1",
   "metadata": {},
   "outputs": [],
   "source": [
    "sales_df = pd.read_csv(\"../data/daily_revenue.csv\", \n",
    "                       parse_dates=[\"date\"], \n",
    "                       index_col=[\"date\"], \n",
    "                       dayfirst = True)"
   ]
  },
  {
   "cell_type": "code",
   "execution_count": 100,
   "id": "480bc9bf",
   "metadata": {},
   "outputs": [
    {
     "name": "stdout",
     "output_type": "stream",
     "text": [
      "<class 'pandas.core.frame.DataFrame'>\n",
      "DatetimeIndex: 1795 entries, 2018-01-01 to 2022-11-30\n",
      "Data columns (total 3 columns):\n",
      " #   Column         Non-Null Count  Dtype \n",
      "---  ------         --------------  ----- \n",
      " 0   revenue        1795 non-null   object\n",
      " 1   discount_rate  1795 non-null   object\n",
      " 2   coupon_rate    1795 non-null   object\n",
      "dtypes: object(3)\n",
      "memory usage: 56.1+ KB\n"
     ]
    }
   ],
   "source": [
    "sales_df.info()"
   ]
  },
  {
   "cell_type": "code",
   "execution_count": 101,
   "id": "a4d47af9",
   "metadata": {},
   "outputs": [
    {
     "data": {
      "text/html": [
       "<div>\n",
       "<style scoped>\n",
       "    .dataframe tbody tr th:only-of-type {\n",
       "        vertical-align: middle;\n",
       "    }\n",
       "\n",
       "    .dataframe tbody tr th {\n",
       "        vertical-align: top;\n",
       "    }\n",
       "\n",
       "    .dataframe thead th {\n",
       "        text-align: right;\n",
       "    }\n",
       "</style>\n",
       "<table border=\"1\" class=\"dataframe\">\n",
       "  <thead>\n",
       "    <tr style=\"text-align: right;\">\n",
       "      <th></th>\n",
       "      <th>revenue</th>\n",
       "      <th>discount_rate</th>\n",
       "      <th>coupon_rate</th>\n",
       "    </tr>\n",
       "    <tr>\n",
       "      <th>date</th>\n",
       "      <th></th>\n",
       "      <th></th>\n",
       "      <th></th>\n",
       "    </tr>\n",
       "  </thead>\n",
       "  <tbody>\n",
       "    <tr>\n",
       "      <th>2018-01-01</th>\n",
       "      <td>6,270,839</td>\n",
       "      <td>34.27%</td>\n",
       "      <td>1.09%</td>\n",
       "    </tr>\n",
       "    <tr>\n",
       "      <th>2018-01-02</th>\n",
       "      <td>8,922,076</td>\n",
       "      <td>30.87%</td>\n",
       "      <td>1.08%</td>\n",
       "    </tr>\n",
       "    <tr>\n",
       "      <th>2018-01-03</th>\n",
       "      <td>8,446,101</td>\n",
       "      <td>28.11%</td>\n",
       "      <td>1.01%</td>\n",
       "    </tr>\n",
       "    <tr>\n",
       "      <th>2018-01-04</th>\n",
       "      <td>7,785,798</td>\n",
       "      <td>27.32%</td>\n",
       "      <td>0.96%</td>\n",
       "    </tr>\n",
       "    <tr>\n",
       "      <th>2018-01-05</th>\n",
       "      <td>6,375,303</td>\n",
       "      <td>25.70%</td>\n",
       "      <td>0.90%</td>\n",
       "    </tr>\n",
       "  </tbody>\n",
       "</table>\n",
       "</div>"
      ],
      "text/plain": [
       "              revenue discount_rate coupon_rate\n",
       "date                                           \n",
       "2018-01-01  6,270,839        34.27%       1.09%\n",
       "2018-01-02  8,922,076        30.87%       1.08%\n",
       "2018-01-03  8,446,101        28.11%       1.01%\n",
       "2018-01-04  7,785,798        27.32%       0.96%\n",
       "2018-01-05  6,375,303        25.70%       0.90%"
      ]
     },
     "execution_count": 101,
     "metadata": {},
     "output_type": "execute_result"
    }
   ],
   "source": [
    "sales_df.head()"
   ]
  },
  {
   "cell_type": "code",
   "execution_count": 102,
   "id": "214837a4",
   "metadata": {},
   "outputs": [],
   "source": [
    "sales_df[\"revenue\"] = sales_df[\"revenue\"].str.replace(\",\", \"\").astype(float)\n",
    "sales_df[\"discount_rate\"] = sales_df[\"discount_rate\"].str.replace(\"%\", \"\").astype(float)\n",
    "sales_df[\"coupon_rate\"] = sales_df[\"coupon_rate\"].str.replace(\"%\", \"\").astype(float)"
   ]
  },
  {
   "cell_type": "code",
   "execution_count": 103,
   "id": "83a07df5",
   "metadata": {},
   "outputs": [
    {
     "data": {
      "text/html": [
       "<div>\n",
       "<style scoped>\n",
       "    .dataframe tbody tr th:only-of-type {\n",
       "        vertical-align: middle;\n",
       "    }\n",
       "\n",
       "    .dataframe tbody tr th {\n",
       "        vertical-align: top;\n",
       "    }\n",
       "\n",
       "    .dataframe thead th {\n",
       "        text-align: right;\n",
       "    }\n",
       "</style>\n",
       "<table border=\"1\" class=\"dataframe\">\n",
       "  <thead>\n",
       "    <tr style=\"text-align: right;\">\n",
       "      <th></th>\n",
       "      <th>revenue</th>\n",
       "      <th>discount_rate</th>\n",
       "      <th>coupon_rate</th>\n",
       "    </tr>\n",
       "    <tr>\n",
       "      <th>date</th>\n",
       "      <th></th>\n",
       "      <th></th>\n",
       "      <th></th>\n",
       "    </tr>\n",
       "  </thead>\n",
       "  <tbody>\n",
       "    <tr>\n",
       "      <th>2018-01-01</th>\n",
       "      <td>6,270,839.00</td>\n",
       "      <td>34.27</td>\n",
       "      <td>1.09</td>\n",
       "    </tr>\n",
       "    <tr>\n",
       "      <th>2018-01-02</th>\n",
       "      <td>8,922,076.00</td>\n",
       "      <td>30.87</td>\n",
       "      <td>1.08</td>\n",
       "    </tr>\n",
       "    <tr>\n",
       "      <th>2018-01-03</th>\n",
       "      <td>8,446,101.00</td>\n",
       "      <td>28.11</td>\n",
       "      <td>1.01</td>\n",
       "    </tr>\n",
       "    <tr>\n",
       "      <th>2018-01-04</th>\n",
       "      <td>7,785,798.00</td>\n",
       "      <td>27.32</td>\n",
       "      <td>0.96</td>\n",
       "    </tr>\n",
       "    <tr>\n",
       "      <th>2018-01-05</th>\n",
       "      <td>6,375,303.00</td>\n",
       "      <td>25.70</td>\n",
       "      <td>0.90</td>\n",
       "    </tr>\n",
       "    <tr>\n",
       "      <th>...</th>\n",
       "      <td>...</td>\n",
       "      <td>...</td>\n",
       "      <td>...</td>\n",
       "    </tr>\n",
       "    <tr>\n",
       "      <th>2022-11-26</th>\n",
       "      <td>26,934,947.00</td>\n",
       "      <td>30.41</td>\n",
       "      <td>0.38</td>\n",
       "    </tr>\n",
       "    <tr>\n",
       "      <th>2022-11-27</th>\n",
       "      <td>31,890,868.00</td>\n",
       "      <td>29.75</td>\n",
       "      <td>0.35</td>\n",
       "    </tr>\n",
       "    <tr>\n",
       "      <th>2022-11-28</th>\n",
       "      <td>32,100,918.00</td>\n",
       "      <td>25.27</td>\n",
       "      <td>8.93</td>\n",
       "    </tr>\n",
       "    <tr>\n",
       "      <th>2022-11-29</th>\n",
       "      <td>14,314,613.00</td>\n",
       "      <td>19.54</td>\n",
       "      <td>0.26</td>\n",
       "    </tr>\n",
       "    <tr>\n",
       "      <th>2022-11-30</th>\n",
       "      <td>15,026,662.00</td>\n",
       "      <td>17.10</td>\n",
       "      <td>0.32</td>\n",
       "    </tr>\n",
       "  </tbody>\n",
       "</table>\n",
       "<p>1795 rows × 3 columns</p>\n",
       "</div>"
      ],
      "text/plain": [
       "                 revenue  discount_rate  coupon_rate\n",
       "date                                                \n",
       "2018-01-01  6,270,839.00          34.27         1.09\n",
       "2018-01-02  8,922,076.00          30.87         1.08\n",
       "2018-01-03  8,446,101.00          28.11         1.01\n",
       "2018-01-04  7,785,798.00          27.32         0.96\n",
       "2018-01-05  6,375,303.00          25.70         0.90\n",
       "...                  ...            ...          ...\n",
       "2022-11-26 26,934,947.00          30.41         0.38\n",
       "2022-11-27 31,890,868.00          29.75         0.35\n",
       "2022-11-28 32,100,918.00          25.27         8.93\n",
       "2022-11-29 14,314,613.00          19.54         0.26\n",
       "2022-11-30 15,026,662.00          17.10         0.32\n",
       "\n",
       "[1795 rows x 3 columns]"
      ]
     },
     "execution_count": 103,
     "metadata": {},
     "output_type": "execute_result"
    }
   ],
   "source": [
    "sales_df"
   ]
  },
  {
   "cell_type": "code",
   "execution_count": 104,
   "id": "37f3bd28",
   "metadata": {},
   "outputs": [
    {
     "name": "stdout",
     "output_type": "stream",
     "text": [
      "<class 'pandas.core.frame.DataFrame'>\n",
      "DatetimeIndex: 1795 entries, 2018-01-01 to 2022-11-30\n",
      "Data columns (total 3 columns):\n",
      " #   Column         Non-Null Count  Dtype  \n",
      "---  ------         --------------  -----  \n",
      " 0   revenue        1795 non-null   float64\n",
      " 1   discount_rate  1795 non-null   float64\n",
      " 2   coupon_rate    1795 non-null   float64\n",
      "dtypes: float64(3)\n",
      "memory usage: 56.1 KB\n"
     ]
    }
   ],
   "source": [
    "sales_df.info()"
   ]
  },
  {
   "cell_type": "code",
   "execution_count": 105,
   "id": "2206a1d1",
   "metadata": {},
   "outputs": [
    {
     "data": {
      "text/html": [
       "<div>\n",
       "<style scoped>\n",
       "    .dataframe tbody tr th:only-of-type {\n",
       "        vertical-align: middle;\n",
       "    }\n",
       "\n",
       "    .dataframe tbody tr th {\n",
       "        vertical-align: top;\n",
       "    }\n",
       "\n",
       "    .dataframe thead th {\n",
       "        text-align: right;\n",
       "    }\n",
       "</style>\n",
       "<table border=\"1\" class=\"dataframe\">\n",
       "  <thead>\n",
       "    <tr style=\"text-align: right;\">\n",
       "      <th></th>\n",
       "      <th>revenue</th>\n",
       "      <th>discount_rate</th>\n",
       "      <th>coupon_rate</th>\n",
       "    </tr>\n",
       "  </thead>\n",
       "  <tbody>\n",
       "    <tr>\n",
       "      <th>count</th>\n",
       "      <td>1,795.00</td>\n",
       "      <td>1,795.00</td>\n",
       "      <td>1,795.00</td>\n",
       "    </tr>\n",
       "    <tr>\n",
       "      <th>mean</th>\n",
       "      <td>11,884,191.07</td>\n",
       "      <td>18.31</td>\n",
       "      <td>0.86</td>\n",
       "    </tr>\n",
       "    <tr>\n",
       "      <th>std</th>\n",
       "      <td>5,139,488.85</td>\n",
       "      <td>4.98</td>\n",
       "      <td>1.23</td>\n",
       "    </tr>\n",
       "    <tr>\n",
       "      <th>min</th>\n",
       "      <td>3,820,099.00</td>\n",
       "      <td>7.93</td>\n",
       "      <td>0.18</td>\n",
       "    </tr>\n",
       "    <tr>\n",
       "      <th>25%</th>\n",
       "      <td>8,372,375.50</td>\n",
       "      <td>14.39</td>\n",
       "      <td>0.32</td>\n",
       "    </tr>\n",
       "    <tr>\n",
       "      <th>50%</th>\n",
       "      <td>11,163,501.00</td>\n",
       "      <td>17.68</td>\n",
       "      <td>0.47</td>\n",
       "    </tr>\n",
       "    <tr>\n",
       "      <th>75%</th>\n",
       "      <td>14,396,680.50</td>\n",
       "      <td>21.76</td>\n",
       "      <td>0.79</td>\n",
       "    </tr>\n",
       "    <tr>\n",
       "      <th>max</th>\n",
       "      <td>77,562,782.00</td>\n",
       "      <td>34.27</td>\n",
       "      <td>11.25</td>\n",
       "    </tr>\n",
       "  </tbody>\n",
       "</table>\n",
       "</div>"
      ],
      "text/plain": [
       "            revenue  discount_rate  coupon_rate\n",
       "count      1,795.00       1,795.00     1,795.00\n",
       "mean  11,884,191.07          18.31         0.86\n",
       "std    5,139,488.85           4.98         1.23\n",
       "min    3,820,099.00           7.93         0.18\n",
       "25%    8,372,375.50          14.39         0.32\n",
       "50%   11,163,501.00          17.68         0.47\n",
       "75%   14,396,680.50          21.76         0.79\n",
       "max   77,562,782.00          34.27        11.25"
      ]
     },
     "execution_count": 105,
     "metadata": {},
     "output_type": "execute_result"
    }
   ],
   "source": [
    "sales_df.describe()"
   ]
  },
  {
   "cell_type": "code",
   "execution_count": 106,
   "id": "388ded04",
   "metadata": {},
   "outputs": [
    {
     "data": {
      "text/plain": [
       "revenue          0\n",
       "discount_rate    0\n",
       "coupon_rate      0\n",
       "dtype: int64"
      ]
     },
     "execution_count": 106,
     "metadata": {},
     "output_type": "execute_result"
    }
   ],
   "source": [
    "sales_df.isna().sum()"
   ]
  },
  {
   "cell_type": "code",
   "execution_count": 107,
   "id": "53f7fab1",
   "metadata": {},
   "outputs": [
    {
     "data": {
      "text/plain": [
       "revenue         77,562,782.00\n",
       "discount_rate           32.02\n",
       "coupon_rate              1.26\n",
       "Name: 2021-11-26 00:00:00, dtype: float64"
      ]
     },
     "execution_count": 107,
     "metadata": {},
     "output_type": "execute_result"
    }
   ],
   "source": [
    "sales_df.loc[sales_df[\"revenue\"].idxmax()]"
   ]
  },
  {
   "cell_type": "code",
   "execution_count": 108,
   "id": "8b24778e",
   "metadata": {},
   "outputs": [
    {
     "data": {
      "text/plain": [
       "revenue         3,820,099.00\n",
       "discount_rate          22.24\n",
       "coupon_rate             1.44\n",
       "Name: 2018-12-31 00:00:00, dtype: float64"
      ]
     },
     "execution_count": 108,
     "metadata": {},
     "output_type": "execute_result"
    }
   ],
   "source": [
    "sales_df.loc[sales_df[\"revenue\"].idxmin()]"
   ]
  },
  {
   "cell_type": "code",
   "execution_count": 109,
   "id": "824a4f22",
   "metadata": {},
   "outputs": [
    {
     "data": {
      "image/png": "[encoded data removed]",
      "text/plain": [
       "<Figure size 1200x400 with 2 Axes>"
      ]
     },
     "metadata": {},
     "output_type": "display_data"
    }
   ],
   "source": [
    "plt.figure(figsize=(12,4))\n",
    "ax = sales_df[\"revenue\"].plot(legend=True)\n",
    "ax = sales_df[\"discount_rate\"].plot(secondary_y=True, legend=True)\n",
    "plt.show()"
   ]
  },
  {
   "cell_type": "code",
   "execution_count": 110,
   "id": "08dc0eca",
   "metadata": {},
   "outputs": [
    {
     "data": {
      "application/vnd.plotly.v1+json": {
       "config": {
        "plotlyServerURL": "https://plot.ly"
       },
       "data": [
        {
         "hovertemplate": "revenue=%{x}<br>discount_rate=%{y}<extra></extra>",
         "legendgroup": "",
         "marker": {
          "color": "#636efa",
          "symbol": "circle"
         },
         "mode": "markers",
         "name": "",
         "showlegend": false,
         "type": "scattergl",
         "x": {
          "bdata": "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",
          "dtype": "f8"
         },
         "xaxis": "x",
         "y": {
          "bdata": "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",
          "dtype": "f8"
         },
         "yaxis": "y"
        }
       ],
       "layout": {
        "legend": {
         "tracegroupgap": 0
        },
        "margin": {
         "t": 60
        },
        "template": {
         "data": {
          "bar": [
           {
            "error_x": {
             "color": "#2a3f5f"
            },
            "error_y": {
             "color": "#2a3f5f"
            },
            "marker": {
             "line": {
              "color": "#E5ECF6",
              "width": 0.5
             },
             "pattern": {
              "fillmode": "overlay",
              "size": 10,
              "solidity": 0.2
             }
            },
            "type": "bar"
           }
          ],
          "barpolar": [
           {
            "marker": {
             "line": {
              "color": "#E5ECF6",
              "width": 0.5
             },
             "pattern": {
              "fillmode": "overlay",
              "size": 10,
              "solidity": 0.2
             }
            },
            "type": "barpolar"
           }
          ],
          "carpet": [
           {
            "aaxis": {
             "endlinecolor": "#2a3f5f",
             "gridcolor": "white",
             "linecolor": "white",
             "minorgridcolor": "white",
             "startlinecolor": "#2a3f5f"
            },
            "baxis": {
             "endlinecolor": "#2a3f5f",
             "gridcolor": "white",
             "linecolor": "white",
             "minorgridcolor": "white",
             "startlinecolor": "#2a3f5f"
            },
            "type": "carpet"
           }
          ],
          "choropleth": [
           {
            "colorbar": {
             "outlinewidth": 0,
             "ticks": ""
            },
            "type": "choropleth"
           }
          ],
          "contour": [
           {
            "colorbar": {
             "outlinewidth": 0,
             "ticks": ""
            },
            "colorscale": [
             [
              0,
              "#0d0887"
             ],
             [
              0.1111111111111111,
              "#46039f"
             ],
             [
              0.2222222222222222,
              "#7201a8"
             ],
             [
              0.3333333333333333,
              "#9c179e"
             ],
             [
              0.4444444444444444,
              "#bd3786"
             ],
             [
              0.5555555555555556,
              "#d8576b"
             ],
             [
              0.6666666666666666,
              "#ed7953"
             ],
             [
              0.7777777777777778,
              "#fb9f3a"
             ],
             [
              0.8888888888888888,
              "#fdca26"
             ],
             [
              1,
              "#f0f921"
             ]
            ],
            "type": "contour"
           }
          ],
          "contourcarpet": [
           {
            "colorbar": {
             "outlinewidth": 0,
             "ticks": ""
            },
            "type": "contourcarpet"
           }
          ],
          "heatmap": [
           {
            "colorbar": {
             "outlinewidth": 0,
             "ticks": ""
            },
            "colorscale": [
             [
              0,
              "#0d0887"
             ],
             [
              0.1111111111111111,
              "#46039f"
             ],
             [
              0.2222222222222222,
              "#7201a8"
             ],
             [
              0.3333333333333333,
              "#9c179e"
             ],
             [
              0.4444444444444444,
              "#bd3786"
             ],
             [
              0.5555555555555556,
              "#d8576b"
             ],
             [
              0.6666666666666666,
              "#ed7953"
             ],
             [
              0.7777777777777778,
              "#fb9f3a"
             ],
             [
              0.8888888888888888,
              "#fdca26"
             ],
             [
              1,
              "#f0f921"
             ]
            ],
            "type": "heatmap"
           }
          ],
          "histogram": [
           {
            "marker": {
             "pattern": {
              "fillmode": "overlay",
              "size": 10,
              "solidity": 0.2
             }
            },
            "type": "histogram"
           }
          ],
          "histogram2d": [
           {
            "colorbar": {
             "outlinewidth": 0,
             "ticks": ""
            },
            "colorscale": [
             [
              0,
              "#0d0887"
             ],
             [
              0.1111111111111111,
              "#46039f"
             ],
             [
              0.2222222222222222,
              "#7201a8"
             ],
             [
              0.3333333333333333,
              "#9c179e"
             ],
             [
              0.4444444444444444,
              "#bd3786"
             ],
             [
              0.5555555555555556,
              "#d8576b"
             ],
             [
              0.6666666666666666,
              "#ed7953"
             ],
             [
              0.7777777777777778,
              "#fb9f3a"
             ],
             [
              0.8888888888888888,
              "#fdca26"
             ],
             [
              1,
              "#f0f921"
             ]
            ],
            "type": "histogram2d"
           }
          ],
          "histogram2dcontour": [
           {
            "colorbar": {
             "outlinewidth": 0,
             "ticks": ""
            },
            "colorscale": [
             [
              0,
              "#0d0887"
             ],
             [
              0.1111111111111111,
              "#46039f"
             ],
             [
              0.2222222222222222,
              "#7201a8"
             ],
             [
              0.3333333333333333,
              "#9c179e"
             ],
             [
              0.4444444444444444,
              "#bd3786"
             ],
             [
              0.5555555555555556,
              "#d8576b"
             ],
             [
              0.6666666666666666,
              "#ed7953"
             ],
             [
              0.7777777777777778,
              "#fb9f3a"
             ],
             [
              0.8888888888888888,
              "#fdca26"
             ],
             [
              1,
              "#f0f921"
             ]
            ],
            "type": "histogram2dcontour"
           }
          ],
          "mesh3d": [
           {
            "colorbar": {
             "outlinewidth": 0,
             "ticks": ""
            },
            "type": "mesh3d"
           }
          ],
          "parcoords": [
           {
            "line": {
             "colorbar": {
              "outlinewidth": 0,
              "ticks": ""
             }
            },
            "type": "parcoords"
           }
          ],
          "pie": [
           {
            "automargin": true,
            "type": "pie"
           }
          ],
          "scatter": [
           {
            "fillpattern": {
             "fillmode": "overlay",
             "size": 10,
             "solidity": 0.2
            },
            "type": "scatter"
           }
          ],
          "scatter3d": [
           {
            "line": {
             "colorbar": {
              "outlinewidth": 0,
              "ticks": ""
             }
            },
            "marker": {
             "colorbar": {
              "outlinewidth": 0,
              "ticks": ""
             }
            },
            "type": "scatter3d"
           }
          ],
          "scattercarpet": [
           {
            "marker": {
             "colorbar": {
              "outlinewidth": 0,
              "ticks": ""
             }
            },
            "type": "scattercarpet"
           }
          ],
          "scattergeo": [
           {
            "marker": {
             "colorbar": {
              "outlinewidth": 0,
              "ticks": ""
             }
            },
            "type": "scattergeo"
           }
          ],
          "scattergl": [
           {
            "marker": {
             "colorbar": {
              "outlinewidth": 0,
              "ticks": ""
             }
            },
            "type": "scattergl"
           }
          ],
          "scattermap": [
           {
            "marker": {
             "colorbar": {
              "outlinewidth": 0,
              "ticks": ""
             }
            },
            "type": "scattermap"
           }
          ],
          "scattermapbox": [
           {
            "marker": {
             "colorbar": {
              "outlinewidth": 0,
              "ticks": ""
             }
            },
            "type": "scattermapbox"
           }
          ],
          "scatterpolar": [
           {
            "marker": {
             "colorbar": {
              "outlinewidth": 0,
              "ticks": ""
             }
            },
            "type": "scatterpolar"
           }
          ],
          "scatterpolargl": [
           {
            "marker": {
             "colorbar": {
              "outlinewidth": 0,
              "ticks": ""
             }
            },
            "type": "scatterpolargl"
           }
          ],
          "scatterternary": [
           {
            "marker": {
             "colorbar": {
              "outlinewidth": 0,
              "ticks": ""
             }
            },
            "type": "scatterternary"
           }
          ],
          "surface": [
           {
            "colorbar": {
             "outlinewidth": 0,
             "ticks": ""
            },
            "colorscale": [
             [
              0,
              "#0d0887"
             ],
             [
              0.1111111111111111,
              "#46039f"
             ],
             [
              0.2222222222222222,
              "#7201a8"
             ],
             [
              0.3333333333333333,
              "#9c179e"
             ],
             [
              0.4444444444444444,
              "#bd3786"
             ],
             [
              0.5555555555555556,
              "#d8576b"
             ],
             [
              0.6666666666666666,
              "#ed7953"
             ],
             [
              0.7777777777777778,
              "#fb9f3a"
             ],
             [
              0.8888888888888888,
              "#fdca26"
             ],
             [
              1,
              "#f0f921"
             ]
            ],
            "type": "surface"
           }
          ],
          "table": [
           {
            "cells": {
             "fill": {
              "color": "#EBF0F8"
             },
             "line": {
              "color": "white"
             }
            },
            "header": {
             "fill": {
              "color": "#C8D4E3"
             },
             "line": {
              "color": "white"
             }
            },
            "type": "table"
           }
          ]
         },
         "layout": {
          "annotationdefaults": {
           "arrowcolor": "#2a3f5f",
           "arrowhead": 0,
           "arrowwidth": 1
          },
          "autotypenumbers": "strict",
          "coloraxis": {
           "colorbar": {
            "outlinewidth": 0,
            "ticks": ""
           }
          },
          "colorscale": {
           "diverging": [
            [
             0,
             "#8e0152"
            ],
            [
             0.1,
             "#c51b7d"
            ],
            [
             0.2,
             "#de77ae"
            ],
            [
             0.3,
             "#f1b6da"
            ],
            [
             0.4,
             "#fde0ef"
            ],
            [
             0.5,
             "#f7f7f7"
            ],
            [
             0.6,
             "#e6f5d0"
            ],
            [
             0.7,
             "#b8e186"
            ],
            [
             0.8,
             "#7fbc41"
            ],
            [
             0.9,
             "#4d9221"
            ],
            [
             1,
             "#276419"
            ]
           ],
           "sequential": [
            [
             0,
             "#0d0887"
            ],
            [
             0.1111111111111111,
             "#46039f"
            ],
            [
             0.2222222222222222,
             "#7201a8"
            ],
            [
             0.3333333333333333,
             "#9c179e"
            ],
            [
             0.4444444444444444,
             "#bd3786"
            ],
            [
             0.5555555555555556,
             "#d8576b"
            ],
            [
             0.6666666666666666,
             "#ed7953"
            ],
            [
             0.7777777777777778,
             "#fb9f3a"
            ],
            [
             0.8888888888888888,
             "#fdca26"
            ],
            [
             1,
             "#f0f921"
            ]
           ],
           "sequentialminus": [
            [
             0,
             "#0d0887"
            ],
            [
             0.1111111111111111,
             "#46039f"
            ],
            [
             0.2222222222222222,
             "#7201a8"
            ],
            [
             0.3333333333333333,
             "#9c179e"
            ],
            [
             0.4444444444444444,
             "#bd3786"
            ],
            [
             0.5555555555555556,
             "#d8576b"
            ],
            [
             0.6666666666666666,
             "#ed7953"
            ],
            [
             0.7777777777777778,
             "#fb9f3a"
            ],
            [
             0.8888888888888888,
             "#fdca26"
            ],
            [
             1,
             "#f0f921"
            ]
           ]
          },
          "colorway": [
           "#636efa",
           "#EF553B",
           "#00cc96",
           "#ab63fa",
           "#FFA15A",
           "#19d3f3",
           "#FF6692",
           "#B6E880",
           "#FF97FF",
           "#FECB52"
          ],
          "font": {
           "color": "#2a3f5f"
          },
          "geo": {
           "bgcolor": "white",
           "lakecolor": "white",
           "landcolor": "#E5ECF6",
           "showlakes": true,
           "showland": true,
           "subunitcolor": "white"
          },
          "hoverlabel": {
           "align": "left"
          },
          "hovermode": "closest",
          "mapbox": {
           "style": "light"
          },
          "paper_bgcolor": "white",
          "plot_bgcolor": "#E5ECF6",
          "polar": {
           "angularaxis": {
            "gridcolor": "white",
            "linecolor": "white",
            "ticks": ""
           },
           "bgcolor": "#E5ECF6",
           "radialaxis": {
            "gridcolor": "white",
            "linecolor": "white",
            "ticks": ""
           }
          },
          "scene": {
           "xaxis": {
            "backgroundcolor": "#E5ECF6",
            "gridcolor": "white",
            "gridwidth": 2,
            "linecolor": "white",
            "showbackground": true,
            "ticks": "",
            "zerolinecolor": "white"
           },
           "yaxis": {
            "backgroundcolor": "#E5ECF6",
            "gridcolor": "white",
            "gridwidth": 2,
            "linecolor": "white",
            "showbackground": true,
            "ticks": "",
            "zerolinecolor": "white"
           },
           "zaxis": {
            "backgroundcolor": "#E5ECF6",
            "gridcolor": "white",
            "gridwidth": 2,
            "linecolor": "white",
            "showbackground": true,
            "ticks": "",
            "zerolinecolor": "white"
           }
          },
          "shapedefaults": {
           "line": {
            "color": "#2a3f5f"
           }
          },
          "ternary": {
           "aaxis": {
            "gridcolor": "white",
            "linecolor": "white",
            "ticks": ""
           },
           "baxis": {
            "gridcolor": "white",
            "linecolor": "white",
            "ticks": ""
           },
           "bgcolor": "#E5ECF6",
           "caxis": {
            "gridcolor": "white",
            "linecolor": "white",
            "ticks": ""
           }
          },
          "title": {
           "x": 0.05
          },
          "xaxis": {
           "automargin": true,
           "gridcolor": "white",
           "linecolor": "white",
           "ticks": "",
           "title": {
            "standoff": 15
           },
           "zerolinecolor": "white",
           "zerolinewidth": 2
          },
          "yaxis": {
           "automargin": true,
           "gridcolor": "white",
           "linecolor": "white",
           "ticks": "",
           "title": {
            "standoff": 15
           },
           "zerolinecolor": "white",
           "zerolinewidth": 2
          }
         }
        },
        "xaxis": {
         "anchor": "y",
         "domain": [
          0,
          1
         ],
         "title": {
          "text": "revenue"
         }
        },
        "yaxis": {
         "anchor": "x",
         "domain": [
          0,
          1
         ],
         "title": {
          "text": "discount_rate"
         }
        }
       }
      }
     },
     "metadata": {},
     "output_type": "display_data"
    }
   ],
   "source": [
    "px.scatter(sales_df, x=\"revenue\", y=\"discount_rate\")"
   ]
  },
  {
   "cell_type": "code",
   "execution_count": 111,
   "id": "74f08ee7",
   "metadata": {},
   "outputs": [
    {
     "data": {
      "text/html": [
       "<div>\n",
       "<style scoped>\n",
       "    .dataframe tbody tr th:only-of-type {\n",
       "        vertical-align: middle;\n",
       "    }\n",
       "\n",
       "    .dataframe tbody tr th {\n",
       "        vertical-align: top;\n",
       "    }\n",
       "\n",
       "    .dataframe thead tr th {\n",
       "        text-align: left;\n",
       "    }\n",
       "\n",
       "    .dataframe thead tr:last-of-type th {\n",
       "        text-align: right;\n",
       "    }\n",
       "</style>\n",
       "<table border=\"1\" class=\"dataframe\">\n",
       "  <thead>\n",
       "    <tr>\n",
       "      <th></th>\n",
       "      <th colspan=\"2\" halign=\"left\">revenue</th>\n",
       "      <th colspan=\"2\" halign=\"left\">discount_rate</th>\n",
       "      <th colspan=\"2\" halign=\"left\">coupon_rate</th>\n",
       "    </tr>\n",
       "    <tr>\n",
       "      <th></th>\n",
       "      <th>mean</th>\n",
       "      <th>sum</th>\n",
       "      <th>mean</th>\n",
       "      <th>sum</th>\n",
       "      <th>mean</th>\n",
       "      <th>sum</th>\n",
       "    </tr>\n",
       "    <tr>\n",
       "      <th>date</th>\n",
       "      <th></th>\n",
       "      <th></th>\n",
       "      <th></th>\n",
       "      <th></th>\n",
       "      <th></th>\n",
       "      <th></th>\n",
       "    </tr>\n",
       "  </thead>\n",
       "  <tbody>\n",
       "    <tr>\n",
       "      <th>2018-12-31</th>\n",
       "      <td>7,695,890.25</td>\n",
       "      <td>2,808,999,940.00</td>\n",
       "      <td>16.54</td>\n",
       "      <td>6,038.62</td>\n",
       "      <td>1.07</td>\n",
       "      <td>389.44</td>\n",
       "    </tr>\n",
       "    <tr>\n",
       "      <th>2019-12-31</th>\n",
       "      <td>9,246,480.80</td>\n",
       "      <td>3,374,965,492.00</td>\n",
       "      <td>17.46</td>\n",
       "      <td>6,373.42</td>\n",
       "      <td>0.83</td>\n",
       "      <td>302.05</td>\n",
       "    </tr>\n",
       "    <tr>\n",
       "      <th>2020-12-31</th>\n",
       "      <td>11,835,948.19</td>\n",
       "      <td>4,331,957,037.00</td>\n",
       "      <td>18.13</td>\n",
       "      <td>6,634.78</td>\n",
       "      <td>0.64</td>\n",
       "      <td>234.74</td>\n",
       "    </tr>\n",
       "    <tr>\n",
       "      <th>2021-12-31</th>\n",
       "      <td>15,553,486.61</td>\n",
       "      <td>5,677,022,611.00</td>\n",
       "      <td>19.12</td>\n",
       "      <td>6,978.23</td>\n",
       "      <td>0.81</td>\n",
       "      <td>295.05</td>\n",
       "    </tr>\n",
       "    <tr>\n",
       "      <th>2022-12-31</th>\n",
       "      <td>15,386,760.17</td>\n",
       "      <td>5,139,177,898.00</td>\n",
       "      <td>20.48</td>\n",
       "      <td>6,841.10</td>\n",
       "      <td>0.96</td>\n",
       "      <td>321.49</td>\n",
       "    </tr>\n",
       "  </tbody>\n",
       "</table>\n",
       "</div>"
      ],
      "text/plain": [
       "                 revenue                  discount_rate          coupon_rate  \\\n",
       "                    mean              sum          mean      sum        mean   \n",
       "date                                                                           \n",
       "2018-12-31  7,695,890.25 2,808,999,940.00         16.54 6,038.62        1.07   \n",
       "2019-12-31  9,246,480.80 3,374,965,492.00         17.46 6,373.42        0.83   \n",
       "2020-12-31 11,835,948.19 4,331,957,037.00         18.13 6,634.78        0.64   \n",
       "2021-12-31 15,553,486.61 5,677,022,611.00         19.12 6,978.23        0.81   \n",
       "2022-12-31 15,386,760.17 5,139,177,898.00         20.48 6,841.10        0.96   \n",
       "\n",
       "                   \n",
       "              sum  \n",
       "date               \n",
       "2018-12-31 389.44  \n",
       "2019-12-31 302.05  \n",
       "2020-12-31 234.74  \n",
       "2021-12-31 295.05  \n",
       "2022-12-31 321.49  "
      ]
     },
     "execution_count": 111,
     "metadata": {},
     "output_type": "execute_result"
    }
   ],
   "source": [
    "sales_df.resample(\"YE\").agg([\"mean\", \"sum\"])"
   ]
  },
  {
   "cell_type": "code",
   "execution_count": 112,
   "id": "477dedc6",
   "metadata": {},
   "outputs": [
    {
     "data": {
      "text/html": [
       "<div>\n",
       "<style scoped>\n",
       "    .dataframe tbody tr th:only-of-type {\n",
       "        vertical-align: middle;\n",
       "    }\n",
       "\n",
       "    .dataframe tbody tr th {\n",
       "        vertical-align: top;\n",
       "    }\n",
       "\n",
       "    .dataframe thead tr th {\n",
       "        text-align: left;\n",
       "    }\n",
       "\n",
       "    .dataframe thead tr:last-of-type th {\n",
       "        text-align: right;\n",
       "    }\n",
       "</style>\n",
       "<table border=\"1\" class=\"dataframe\">\n",
       "  <thead>\n",
       "    <tr>\n",
       "      <th></th>\n",
       "      <th colspan=\"2\" halign=\"left\">revenue</th>\n",
       "      <th colspan=\"2\" halign=\"left\">discount_rate</th>\n",
       "      <th colspan=\"2\" halign=\"left\">coupon_rate</th>\n",
       "    </tr>\n",
       "    <tr>\n",
       "      <th></th>\n",
       "      <th>mean</th>\n",
       "      <th>sum</th>\n",
       "      <th>mean</th>\n",
       "      <th>sum</th>\n",
       "      <th>mean</th>\n",
       "      <th>sum</th>\n",
       "    </tr>\n",
       "    <tr>\n",
       "      <th>date</th>\n",
       "      <th></th>\n",
       "      <th></th>\n",
       "      <th></th>\n",
       "      <th></th>\n",
       "      <th></th>\n",
       "      <th></th>\n",
       "    </tr>\n",
       "  </thead>\n",
       "  <tbody>\n",
       "    <tr>\n",
       "      <th>2018-01-31</th>\n",
       "      <td>6,897,600.42</td>\n",
       "      <td>213,825,613.00</td>\n",
       "      <td>25.49</td>\n",
       "      <td>790.21</td>\n",
       "      <td>1.59</td>\n",
       "      <td>49.14</td>\n",
       "    </tr>\n",
       "    <tr>\n",
       "      <th>2018-02-28</th>\n",
       "      <td>6,090,103.36</td>\n",
       "      <td>170,522,894.00</td>\n",
       "      <td>20.10</td>\n",
       "      <td>562.73</td>\n",
       "      <td>0.97</td>\n",
       "      <td>27.03</td>\n",
       "    </tr>\n",
       "    <tr>\n",
       "      <th>2018-03-31</th>\n",
       "      <td>7,329,328.84</td>\n",
       "      <td>227,209,194.00</td>\n",
       "      <td>13.72</td>\n",
       "      <td>425.19</td>\n",
       "      <td>1.60</td>\n",
       "      <td>49.73</td>\n",
       "    </tr>\n",
       "    <tr>\n",
       "      <th>2018-04-30</th>\n",
       "      <td>8,306,952.90</td>\n",
       "      <td>249,208,587.00</td>\n",
       "      <td>12.45</td>\n",
       "      <td>373.64</td>\n",
       "      <td>0.93</td>\n",
       "      <td>27.85</td>\n",
       "    </tr>\n",
       "    <tr>\n",
       "      <th>2018-05-31</th>\n",
       "      <td>7,292,738.90</td>\n",
       "      <td>226,074,906.00</td>\n",
       "      <td>11.30</td>\n",
       "      <td>350.28</td>\n",
       "      <td>0.79</td>\n",
       "      <td>24.52</td>\n",
       "    </tr>\n",
       "    <tr>\n",
       "      <th>2018-06-30</th>\n",
       "      <td>7,570,532.00</td>\n",
       "      <td>227,115,960.00</td>\n",
       "      <td>16.94</td>\n",
       "      <td>508.27</td>\n",
       "      <td>0.70</td>\n",
       "      <td>21.13</td>\n",
       "    </tr>\n",
       "    <tr>\n",
       "      <th>2018-07-31</th>\n",
       "      <td>6,707,990.03</td>\n",
       "      <td>207,947,691.00</td>\n",
       "      <td>24.63</td>\n",
       "      <td>763.68</td>\n",
       "      <td>1.76</td>\n",
       "      <td>54.64</td>\n",
       "    </tr>\n",
       "    <tr>\n",
       "      <th>2018-08-31</th>\n",
       "      <td>6,196,928.74</td>\n",
       "      <td>192,104,791.00</td>\n",
       "      <td>15.07</td>\n",
       "      <td>467.19</td>\n",
       "      <td>0.73</td>\n",
       "      <td>22.76</td>\n",
       "    </tr>\n",
       "    <tr>\n",
       "      <th>2018-09-30</th>\n",
       "      <td>8,058,145.77</td>\n",
       "      <td>241,744,373.00</td>\n",
       "      <td>10.98</td>\n",
       "      <td>329.39</td>\n",
       "      <td>1.27</td>\n",
       "      <td>38.02</td>\n",
       "    </tr>\n",
       "    <tr>\n",
       "      <th>2018-10-31</th>\n",
       "      <td>8,865,112.10</td>\n",
       "      <td>274,818,475.00</td>\n",
       "      <td>14.63</td>\n",
       "      <td>453.57</td>\n",
       "      <td>0.90</td>\n",
       "      <td>28.01</td>\n",
       "    </tr>\n",
       "    <tr>\n",
       "      <th>2018-11-30</th>\n",
       "      <td>10,575,425.83</td>\n",
       "      <td>317,262,775.00</td>\n",
       "      <td>15.05</td>\n",
       "      <td>451.39</td>\n",
       "      <td>0.58</td>\n",
       "      <td>17.39</td>\n",
       "    </tr>\n",
       "    <tr>\n",
       "      <th>2018-12-31</th>\n",
       "      <td>8,424,667.13</td>\n",
       "      <td>261,164,681.00</td>\n",
       "      <td>18.16</td>\n",
       "      <td>563.08</td>\n",
       "      <td>0.94</td>\n",
       "      <td>29.22</td>\n",
       "    </tr>\n",
       "    <tr>\n",
       "      <th>2019-01-31</th>\n",
       "      <td>7,846,647.45</td>\n",
       "      <td>243,246,071.00</td>\n",
       "      <td>24.11</td>\n",
       "      <td>747.36</td>\n",
       "      <td>0.73</td>\n",
       "      <td>22.65</td>\n",
       "    </tr>\n",
       "    <tr>\n",
       "      <th>2019-02-28</th>\n",
       "      <td>7,464,455.39</td>\n",
       "      <td>209,004,751.00</td>\n",
       "      <td>17.53</td>\n",
       "      <td>490.94</td>\n",
       "      <td>1.32</td>\n",
       "      <td>36.86</td>\n",
       "    </tr>\n",
       "    <tr>\n",
       "      <th>2019-03-31</th>\n",
       "      <td>9,039,179.90</td>\n",
       "      <td>280,214,577.00</td>\n",
       "      <td>13.73</td>\n",
       "      <td>425.64</td>\n",
       "      <td>0.96</td>\n",
       "      <td>29.75</td>\n",
       "    </tr>\n",
       "    <tr>\n",
       "      <th>2019-04-30</th>\n",
       "      <td>8,896,786.20</td>\n",
       "      <td>266,903,586.00</td>\n",
       "      <td>13.40</td>\n",
       "      <td>402.12</td>\n",
       "      <td>0.59</td>\n",
       "      <td>17.73</td>\n",
       "    </tr>\n",
       "    <tr>\n",
       "      <th>2019-05-31</th>\n",
       "      <td>9,176,974.45</td>\n",
       "      <td>284,486,208.00</td>\n",
       "      <td>14.27</td>\n",
       "      <td>442.51</td>\n",
       "      <td>0.52</td>\n",
       "      <td>16.08</td>\n",
       "    </tr>\n",
       "    <tr>\n",
       "      <th>2019-06-30</th>\n",
       "      <td>9,578,320.73</td>\n",
       "      <td>287,349,622.00</td>\n",
       "      <td>17.60</td>\n",
       "      <td>528.12</td>\n",
       "      <td>0.98</td>\n",
       "      <td>29.30</td>\n",
       "    </tr>\n",
       "    <tr>\n",
       "      <th>2019-07-31</th>\n",
       "      <td>7,722,037.19</td>\n",
       "      <td>239,383,153.00</td>\n",
       "      <td>22.95</td>\n",
       "      <td>711.47</td>\n",
       "      <td>1.12</td>\n",
       "      <td>34.66</td>\n",
       "    </tr>\n",
       "    <tr>\n",
       "      <th>2019-08-31</th>\n",
       "      <td>7,722,920.61</td>\n",
       "      <td>239,410,539.00</td>\n",
       "      <td>18.18</td>\n",
       "      <td>563.46</td>\n",
       "      <td>1.04</td>\n",
       "      <td>32.13</td>\n",
       "    </tr>\n",
       "    <tr>\n",
       "      <th>2019-09-30</th>\n",
       "      <td>9,746,084.77</td>\n",
       "      <td>292,382,543.00</td>\n",
       "      <td>13.23</td>\n",
       "      <td>396.79</td>\n",
       "      <td>0.42</td>\n",
       "      <td>12.54</td>\n",
       "    </tr>\n",
       "    <tr>\n",
       "      <th>2019-10-31</th>\n",
       "      <td>10,422,266.39</td>\n",
       "      <td>323,090,258.00</td>\n",
       "      <td>15.99</td>\n",
       "      <td>495.59</td>\n",
       "      <td>1.20</td>\n",
       "      <td>37.17</td>\n",
       "    </tr>\n",
       "    <tr>\n",
       "      <th>2019-11-30</th>\n",
       "      <td>13,753,225.67</td>\n",
       "      <td>412,596,770.00</td>\n",
       "      <td>18.24</td>\n",
       "      <td>547.29</td>\n",
       "      <td>0.53</td>\n",
       "      <td>16.03</td>\n",
       "    </tr>\n",
       "    <tr>\n",
       "      <th>2019-12-31</th>\n",
       "      <td>9,577,335.94</td>\n",
       "      <td>296,897,414.00</td>\n",
       "      <td>20.07</td>\n",
       "      <td>622.13</td>\n",
       "      <td>0.55</td>\n",
       "      <td>17.15</td>\n",
       "    </tr>\n",
       "    <tr>\n",
       "      <th>2020-01-31</th>\n",
       "      <td>9,442,137.06</td>\n",
       "      <td>292,706,249.00</td>\n",
       "      <td>26.65</td>\n",
       "      <td>826.29</td>\n",
       "      <td>1.25</td>\n",
       "      <td>38.72</td>\n",
       "    </tr>\n",
       "    <tr>\n",
       "      <th>2020-02-29</th>\n",
       "      <td>8,433,784.17</td>\n",
       "      <td>244,579,741.00</td>\n",
       "      <td>17.76</td>\n",
       "      <td>515.06</td>\n",
       "      <td>0.42</td>\n",
       "      <td>12.06</td>\n",
       "    </tr>\n",
       "    <tr>\n",
       "      <th>2020-03-31</th>\n",
       "      <td>9,606,225.52</td>\n",
       "      <td>297,792,991.00</td>\n",
       "      <td>17.13</td>\n",
       "      <td>531.06</td>\n",
       "      <td>0.99</td>\n",
       "      <td>30.57</td>\n",
       "    </tr>\n",
       "    <tr>\n",
       "      <th>2020-04-30</th>\n",
       "      <td>12,543,906.53</td>\n",
       "      <td>376,317,196.00</td>\n",
       "      <td>14.65</td>\n",
       "      <td>439.37</td>\n",
       "      <td>0.43</td>\n",
       "      <td>12.87</td>\n",
       "    </tr>\n",
       "    <tr>\n",
       "      <th>2020-05-31</th>\n",
       "      <td>11,604,141.26</td>\n",
       "      <td>359,728,379.00</td>\n",
       "      <td>15.33</td>\n",
       "      <td>475.28</td>\n",
       "      <td>0.40</td>\n",
       "      <td>12.26</td>\n",
       "    </tr>\n",
       "    <tr>\n",
       "      <th>2020-06-30</th>\n",
       "      <td>11,808,399.23</td>\n",
       "      <td>354,251,977.00</td>\n",
       "      <td>18.93</td>\n",
       "      <td>567.81</td>\n",
       "      <td>0.33</td>\n",
       "      <td>10.04</td>\n",
       "    </tr>\n",
       "    <tr>\n",
       "      <th>2020-07-31</th>\n",
       "      <td>10,358,588.42</td>\n",
       "      <td>321,116,241.00</td>\n",
       "      <td>20.26</td>\n",
       "      <td>628.21</td>\n",
       "      <td>0.63</td>\n",
       "      <td>19.40</td>\n",
       "    </tr>\n",
       "    <tr>\n",
       "      <th>2020-08-31</th>\n",
       "      <td>10,004,561.74</td>\n",
       "      <td>310,141,414.00</td>\n",
       "      <td>17.62</td>\n",
       "      <td>546.10</td>\n",
       "      <td>0.76</td>\n",
       "      <td>23.56</td>\n",
       "    </tr>\n",
       "    <tr>\n",
       "      <th>2020-09-30</th>\n",
       "      <td>12,562,371.30</td>\n",
       "      <td>376,871,139.00</td>\n",
       "      <td>14.75</td>\n",
       "      <td>442.50</td>\n",
       "      <td>0.68</td>\n",
       "      <td>20.39</td>\n",
       "    </tr>\n",
       "    <tr>\n",
       "      <th>2020-10-31</th>\n",
       "      <td>13,986,094.29</td>\n",
       "      <td>433,568,923.00</td>\n",
       "      <td>14.57</td>\n",
       "      <td>451.76</td>\n",
       "      <td>0.51</td>\n",
       "      <td>15.77</td>\n",
       "    </tr>\n",
       "    <tr>\n",
       "      <th>2020-11-30</th>\n",
       "      <td>18,319,739.63</td>\n",
       "      <td>549,592,189.00</td>\n",
       "      <td>19.02</td>\n",
       "      <td>570.57</td>\n",
       "      <td>0.87</td>\n",
       "      <td>26.05</td>\n",
       "    </tr>\n",
       "    <tr>\n",
       "      <th>2020-12-31</th>\n",
       "      <td>13,396,470.90</td>\n",
       "      <td>415,290,598.00</td>\n",
       "      <td>20.67</td>\n",
       "      <td>640.77</td>\n",
       "      <td>0.42</td>\n",
       "      <td>13.05</td>\n",
       "    </tr>\n",
       "    <tr>\n",
       "      <th>2021-01-31</th>\n",
       "      <td>14,425,610.55</td>\n",
       "      <td>447,193,927.00</td>\n",
       "      <td>27.64</td>\n",
       "      <td>856.91</td>\n",
       "      <td>0.90</td>\n",
       "      <td>28.04</td>\n",
       "    </tr>\n",
       "    <tr>\n",
       "      <th>2021-02-28</th>\n",
       "      <td>14,670,553.64</td>\n",
       "      <td>410,775,502.00</td>\n",
       "      <td>19.24</td>\n",
       "      <td>538.71</td>\n",
       "      <td>0.70</td>\n",
       "      <td>19.61</td>\n",
       "    </tr>\n",
       "    <tr>\n",
       "      <th>2021-03-31</th>\n",
       "      <td>14,478,946.65</td>\n",
       "      <td>448,847,346.00</td>\n",
       "      <td>14.86</td>\n",
       "      <td>460.56</td>\n",
       "      <td>0.29</td>\n",
       "      <td>9.04</td>\n",
       "    </tr>\n",
       "    <tr>\n",
       "      <th>2021-04-30</th>\n",
       "      <td>16,311,636.90</td>\n",
       "      <td>489,349,107.00</td>\n",
       "      <td>17.86</td>\n",
       "      <td>535.75</td>\n",
       "      <td>0.58</td>\n",
       "      <td>17.33</td>\n",
       "    </tr>\n",
       "    <tr>\n",
       "      <th>2021-05-31</th>\n",
       "      <td>16,595,986.10</td>\n",
       "      <td>514,475,569.00</td>\n",
       "      <td>15.37</td>\n",
       "      <td>476.55</td>\n",
       "      <td>0.53</td>\n",
       "      <td>16.30</td>\n",
       "    </tr>\n",
       "    <tr>\n",
       "      <th>2021-06-30</th>\n",
       "      <td>17,581,353.93</td>\n",
       "      <td>527,440,618.00</td>\n",
       "      <td>21.78</td>\n",
       "      <td>653.53</td>\n",
       "      <td>0.70</td>\n",
       "      <td>21.08</td>\n",
       "    </tr>\n",
       "    <tr>\n",
       "      <th>2021-07-31</th>\n",
       "      <td>12,338,371.23</td>\n",
       "      <td>382,489,508.00</td>\n",
       "      <td>21.99</td>\n",
       "      <td>681.61</td>\n",
       "      <td>1.01</td>\n",
       "      <td>31.34</td>\n",
       "    </tr>\n",
       "    <tr>\n",
       "      <th>2021-08-31</th>\n",
       "      <td>12,098,464.74</td>\n",
       "      <td>375,052,407.00</td>\n",
       "      <td>18.47</td>\n",
       "      <td>572.42</td>\n",
       "      <td>0.67</td>\n",
       "      <td>20.68</td>\n",
       "    </tr>\n",
       "    <tr>\n",
       "      <th>2021-09-30</th>\n",
       "      <td>13,810,407.23</td>\n",
       "      <td>414,312,217.00</td>\n",
       "      <td>14.97</td>\n",
       "      <td>449.09</td>\n",
       "      <td>1.00</td>\n",
       "      <td>29.99</td>\n",
       "    </tr>\n",
       "    <tr>\n",
       "      <th>2021-10-31</th>\n",
       "      <td>16,790,207.52</td>\n",
       "      <td>520,496,433.00</td>\n",
       "      <td>18.49</td>\n",
       "      <td>573.04</td>\n",
       "      <td>0.85</td>\n",
       "      <td>26.41</td>\n",
       "    </tr>\n",
       "    <tr>\n",
       "      <th>2021-11-30</th>\n",
       "      <td>21,947,358.77</td>\n",
       "      <td>658,420,763.00</td>\n",
       "      <td>19.98</td>\n",
       "      <td>599.55</td>\n",
       "      <td>1.29</td>\n",
       "      <td>38.58</td>\n",
       "    </tr>\n",
       "    <tr>\n",
       "      <th>2021-12-31</th>\n",
       "      <td>15,747,394.00</td>\n",
       "      <td>488,169,214.00</td>\n",
       "      <td>18.73</td>\n",
       "      <td>580.51</td>\n",
       "      <td>1.18</td>\n",
       "      <td>36.65</td>\n",
       "    </tr>\n",
       "    <tr>\n",
       "      <th>2022-01-31</th>\n",
       "      <td>13,929,726.00</td>\n",
       "      <td>431,821,506.00</td>\n",
       "      <td>25.93</td>\n",
       "      <td>803.83</td>\n",
       "      <td>1.15</td>\n",
       "      <td>35.60</td>\n",
       "    </tr>\n",
       "    <tr>\n",
       "      <th>2022-02-28</th>\n",
       "      <td>12,747,214.71</td>\n",
       "      <td>356,922,012.00</td>\n",
       "      <td>19.99</td>\n",
       "      <td>559.67</td>\n",
       "      <td>1.35</td>\n",
       "      <td>37.75</td>\n",
       "    </tr>\n",
       "    <tr>\n",
       "      <th>2022-03-31</th>\n",
       "      <td>14,195,213.39</td>\n",
       "      <td>440,051,615.00</td>\n",
       "      <td>15.97</td>\n",
       "      <td>495.12</td>\n",
       "      <td>0.77</td>\n",
       "      <td>23.77</td>\n",
       "    </tr>\n",
       "    <tr>\n",
       "      <th>2022-04-30</th>\n",
       "      <td>15,915,298.23</td>\n",
       "      <td>477,458,947.00</td>\n",
       "      <td>18.43</td>\n",
       "      <td>552.88</td>\n",
       "      <td>0.87</td>\n",
       "      <td>26.10</td>\n",
       "    </tr>\n",
       "    <tr>\n",
       "      <th>2022-05-31</th>\n",
       "      <td>16,700,685.45</td>\n",
       "      <td>517,721,249.00</td>\n",
       "      <td>16.08</td>\n",
       "      <td>498.56</td>\n",
       "      <td>0.67</td>\n",
       "      <td>20.63</td>\n",
       "    </tr>\n",
       "    <tr>\n",
       "      <th>2022-06-30</th>\n",
       "      <td>16,217,698.73</td>\n",
       "      <td>486,530,962.00</td>\n",
       "      <td>22.05</td>\n",
       "      <td>661.41</td>\n",
       "      <td>1.27</td>\n",
       "      <td>38.01</td>\n",
       "    </tr>\n",
       "    <tr>\n",
       "      <th>2022-07-31</th>\n",
       "      <td>12,807,782.81</td>\n",
       "      <td>397,041,267.00</td>\n",
       "      <td>23.92</td>\n",
       "      <td>741.63</td>\n",
       "      <td>0.47</td>\n",
       "      <td>14.45</td>\n",
       "    </tr>\n",
       "    <tr>\n",
       "      <th>2022-08-31</th>\n",
       "      <td>11,769,465.55</td>\n",
       "      <td>364,853,432.00</td>\n",
       "      <td>21.17</td>\n",
       "      <td>656.20</td>\n",
       "      <td>0.68</td>\n",
       "      <td>21.06</td>\n",
       "    </tr>\n",
       "    <tr>\n",
       "      <th>2022-09-30</th>\n",
       "      <td>16,441,144.43</td>\n",
       "      <td>493,234,333.00</td>\n",
       "      <td>18.27</td>\n",
       "      <td>548.11</td>\n",
       "      <td>1.22</td>\n",
       "      <td>36.67</td>\n",
       "    </tr>\n",
       "    <tr>\n",
       "      <th>2022-10-31</th>\n",
       "      <td>16,334,185.13</td>\n",
       "      <td>506,359,739.00</td>\n",
       "      <td>20.72</td>\n",
       "      <td>642.38</td>\n",
       "      <td>0.84</td>\n",
       "      <td>25.97</td>\n",
       "    </tr>\n",
       "    <tr>\n",
       "      <th>2022-11-30</th>\n",
       "      <td>22,239,427.87</td>\n",
       "      <td>667,182,836.00</td>\n",
       "      <td>22.71</td>\n",
       "      <td>681.31</td>\n",
       "      <td>1.38</td>\n",
       "      <td>41.48</td>\n",
       "    </tr>\n",
       "  </tbody>\n",
       "</table>\n",
       "</div>"
      ],
      "text/plain": [
       "                 revenue                discount_rate        coupon_rate      \n",
       "                    mean            sum          mean    sum        mean   sum\n",
       "date                                                                          \n",
       "2018-01-31  6,897,600.42 213,825,613.00         25.49 790.21        1.59 49.14\n",
       "2018-02-28  6,090,103.36 170,522,894.00         20.10 562.73        0.97 27.03\n",
       "2018-03-31  7,329,328.84 227,209,194.00         13.72 425.19        1.60 49.73\n",
       "2018-04-30  8,306,952.90 249,208,587.00         12.45 373.64        0.93 27.85\n",
       "2018-05-31  7,292,738.90 226,074,906.00         11.30 350.28        0.79 24.52\n",
       "2018-06-30  7,570,532.00 227,115,960.00         16.94 508.27        0.70 21.13\n",
       "2018-07-31  6,707,990.03 207,947,691.00         24.63 763.68        1.76 54.64\n",
       "2018-08-31  6,196,928.74 192,104,791.00         15.07 467.19        0.73 22.76\n",
       "2018-09-30  8,058,145.77 241,744,373.00         10.98 329.39        1.27 38.02\n",
       "2018-10-31  8,865,112.10 274,818,475.00         14.63 453.57        0.90 28.01\n",
       "2018-11-30 10,575,425.83 317,262,775.00         15.05 451.39        0.58 17.39\n",
       "2018-12-31  8,424,667.13 261,164,681.00         18.16 563.08        0.94 29.22\n",
       "2019-01-31  7,846,647.45 243,246,071.00         24.11 747.36        0.73 22.65\n",
       "2019-02-28  7,464,455.39 209,004,751.00         17.53 490.94        1.32 36.86\n",
       "2019-03-31  9,039,179.90 280,214,577.00         13.73 425.64        0.96 29.75\n",
       "2019-04-30  8,896,786.20 266,903,586.00         13.40 402.12        0.59 17.73\n",
       "2019-05-31  9,176,974.45 284,486,208.00         14.27 442.51        0.52 16.08\n",
       "2019-06-30  9,578,320.73 287,349,622.00         17.60 528.12        0.98 29.30\n",
       "2019-07-31  7,722,037.19 239,383,153.00         22.95 711.47        1.12 34.66\n",
       "2019-08-31  7,722,920.61 239,410,539.00         18.18 563.46        1.04 32.13\n",
       "2019-09-30  9,746,084.77 292,382,543.00         13.23 396.79        0.42 12.54\n",
       "2019-10-31 10,422,266.39 323,090,258.00         15.99 495.59        1.20 37.17\n",
       "2019-11-30 13,753,225.67 412,596,770.00         18.24 547.29        0.53 16.03\n",
       "2019-12-31  9,577,335.94 296,897,414.00         20.07 622.13        0.55 17.15\n",
       "2020-01-31  9,442,137.06 292,706,249.00         26.65 826.29        1.25 38.72\n",
       "2020-02-29  8,433,784.17 244,579,741.00         17.76 515.06        0.42 12.06\n",
       "2020-03-31  9,606,225.52 297,792,991.00         17.13 531.06        0.99 30.57\n",
       "2020-04-30 12,543,906.53 376,317,196.00         14.65 439.37        0.43 12.87\n",
       "2020-05-31 11,604,141.26 359,728,379.00         15.33 475.28        0.40 12.26\n",
       "2020-06-30 11,808,399.23 354,251,977.00         18.93 567.81        0.33 10.04\n",
       "2020-07-31 10,358,588.42 321,116,241.00         20.26 628.21        0.63 19.40\n",
       "2020-08-31 10,004,561.74 310,141,414.00         17.62 546.10        0.76 23.56\n",
       "2020-09-30 12,562,371.30 376,871,139.00         14.75 442.50        0.68 20.39\n",
       "2020-10-31 13,986,094.29 433,568,923.00         14.57 451.76        0.51 15.77\n",
       "2020-11-30 18,319,739.63 549,592,189.00         19.02 570.57        0.87 26.05\n",
       "2020-12-31 13,396,470.90 415,290,598.00         20.67 640.77        0.42 13.05\n",
       "2021-01-31 14,425,610.55 447,193,927.00         27.64 856.91        0.90 28.04\n",
       "2021-02-28 14,670,553.64 410,775,502.00         19.24 538.71        0.70 19.61\n",
       "2021-03-31 14,478,946.65 448,847,346.00         14.86 460.56        0.29  9.04\n",
       "2021-04-30 16,311,636.90 489,349,107.00         17.86 535.75        0.58 17.33\n",
       "2021-05-31 16,595,986.10 514,475,569.00         15.37 476.55        0.53 16.30\n",
       "2021-06-30 17,581,353.93 527,440,618.00         21.78 653.53        0.70 21.08\n",
       "2021-07-31 12,338,371.23 382,489,508.00         21.99 681.61        1.01 31.34\n",
       "2021-08-31 12,098,464.74 375,052,407.00         18.47 572.42        0.67 20.68\n",
       "2021-09-30 13,810,407.23 414,312,217.00         14.97 449.09        1.00 29.99\n",
       "2021-10-31 16,790,207.52 520,496,433.00         18.49 573.04        0.85 26.41\n",
       "2021-11-30 21,947,358.77 658,420,763.00         19.98 599.55        1.29 38.58\n",
       "2021-12-31 15,747,394.00 488,169,214.00         18.73 580.51        1.18 36.65\n",
       "2022-01-31 13,929,726.00 431,821,506.00         25.93 803.83        1.15 35.60\n",
       "2022-02-28 12,747,214.71 356,922,012.00         19.99 559.67        1.35 37.75\n",
       "2022-03-31 14,195,213.39 440,051,615.00         15.97 495.12        0.77 23.77\n",
       "2022-04-30 15,915,298.23 477,458,947.00         18.43 552.88        0.87 26.10\n",
       "2022-05-31 16,700,685.45 517,721,249.00         16.08 498.56        0.67 20.63\n",
       "2022-06-30 16,217,698.73 486,530,962.00         22.05 661.41        1.27 38.01\n",
       "2022-07-31 12,807,782.81 397,041,267.00         23.92 741.63        0.47 14.45\n",
       "2022-08-31 11,769,465.55 364,853,432.00         21.17 656.20        0.68 21.06\n",
       "2022-09-30 16,441,144.43 493,234,333.00         18.27 548.11        1.22 36.67\n",
       "2022-10-31 16,334,185.13 506,359,739.00         20.72 642.38        0.84 25.97\n",
       "2022-11-30 22,239,427.87 667,182,836.00         22.71 681.31        1.38 41.48"
      ]
     },
     "execution_count": 112,
     "metadata": {},
     "output_type": "execute_result"
    }
   ],
   "source": [
    "month_sales_df = sales_df.resample(\"ME\").agg([\"mean\", \"sum\"])\n",
    "month_sales_df"
   ]
  },
  {
   "cell_type": "code",
   "execution_count": 113,
   "id": "56572931",
   "metadata": {},
   "outputs": [
    {
     "data": {
      "application/vnd.plotly.v1+json": {
       "config": {
        "plotlyServerURL": "https://plot.ly"
       },
       "data": [
        {
         "hovertemplate": "variable=mean<br>date=%{x}<br>value=%{y}<extra></extra>",
         "legendgroup": "mean",
         "line": {
          "color": "#636efa",
          "dash": "solid"
         },
         "marker": {
          "symbol": "circle"
         },
         "mode": "lines",
         "name": "mean",
         "orientation": "v",
         "showlegend": true,
         "type": "scatter",
         "x": [
          "2018-01-31T00:00:00.000000000",
          "2018-02-28T00:00:00.000000000",
          "2018-03-31T00:00:00.000000000",
          "2018-04-30T00:00:00.000000000",
          "2018-05-31T00:00:00.000000000",
          "2018-06-30T00:00:00.000000000",
          "2018-07-31T00:00:00.000000000",
          "2018-08-31T00:00:00.000000000",
          "2018-09-30T00:00:00.000000000",
          "2018-10-31T00:00:00.000000000",
          "2018-11-30T00:00:00.000000000",
          "2018-12-31T00:00:00.000000000",
          "2019-01-31T00:00:00.000000000",
          "2019-02-28T00:00:00.000000000",
          "2019-03-31T00:00:00.000000000",
          "2019-04-30T00:00:00.000000000",
          "2019-05-31T00:00:00.000000000",
          "2019-06-30T00:00:00.000000000",
          "2019-07-31T00:00:00.000000000",
          "2019-08-31T00:00:00.000000000",
          "2019-09-30T00:00:00.000000000",
          "2019-10-31T00:00:00.000000000",
          "2019-11-30T00:00:00.000000000",
          "2019-12-31T00:00:00.000000000",
          "2020-01-31T00:00:00.000000000",
          "2020-02-29T00:00:00.000000000",
          "2020-03-31T00:00:00.000000000",
          "2020-04-30T00:00:00.000000000",
          "2020-05-31T00:00:00.000000000",
          "2020-06-30T00:00:00.000000000",
          "2020-07-31T00:00:00.000000000",
          "2020-08-31T00:00:00.000000000",
          "2020-09-30T00:00:00.000000000",
          "2020-10-31T00:00:00.000000000",
          "2020-11-30T00:00:00.000000000",
          "2020-12-31T00:00:00.000000000",
          "2021-01-31T00:00:00.000000000",
          "2021-02-28T00:00:00.000000000",
          "2021-03-31T00:00:00.000000000",
          "2021-04-30T00:00:00.000000000",
          "2021-05-31T00:00:00.000000000",
          "2021-06-30T00:00:00.000000000",
          "2021-07-31T00:00:00.000000000",
          "2021-08-31T00:00:00.000000000",
          "2021-09-30T00:00:00.000000000",
          "2021-10-31T00:00:00.000000000",
          "2021-11-30T00:00:00.000000000",
          "2021-12-31T00:00:00.000000000",
          "2022-01-31T00:00:00.000000000",
          "2022-02-28T00:00:00.000000000",
          "2022-03-31T00:00:00.000000000",
          "2022-04-30T00:00:00.000000000",
          "2022-05-31T00:00:00.000000000",
          "2022-06-30T00:00:00.000000000",
          "2022-07-31T00:00:00.000000000",
          "2022-08-31T00:00:00.000000000",
          "2022-09-30T00:00:00.000000000",
          "2022-10-31T00:00:00.000000000",
          "2022-11-30T00:00:00.000000000"
         ],
         "xaxis": "x",
         "y": {
          "bdata": "rbXWGvBPWkG3bdvWXTtXQVtrrTWM9VtBmpmZOUKwX0Gdc8650NFbQQAAAAAZ4VxBIYQQgsWWWUH43nsvsKNXQREREXFIvV5BMsYYA6voYEGrqqo6yCtkQUIIIWSbEWBBzjnn3L3uXUFJkiTZgXlcQc4553ypPWFBZmZmRiL4YEHnnHPO8YBhQXd3dxfqRGJBxhhjTA11XUF0zjkn6nVdQYmIiJjUlmJBxhhjTP/gY0FVVVU1cTtqQd977/1uRGJBIYQQImsCYkHuaYQFDxZgQQghhDCKUmJBERERUfTsZ0GEEEKoFSJmQXd3d+fRhWZB11prjefBY0F87703ChVjQZqZmWn49WdBlVJKySWtakEiIiK6l3hxQc4559w+jWlBGWOMUcGDa0ElSZI0W/trQUoppVTMnWtBzczMnKocb0EyxhhDgqdvQe/u7p5SxHBBdM45Z5iIZ0F8770XdBNnQXd3d+dcV2pBhBBC+CsDcEFERETsPe50QQAAAEAoCW5BAAAAwJ+RakG3bdvWOVBoQcYYY6xBE2tBd3d3RyRbbkHnnHOuodpvQXd3d1fM7m5BnXPO2cxtaEEZY4wxz3JmQd7d3Q3nW29BQgghJK0nb0He3d09jDV1QQ==",
          "dtype": "f8"
         },
         "yaxis": "y"
        }
       ],
       "layout": {
        "legend": {
         "title": {
          "text": "variable"
         },
         "tracegroupgap": 0
        },
        "margin": {
         "t": 60
        },
        "template": {
         "data": {
          "bar": [
           {
            "error_x": {
             "color": "#2a3f5f"
            },
            "error_y": {
             "color": "#2a3f5f"
            },
            "marker": {
             "line": {
              "color": "#E5ECF6",
              "width": 0.5
             },
             "pattern": {
              "fillmode": "overlay",
              "size": 10,
              "solidity": 0.2
             }
            },
            "type": "bar"
           }
          ],
          "barpolar": [
           {
            "marker": {
             "line": {
              "color": "#E5ECF6",
              "width": 0.5
             },
             "pattern": {
              "fillmode": "overlay",
              "size": 10,
              "solidity": 0.2
             }
            },
            "type": "barpolar"
           }
          ],
          "carpet": [
           {
            "aaxis": {
             "endlinecolor": "#2a3f5f",
             "gridcolor": "white",
             "linecolor": "white",
             "minorgridcolor": "white",
             "startlinecolor": "#2a3f5f"
            },
            "baxis": {
             "endlinecolor": "#2a3f5f",
             "gridcolor": "white",
             "linecolor": "white",
             "minorgridcolor": "white",
             "startlinecolor": "#2a3f5f"
            },
            "type": "carpet"
           }
          ],
          "choropleth": [
           {
            "colorbar": {
             "outlinewidth": 0,
             "ticks": ""
            },
            "type": "choropleth"
           }
          ],
          "contour": [
           {
            "colorbar": {
             "outlinewidth": 0,
             "ticks": ""
            },
            "colorscale": [
             [
              0,
              "#0d0887"
             ],
             [
              0.1111111111111111,
              "#46039f"
             ],
             [
              0.2222222222222222,
              "#7201a8"
             ],
             [
              0.3333333333333333,
              "#9c179e"
             ],
             [
              0.4444444444444444,
              "#bd3786"
             ],
             [
              0.5555555555555556,
              "#d8576b"
             ],
             [
              0.6666666666666666,
              "#ed7953"
             ],
             [
              0.7777777777777778,
              "#fb9f3a"
             ],
             [
              0.8888888888888888,
              "#fdca26"
             ],
             [
              1,
              "#f0f921"
             ]
            ],
            "type": "contour"
           }
          ],
          "contourcarpet": [
           {
            "colorbar": {
             "outlinewidth": 0,
             "ticks": ""
            },
            "type": "contourcarpet"
           }
          ],
          "heatmap": [
           {
            "colorbar": {
             "outlinewidth": 0,
             "ticks": ""
            },
            "colorscale": [
             [
              0,
              "#0d0887"
             ],
             [
              0.1111111111111111,
              "#46039f"
             ],
             [
              0.2222222222222222,
              "#7201a8"
             ],
             [
              0.3333333333333333,
              "#9c179e"
             ],
             [
              0.4444444444444444,
              "#bd3786"
             ],
             [
              0.5555555555555556,
              "#d8576b"
             ],
             [
              0.6666666666666666,
              "#ed7953"
             ],
             [
              0.7777777777777778,
              "#fb9f3a"
             ],
             [
              0.8888888888888888,
              "#fdca26"
             ],
             [
              1,
              "#f0f921"
             ]
            ],
            "type": "heatmap"
           }
          ],
          "histogram": [
           {
            "marker": {
             "pattern": {
              "fillmode": "overlay",
              "size": 10,
              "solidity": 0.2
             }
            },
            "type": "histogram"
           }
          ],
          "histogram2d": [
           {
            "colorbar": {
             "outlinewidth": 0,
             "ticks": ""
            },
            "colorscale": [
             [
              0,
              "#0d0887"
             ],
             [
              0.1111111111111111,
              "#46039f"
             ],
             [
              0.2222222222222222,
              "#7201a8"
             ],
             [
              0.3333333333333333,
              "#9c179e"
             ],
             [
              0.4444444444444444,
              "#bd3786"
             ],
             [
              0.5555555555555556,
              "#d8576b"
             ],
             [
              0.6666666666666666,
              "#ed7953"
             ],
             [
              0.7777777777777778,
              "#fb9f3a"
             ],
             [
              0.8888888888888888,
              "#fdca26"
             ],
             [
              1,
              "#f0f921"
             ]
            ],
            "type": "histogram2d"
           }
          ],
          "histogram2dcontour": [
           {
            "colorbar": {
             "outlinewidth": 0,
             "ticks": ""
            },
            "colorscale": [
             [
              0,
              "#0d0887"
             ],
             [
              0.1111111111111111,
              "#46039f"
             ],
             [
              0.2222222222222222,
              "#7201a8"
             ],
             [
              0.3333333333333333,
              "#9c179e"
             ],
             [
              0.4444444444444444,
              "#bd3786"
             ],
             [
              0.5555555555555556,
              "#d8576b"
             ],
             [
              0.6666666666666666,
              "#ed7953"
             ],
             [
              0.7777777777777778,
              "#fb9f3a"
             ],
             [
              0.8888888888888888,
              "#fdca26"
             ],
             [
              1,
              "#f0f921"
             ]
            ],
            "type": "histogram2dcontour"
           }
          ],
          "mesh3d": [
           {
            "colorbar": {
             "outlinewidth": 0,
             "ticks": ""
            },
            "type": "mesh3d"
           }
          ],
          "parcoords": [
           {
            "line": {
             "colorbar": {
              "outlinewidth": 0,
              "ticks": ""
             }
            },
            "type": "parcoords"
           }
          ],
          "pie": [
           {
            "automargin": true,
            "type": "pie"
           }
          ],
          "scatter": [
           {
            "fillpattern": {
             "fillmode": "overlay",
             "size": 10,
             "solidity": 0.2
            },
            "type": "scatter"
           }
          ],
          "scatter3d": [
           {
            "line": {
             "colorbar": {
              "outlinewidth": 0,
              "ticks": ""
             }
            },
            "marker": {
             "colorbar": {
              "outlinewidth": 0,
              "ticks": ""
             }
            },
            "type": "scatter3d"
           }
          ],
          "scattercarpet": [
           {
            "marker": {
             "colorbar": {
              "outlinewidth": 0,
              "ticks": ""
             }
            },
            "type": "scattercarpet"
           }
          ],
          "scattergeo": [
           {
            "marker": {
             "colorbar": {
              "outlinewidth": 0,
              "ticks": ""
             }
            },
            "type": "scattergeo"
           }
          ],
          "scattergl": [
           {
            "marker": {
             "colorbar": {
              "outlinewidth": 0,
              "ticks": ""
             }
            },
            "type": "scattergl"
           }
          ],
          "scattermap": [
           {
            "marker": {
             "colorbar": {
              "outlinewidth": 0,
              "ticks": ""
             }
            },
            "type": "scattermap"
           }
          ],
          "scattermapbox": [
           {
            "marker": {
             "colorbar": {
              "outlinewidth": 0,
              "ticks": ""
             }
            },
            "type": "scattermapbox"
           }
          ],
          "scatterpolar": [
           {
            "marker": {
             "colorbar": {
              "outlinewidth": 0,
              "ticks": ""
             }
            },
            "type": "scatterpolar"
           }
          ],
          "scatterpolargl": [
           {
            "marker": {
             "colorbar": {
              "outlinewidth": 0,
              "ticks": ""
             }
            },
            "type": "scatterpolargl"
           }
          ],
          "scatterternary": [
           {
            "marker": {
             "colorbar": {
              "outlinewidth": 0,
              "ticks": ""
             }
            },
            "type": "scatterternary"
           }
          ],
          "surface": [
           {
            "colorbar": {
             "outlinewidth": 0,
             "ticks": ""
            },
            "colorscale": [
             [
              0,
              "#0d0887"
             ],
             [
              0.1111111111111111,
              "#46039f"
             ],
             [
              0.2222222222222222,
              "#7201a8"
             ],
             [
              0.3333333333333333,
              "#9c179e"
             ],
             [
              0.4444444444444444,
              "#bd3786"
             ],
             [
              0.5555555555555556,
              "#d8576b"
             ],
             [
              0.6666666666666666,
              "#ed7953"
             ],
             [
              0.7777777777777778,
              "#fb9f3a"
             ],
             [
              0.8888888888888888,
              "#fdca26"
             ],
             [
              1,
              "#f0f921"
             ]
            ],
            "type": "surface"
           }
          ],
          "table": [
           {
            "cells": {
             "fill": {
              "color": "#EBF0F8"
             },
             "line": {
              "color": "white"
             }
            },
            "header": {
             "fill": {
              "color": "#C8D4E3"
             },
             "line": {
              "color": "white"
             }
            },
            "type": "table"
           }
          ]
         },
         "layout": {
          "annotationdefaults": {
           "arrowcolor": "#2a3f5f",
           "arrowhead": 0,
           "arrowwidth": 1
          },
          "autotypenumbers": "strict",
          "coloraxis": {
           "colorbar": {
            "outlinewidth": 0,
            "ticks": ""
           }
          },
          "colorscale": {
           "diverging": [
            [
             0,
             "#8e0152"
            ],
            [
             0.1,
             "#c51b7d"
            ],
            [
             0.2,
             "#de77ae"
            ],
            [
             0.3,
             "#f1b6da"
            ],
            [
             0.4,
             "#fde0ef"
            ],
            [
             0.5,
             "#f7f7f7"
            ],
            [
             0.6,
             "#e6f5d0"
            ],
            [
             0.7,
             "#b8e186"
            ],
            [
             0.8,
             "#7fbc41"
            ],
            [
             0.9,
             "#4d9221"
            ],
            [
             1,
             "#276419"
            ]
           ],
           "sequential": [
            [
             0,
             "#0d0887"
            ],
            [
             0.1111111111111111,
             "#46039f"
            ],
            [
             0.2222222222222222,
             "#7201a8"
            ],
            [
             0.3333333333333333,
             "#9c179e"
            ],
            [
             0.4444444444444444,
             "#bd3786"
            ],
            [
             0.5555555555555556,
             "#d8576b"
            ],
            [
             0.6666666666666666,
             "#ed7953"
            ],
            [
             0.7777777777777778,
             "#fb9f3a"
            ],
            [
             0.8888888888888888,
             "#fdca26"
            ],
            [
             1,
             "#f0f921"
            ]
           ],
           "sequentialminus": [
            [
             0,
             "#0d0887"
            ],
            [
             0.1111111111111111,
             "#46039f"
            ],
            [
             0.2222222222222222,
             "#7201a8"
            ],
            [
             0.3333333333333333,
             "#9c179e"
            ],
            [
             0.4444444444444444,
             "#bd3786"
            ],
            [
             0.5555555555555556,
             "#d8576b"
            ],
            [
             0.6666666666666666,
             "#ed7953"
            ],
            [
             0.7777777777777778,
             "#fb9f3a"
            ],
            [
             0.8888888888888888,
             "#fdca26"
            ],
            [
             1,
             "#f0f921"
            ]
           ]
          },
          "colorway": [
           "#636efa",
           "#EF553B",
           "#00cc96",
           "#ab63fa",
           "#FFA15A",
           "#19d3f3",
           "#FF6692",
           "#B6E880",
           "#FF97FF",
           "#FECB52"
          ],
          "font": {
           "color": "#2a3f5f"
          },
          "geo": {
           "bgcolor": "white",
           "lakecolor": "white",
           "landcolor": "#E5ECF6",
           "showlakes": true,
           "showland": true,
           "subunitcolor": "white"
          },
          "hoverlabel": {
           "align": "left"
          },
          "hovermode": "closest",
          "mapbox": {
           "style": "light"
          },
          "paper_bgcolor": "white",
          "plot_bgcolor": "#E5ECF6",
          "polar": {
           "angularaxis": {
            "gridcolor": "white",
            "linecolor": "white",
            "ticks": ""
           },
           "bgcolor": "#E5ECF6",
           "radialaxis": {
            "gridcolor": "white",
            "linecolor": "white",
            "ticks": ""
           }
          },
          "scene": {
           "xaxis": {
            "backgroundcolor": "#E5ECF6",
            "gridcolor": "white",
            "gridwidth": 2,
            "linecolor": "white",
            "showbackground": true,
            "ticks": "",
            "zerolinecolor": "white"
           },
           "yaxis": {
            "backgroundcolor": "#E5ECF6",
            "gridcolor": "white",
            "gridwidth": 2,
            "linecolor": "white",
            "showbackground": true,
            "ticks": "",
            "zerolinecolor": "white"
           },
           "zaxis": {
            "backgroundcolor": "#E5ECF6",
            "gridcolor": "white",
            "gridwidth": 2,
            "linecolor": "white",
            "showbackground": true,
            "ticks": "",
            "zerolinecolor": "white"
           }
          },
          "shapedefaults": {
           "line": {
            "color": "#2a3f5f"
           }
          },
          "ternary": {
           "aaxis": {
            "gridcolor": "white",
            "linecolor": "white",
            "ticks": ""
           },
           "baxis": {
            "gridcolor": "white",
            "linecolor": "white",
            "ticks": ""
           },
           "bgcolor": "#E5ECF6",
           "caxis": {
            "gridcolor": "white",
            "linecolor": "white",
            "ticks": ""
           }
          },
          "title": {
           "x": 0.05
          },
          "xaxis": {
           "automargin": true,
           "gridcolor": "white",
           "linecolor": "white",
           "ticks": "",
           "title": {
            "standoff": 15
           },
           "zerolinecolor": "white",
           "zerolinewidth": 2
          },
          "yaxis": {
           "automargin": true,
           "gridcolor": "white",
           "linecolor": "white",
           "ticks": "",
           "title": {
            "standoff": 15
           },
           "zerolinecolor": "white",
           "zerolinewidth": 2
          }
         }
        },
        "xaxis": {
         "anchor": "y",
         "domain": [
          0,
          1
         ],
         "title": {
          "text": "date"
         }
        },
        "yaxis": {
         "anchor": "x",
         "domain": [
          0,
          1
         ],
         "title": {
          "text": "value"
         }
        }
       }
      }
     },
     "metadata": {},
     "output_type": "display_data"
    }
   ],
   "source": [
    "px.line(month_sales_df[\"revenue\"][\"mean\"])"
   ]
  },
  {
   "cell_type": "code",
   "execution_count": 114,
   "id": "b085e6d4",
   "metadata": {},
   "outputs": [
    {
     "data": {
      "application/vnd.plotly.v1+json": {
       "config": {
        "plotlyServerURL": "https://plot.ly"
       },
       "data": [
        {
         "hovertemplate": "variable=revenue<br>date=%{x}<br>value=%{y}<extra></extra>",
         "legendgroup": "revenue",
         "line": {
          "color": "#636efa",
          "dash": "solid"
         },
         "marker": {
          "symbol": "circle"
         },
         "mode": "lines",
         "name": "revenue",
         "showlegend": true,
         "type": "scattergl",
         "x": [
          "2018-01-01T00:00:00.000000000",
          "2018-01-02T00:00:00.000000000",
          "2018-01-03T00:00:00.000000000",
          "2018-01-04T00:00:00.000000000",
          "2018-01-05T00:00:00.000000000",
          "2018-01-06T00:00:00.000000000",
          "2018-01-07T00:00:00.000000000",
          "2018-01-08T00:00:00.000000000",
          "2018-01-09T00:00:00.000000000",
          "2018-01-10T00:00:00.000000000",
          "2018-01-11T00:00:00.000000000",
          "2018-01-12T00:00:00.000000000",
          "2018-01-13T00:00:00.000000000",
          "2018-01-14T00:00:00.000000000",
          "2018-01-15T00:00:00.000000000",
          "2018-01-16T00:00:00.000000000",
          "2018-01-17T00:00:00.000000000",
          "2018-01-18T00:00:00.000000000",
          "2018-01-19T00:00:00.000000000",
          "2018-01-20T00:00:00.000000000",
          "2018-01-21T00:00:00.000000000",
          "2018-01-22T00:00:00.000000000",
          "2018-01-23T00:00:00.000000000",
          "2018-01-24T00:00:00.000000000",
          "2018-01-25T00:00:00.000000000",
          "2018-01-26T00:00:00.000000000",
          "2018-01-27T00:00:00.000000000",
          "2018-01-28T00:00:00.000000000",
          "2018-01-29T00:00:00.000000000",
          "2018-01-30T00:00:00.000000000",
          "2018-01-31T00:00:00.000000000",
          "2018-02-01T00:00:00.000000000",
          "2018-02-02T00:00:00.000000000",
          "2018-02-03T00:00:00.000000000",
          "2018-02-04T00:00:00.000000000",
          "2018-02-05T00:00:00.000000000",
          "2018-02-06T00:00:00.000000000",
          "2018-02-07T00:00:00.000000000",
          "2018-02-08T00:00:00.000000000",
          "2018-02-09T00:00:00.000000000",
          "2018-02-10T00:00:00.000000000",
          "2018-02-11T00:00:00.000000000",
          "2018-02-12T00:00:00.000000000",
          "2018-02-13T00:00:00.000000000",
          "2018-02-14T00:00:00.000000000",
          "2018-02-15T00:00:00.000000000",
          "2018-02-16T00:00:00.000000000",
          "2018-02-17T00:00:00.000000000",
          "2018-02-18T00:00:00.000000000",
          "2018-02-19T00:00:00.000000000",
          "2018-02-20T00:00:00.000000000",
          "2018-02-21T00:00:00.000000000",
          "2018-02-22T00:00:00.000000000",
          "2018-02-23T00:00:00.000000000",
          "2018-02-24T00:00:00.000000000",
          "2018-02-25T00:00:00.000000000",
          "2018-02-26T00:00:00.000000000",
          "2018-02-27T00:00:00.000000000",
          "2018-02-28T00:00:00.000000000",
          "2018-03-01T00:00:00.000000000",
          "2018-03-02T00:00:00.000000000",
          "2018-03-03T00:00:00.000000000",
          "2018-03-04T00:00:00.000000000",
          "2018-03-05T00:00:00.000000000",
          "2018-03-06T00:00:00.000000000",
          "2018-03-07T00:00:00.000000000",
          "2018-03-08T00:00:00.000000000",
          "2018-03-09T00:00:00.000000000",
          "2018-03-10T00:00:00.000000000",
          "2018-03-11T00:00:00.000000000",
          "2018-03-12T00:00:00.000000000",
          "2018-03-13T00:00:00.000000000",
          "2018-03-14T00:00:00.000000000",
          "2018-03-15T00:00:00.000000000",
          "2018-03-16T00:00:00.000000000",
          "2018-03-17T00:00:00.000000000",
          "2018-03-18T00:00:00.000000000",
          "2018-03-19T00:00:00.000000000",
          "2018-03-20T00:00:00.000000000",
          "2018-03-21T00:00:00.000000000",
          "2018-03-22T00:00:00.000000000",
          "2018-03-23T00:00:00.000000000",
          "2018-03-24T00:00:00.000000000",
          "2018-03-25T00:00:00.000000000",
          "2018-03-26T00:00:00.000000000",
          "2018-03-27T00:00:00.000000000",
          "2018-03-28T00:00:00.000000000",
          "2018-03-29T00:00:00.000000000",
          "2018-03-30T00:00:00.000000000",
          "2018-03-31T00:00:00.000000000",
          "2018-04-01T00:00:00.000000000",
          "2018-04-02T00:00:00.000000000",
          "2018-04-03T00:00:00.000000000",
          "2018-04-04T00:00:00.000000000",
          "2018-04-05T00:00:00.000000000",
          "2018-04-06T00:00:00.000000000",
          "2018-04-07T00:00:00.000000000",
          "2018-04-08T00:00:00.000000000",
          "2018-04-09T00:00:00.000000000",
          "2018-04-10T00:00:00.000000000",
          "2018-04-11T00:00:00.000000000",
          "2018-04-12T00:00:00.000000000",
          "2018-04-13T00:00:00.000000000",
          "2018-04-14T00:00:00.000000000",
          "2018-04-15T00:00:00.000000000",
          "2018-04-16T00:00:00.000000000",
          "2018-04-17T00:00:00.000000000",
          "2018-04-18T00:00:00.000000000",
          "2018-04-19T00:00:00.000000000",
          "2018-04-20T00:00:00.000000000",
          "2018-04-21T00:00:00.000000000",
          "2018-04-22T00:00:00.000000000",
          "2018-04-23T00:00:00.000000000",
          "2018-04-24T00:00:00.000000000",
          "2018-04-25T00:00:00.000000000",
          "2018-04-26T00:00:00.000000000",
          "2018-04-27T00:00:00.000000000",
          "2018-04-28T00:00:00.000000000",
          "2018-04-29T00:00:00.000000000",
          "2018-04-30T00:00:00.000000000",
          "2018-05-01T00:00:00.000000000",
          "2018-05-02T00:00:00.000000000",
          "2018-05-03T00:00:00.000000000",
          "2018-05-04T00:00:00.000000000",
          "2018-05-05T00:00:00.000000000",
          "2018-05-06T00:00:00.000000000",
          "2018-05-07T00:00:00.000000000",
          "2018-05-08T00:00:00.000000000",
          "2018-05-09T00:00:00.000000000",
          "2018-05-10T00:00:00.000000000",
          "2018-05-11T00:00:00.000000000",
          "2018-05-12T00:00:00.000000000",
          "2018-05-13T00:00:00.000000000",
          "2018-05-14T00:00:00.000000000",
          "2018-05-15T00:00:00.000000000",
          "2018-05-16T00:00:00.000000000",
          "2018-05-17T00:00:00.000000000",
          "2018-05-18T00:00:00.000000000",
          "2018-05-19T00:00:00.000000000",
          "2018-05-20T00:00:00.000000000",
          "2018-05-21T00:00:00.000000000",
          "2018-05-22T00:00:00.000000000",
          "2018-05-23T00:00:00.000000000",
          "2018-05-24T00:00:00.000000000",
          "2018-05-25T00:00:00.000000000",
          "2018-05-26T00:00:00.000000000",
          "2018-05-27T00:00:00.000000000",
          "2018-05-28T00:00:00.000000000",
          "2018-05-29T00:00:00.000000000",
          "2018-05-30T00:00:00.000000000",
          "2018-05-31T00:00:00.000000000",
          "2018-06-01T00:00:00.000000000",
          "2018-06-02T00:00:00.000000000",
          "2018-06-03T00:00:00.000000000",
          "2018-06-04T00:00:00.000000000",
          "2018-06-05T00:00:00.000000000",
          "2018-06-06T00:00:00.000000000",
          "2018-06-07T00:00:00.000000000",
          "2018-06-08T00:00:00.000000000",
          "2018-06-09T00:00:00.000000000",
          "2018-06-10T00:00:00.000000000",
          "2018-06-11T00:00:00.000000000",
          "2018-06-12T00:00:00.000000000",
          "2018-06-13T00:00:00.000000000",
          "2018-06-14T00:00:00.000000000",
          "2018-06-15T00:00:00.000000000",
          "2018-06-16T00:00:00.000000000",
          "2018-06-17T00:00:00.000000000",
          "2018-06-18T00:00:00.000000000",
          "2018-06-19T00:00:00.000000000",
          "2018-06-20T00:00:00.000000000",
          "2018-06-21T00:00:00.000000000",
          "2018-06-22T00:00:00.000000000",
          "2018-06-23T00:00:00.000000000",
          "2018-06-24T00:00:00.000000000",
          "2018-06-25T00:00:00.000000000",
          "2018-06-26T00:00:00.000000000",
          "2018-06-27T00:00:00.000000000",
          "2018-06-28T00:00:00.000000000",
          "2018-06-29T00:00:00.000000000",
          "2018-06-30T00:00:00.000000000",
          "2018-07-01T00:00:00.000000000",
          "2018-07-02T00:00:00.000000000",
          "2018-07-03T00:00:00.000000000",
          "2018-07-04T00:00:00.000000000",
          "2018-07-05T00:00:00.000000000",
          "2018-07-06T00:00:00.000000000",
          "2018-07-07T00:00:00.000000000",
          "2018-07-08T00:00:00.000000000",
          "2018-07-09T00:00:00.000000000",
          "2018-07-10T00:00:00.000000000",
          "2018-07-11T00:00:00.000000000",
          "2018-07-12T00:00:00.000000000",
          "2018-07-13T00:00:00.000000000",
          "2018-07-14T00:00:00.000000000",
          "2018-07-15T00:00:00.000000000",
          "2018-07-16T00:00:00.000000000",
          "2018-07-17T00:00:00.000000000",
          "2018-07-18T00:00:00.000000000",
          "2018-07-19T00:00:00.000000000",
          "2018-07-20T00:00:00.000000000",
          "2018-07-21T00:00:00.000000000",
          "2018-07-22T00:00:00.000000000",
          "2018-07-23T00:00:00.000000000",
          "2018-07-24T00:00:00.000000000",
          "2018-07-25T00:00:00.000000000",
          "2018-07-26T00:00:00.000000000",
          "2018-07-27T00:00:00.000000000",
          "2018-07-28T00:00:00.000000000",
          "2018-07-29T00:00:00.000000000",
          "2018-07-30T00:00:00.000000000",
          "2018-07-31T00:00:00.000000000",
          "2018-08-01T00:00:00.000000000",
          "2018-08-02T00:00:00.000000000",
          "2018-08-03T00:00:00.000000000",
          "2018-08-04T00:00:00.000000000",
          "2018-08-05T00:00:00.000000000",
          "2018-08-06T00:00:00.000000000",
          "2018-08-07T00:00:00.000000000",
          "2018-08-08T00:00:00.000000000",
          "2018-08-09T00:00:00.000000000",
          "2018-08-10T00:00:00.000000000",
          "2018-08-11T00:00:00.000000000",
          "2018-08-12T00:00:00.000000000",
          "2018-08-13T00:00:00.000000000",
          "2018-08-14T00:00:00.000000000",
          "2018-08-15T00:00:00.000000000",
          "2018-08-16T00:00:00.000000000",
          "2018-08-17T00:00:00.000000000",
          "2018-08-18T00:00:00.000000000",
          "2018-08-19T00:00:00.000000000",
          "2018-08-20T00:00:00.000000000",
          "2018-08-21T00:00:00.000000000",
          "2018-08-22T00:00:00.000000000",
          "2018-08-23T00:00:00.000000000",
          "2018-08-24T00:00:00.000000000",
          "2018-08-25T00:00:00.000000000",
          "2018-08-26T00:00:00.000000000",
          "2018-08-27T00:00:00.000000000",
          "2018-08-28T00:00:00.000000000",
          "2018-08-29T00:00:00.000000000",
          "2018-08-30T00:00:00.000000000",
          "2018-08-31T00:00:00.000000000",
          "2018-09-01T00:00:00.000000000",
          "2018-09-02T00:00:00.000000000",
          "2018-09-03T00:00:00.000000000",
          "2018-09-04T00:00:00.000000000",
          "2018-09-05T00:00:00.000000000",
          "2018-09-06T00:00:00.000000000",
          "2018-09-07T00:00:00.000000000",
          "2018-09-08T00:00:00.000000000",
          "2018-09-09T00:00:00.000000000",
          "2018-09-10T00:00:00.000000000",
          "2018-09-11T00:00:00.000000000",
          "2018-09-12T00:00:00.000000000",
          "2018-09-13T00:00:00.000000000",
          "2018-09-14T00:00:00.000000000",
          "2018-09-15T00:00:00.000000000",
          "2018-09-16T00:00:00.000000000",
          "2018-09-17T00:00:00.000000000",
          "2018-09-18T00:00:00.000000000",
          "2018-09-19T00:00:00.000000000",
          "2018-09-20T00:00:00.000000000",
          "2018-09-21T00:00:00.000000000",
          "2018-09-22T00:00:00.000000000",
          "2018-09-23T00:00:00.000000000",
          "2018-09-24T00:00:00.000000000",
          "2018-09-25T00:00:00.000000000",
          "2018-09-26T00:00:00.000000000",
          "2018-09-27T00:00:00.000000000",
          "2018-09-28T00:00:00.000000000",
          "2018-09-29T00:00:00.000000000",
          "2018-09-30T00:00:00.000000000",
          "2018-10-01T00:00:00.000000000",
          "2018-10-02T00:00:00.000000000",
          "2018-10-03T00:00:00.000000000",
          "2018-10-04T00:00:00.000000000",
          "2018-10-05T00:00:00.000000000",
          "2018-10-06T00:00:00.000000000",
          "2018-10-07T00:00:00.000000000",
          "2018-10-08T00:00:00.000000000",
          "2018-10-09T00:00:00.000000000",
          "2018-10-10T00:00:00.000000000",
          "2018-10-11T00:00:00.000000000",
          "2018-10-12T00:00:00.000000000",
          "2018-10-13T00:00:00.000000000",
          "2018-10-14T00:00:00.000000000",
          "2018-10-15T00:00:00.000000000",
          "2018-10-16T00:00:00.000000000",
          "2018-10-17T00:00:00.000000000",
          "2018-10-18T00:00:00.000000000",
          "2018-10-19T00:00:00.000000000",
          "2018-10-20T00:00:00.000000000",
          "2018-10-21T00:00:00.000000000",
          "2018-10-22T00:00:00.000000000",
          "2018-10-23T00:00:00.000000000",
          "2018-10-24T00:00:00.000000000",
          "2018-10-25T00:00:00.000000000",
          "2018-10-26T00:00:00.000000000",
          "2018-10-27T00:00:00.000000000",
          "2018-10-28T00:00:00.000000000",
          "2018-10-29T00:00:00.000000000",
          "2018-10-30T00:00:00.000000000",
          "2018-10-31T00:00:00.000000000",
          "2018-11-01T00:00:00.000000000",
          "2018-11-02T00:00:00.000000000",
          "2018-11-03T00:00:00.000000000",
          "2018-11-04T00:00:00.000000000",
          "2018-11-05T00:00:00.000000000",
          "2018-11-06T00:00:00.000000000",
          "2018-11-07T00:00:00.000000000",
          "2018-11-08T00:00:00.000000000",
          "2018-11-09T00:00:00.000000000",
          "2018-11-10T00:00:00.000000000",
          "2018-11-11T00:00:00.000000000",
          "2018-11-12T00:00:00.000000000",
          "2018-11-13T00:00:00.000000000",
          "2018-11-14T00:00:00.000000000",
          "2018-11-15T00:00:00.000000000",
          "2018-11-16T00:00:00.000000000",
          "2018-11-17T00:00:00.000000000",
          "2018-11-18T00:00:00.000000000",
          "2018-11-19T00:00:00.000000000",
          "2018-11-20T00:00:00.000000000",
          "2018-11-21T00:00:00.000000000",
          "2018-11-22T00:00:00.000000000",
          "2018-11-23T00:00:00.000000000",
          "2018-11-24T00:00:00.000000000",
          "2018-11-25T00:00:00.000000000",
          "2018-11-26T00:00:00.000000000",
          "2018-11-27T00:00:00.000000000",
          "2018-11-28T00:00:00.000000000",
          "2018-11-29T00:00:00.000000000",
          "2018-11-30T00:00:00.000000000",
          "2018-12-01T00:00:00.000000000",
          "2018-12-02T00:00:00.000000000",
          "2018-12-03T00:00:00.000000000",
          "2018-12-04T00:00:00.000000000",
          "2018-12-05T00:00:00.000000000",
          "2018-12-06T00:00:00.000000000",
          "2018-12-07T00:00:00.000000000",
          "2018-12-08T00:00:00.000000000",
          "2018-12-09T00:00:00.000000000",
          "2018-12-10T00:00:00.000000000",
          "2018-12-11T00:00:00.000000000",
          "2018-12-12T00:00:00.000000000",
          "2018-12-13T00:00:00.000000000",
          "2018-12-14T00:00:00.000000000",
          "2018-12-15T00:00:00.000000000",
          "2018-12-16T00:00:00.000000000",
          "2018-12-17T00:00:00.000000000",
          "2018-12-18T00:00:00.000000000",
          "2018-12-19T00:00:00.000000000",
          "2018-12-20T00:00:00.000000000",
          "2018-12-21T00:00:00.000000000",
          "2018-12-22T00:00:00.000000000",
          "2018-12-23T00:00:00.000000000",
          "2018-12-24T00:00:00.000000000",
          "2018-12-25T00:00:00.000000000",
          "2018-12-26T00:00:00.000000000",
          "2018-12-27T00:00:00.000000000",
          "2018-12-28T00:00:00.000000000",
          "2018-12-29T00:00:00.000000000",
          "2018-12-30T00:00:00.000000000",
          "2018-12-31T00:00:00.000000000",
          "2019-01-01T00:00:00.000000000",
          "2019-01-02T00:00:00.000000000",
          "2019-01-03T00:00:00.000000000",
          "2019-01-04T00:00:00.000000000",
          "2019-01-05T00:00:00.000000000",
          "2019-01-06T00:00:00.000000000",
          "2019-01-07T00:00:00.000000000",
          "2019-01-08T00:00:00.000000000",
          "2019-01-09T00:00:00.000000000",
          "2019-01-10T00:00:00.000000000",
          "2019-01-11T00:00:00.000000000",
          "2019-01-12T00:00:00.000000000",
          "2019-01-13T00:00:00.000000000",
          "2019-01-14T00:00:00.000000000",
          "2019-01-15T00:00:00.000000000",
          "2019-01-16T00:00:00.000000000",
          "2019-01-17T00:00:00.000000000",
          "2019-01-18T00:00:00.000000000",
          "2019-01-19T00:00:00.000000000",
          "2019-01-20T00:00:00.000000000",
          "2019-01-21T00:00:00.000000000",
          "2019-01-22T00:00:00.000000000",
          "2019-01-23T00:00:00.000000000",
          "2019-01-24T00:00:00.000000000",
          "2019-01-25T00:00:00.000000000",
          "2019-01-26T00:00:00.000000000",
          "2019-01-27T00:00:00.000000000",
          "2019-01-28T00:00:00.000000000",
          "2019-01-29T00:00:00.000000000",
          "2019-01-30T00:00:00.000000000",
          "2019-01-31T00:00:00.000000000",
          "2019-02-01T00:00:00.000000000",
          "2019-02-02T00:00:00.000000000",
          "2019-02-03T00:00:00.000000000",
          "2019-02-04T00:00:00.000000000",
          "2019-02-05T00:00:00.000000000",
          "2019-02-06T00:00:00.000000000",
          "2019-02-07T00:00:00.000000000",
          "2019-02-08T00:00:00.000000000",
          "2019-02-09T00:00:00.000000000",
          "2019-02-10T00:00:00.000000000",
          "2019-02-11T00:00:00.000000000",
          "2019-02-12T00:00:00.000000000",
          "2019-02-13T00:00:00.000000000",
          "2019-02-14T00:00:00.000000000",
          "2019-02-15T00:00:00.000000000",
          "2019-02-16T00:00:00.000000000",
          "2019-02-17T00:00:00.000000000",
          "2019-02-18T00:00:00.000000000",
          "2019-02-19T00:00:00.000000000",
          "2019-02-20T00:00:00.000000000",
          "2019-02-21T00:00:00.000000000",
          "2019-02-22T00:00:00.000000000",
          "2019-02-23T00:00:00.000000000",
          "2019-02-24T00:00:00.000000000",
          "2019-02-25T00:00:00.000000000",
          "2019-02-26T00:00:00.000000000",
          "2019-02-27T00:00:00.000000000",
          "2019-02-28T00:00:00.000000000",
          "2019-03-01T00:00:00.000000000",
          "2019-03-02T00:00:00.000000000",
          "2019-03-03T00:00:00.000000000",
          "2019-03-04T00:00:00.000000000",
          "2019-03-05T00:00:00.000000000",
          "2019-03-06T00:00:00.000000000",
          "2019-03-07T00:00:00.000000000",
          "2019-03-08T00:00:00.000000000",
          "2019-03-09T00:00:00.000000000",
          "2019-03-10T00:00:00.000000000",
          "2019-03-11T00:00:00.000000000",
          "2019-03-12T00:00:00.000000000",
          "2019-03-13T00:00:00.000000000",
          "2019-03-14T00:00:00.000000000",
          "2019-03-15T00:00:00.000000000",
          "2019-03-16T00:00:00.000000000",
          "2019-03-17T00:00:00.000000000",
          "2019-03-18T00:00:00.000000000",
          "2019-03-19T00:00:00.000000000",
          "2019-03-20T00:00:00.000000000",
          "2019-03-21T00:00:00.000000000",
          "2019-03-22T00:00:00.000000000",
          "2019-03-23T00:00:00.000000000",
          "2019-03-24T00:00:00.000000000",
          "2019-03-25T00:00:00.000000000",
          "2019-03-26T00:00:00.000000000",
          "2019-03-27T00:00:00.000000000",
          "2019-03-28T00:00:00.000000000",
          "2019-03-29T00:00:00.000000000",
          "2019-03-30T00:00:00.000000000",
          "2019-03-31T00:00:00.000000000",
          "2019-04-01T00:00:00.000000000",
          "2019-04-02T00:00:00.000000000",
          "2019-04-03T00:00:00.000000000",
          "2019-04-04T00:00:00.000000000",
          "2019-04-05T00:00:00.000000000",
          "2019-04-06T00:00:00.000000000",
          "2019-04-07T00:00:00.000000000",
          "2019-04-08T00:00:00.000000000",
          "2019-04-09T00:00:00.000000000",
          "2019-04-10T00:00:00.000000000",
          "2019-04-11T00:00:00.000000000",
          "2019-04-12T00:00:00.000000000",
          "2019-04-13T00:00:00.000000000",
          "2019-04-14T00:00:00.000000000",
          "2019-04-15T00:00:00.000000000",
          "2019-04-16T00:00:00.000000000",
          "2019-04-17T00:00:00.000000000",
          "2019-04-18T00:00:00.000000000",
          "2019-04-19T00:00:00.000000000",
          "2019-04-20T00:00:00.000000000",
          "2019-04-21T00:00:00.000000000",
          "2019-04-22T00:00:00.000000000",
          "2019-04-23T00:00:00.000000000",
          "2019-04-24T00:00:00.000000000",
          "2019-04-25T00:00:00.000000000",
          "2019-04-26T00:00:00.000000000",
          "2019-04-27T00:00:00.000000000",
          "2019-04-28T00:00:00.000000000",
          "2019-04-29T00:00:00.000000000",
          "2019-04-30T00:00:00.000000000",
          "2019-05-01T00:00:00.000000000",
          "2019-05-02T00:00:00.000000000",
          "2019-05-03T00:00:00.000000000",
          "2019-05-04T00:00:00.000000000",
          "2019-05-05T00:00:00.000000000",
          "2019-05-06T00:00:00.000000000",
          "2019-05-07T00:00:00.000000000",
          "2019-05-08T00:00:00.000000000",
          "2019-05-09T00:00:00.000000000",
          "2019-05-10T00:00:00.000000000",
          "2019-05-11T00:00:00.000000000",
          "2019-05-12T00:00:00.000000000",
          "2019-05-13T00:00:00.000000000",
          "2019-05-14T00:00:00.000000000",
          "2019-05-15T00:00:00.000000000",
          "2019-05-16T00:00:00.000000000",
          "2019-05-17T00:00:00.000000000",
          "2019-05-18T00:00:00.000000000",
          "2019-05-19T00:00:00.000000000",
          "2019-05-20T00:00:00.000000000",
          "2019-05-21T00:00:00.000000000",
          "2019-05-22T00:00:00.000000000",
          "2019-05-23T00:00:00.000000000",
          "2019-05-24T00:00:00.000000000",
          "2019-05-25T00:00:00.000000000",
          "2019-05-26T00:00:00.000000000",
          "2019-05-27T00:00:00.000000000",
          "2019-05-28T00:00:00.000000000",
          "2019-05-29T00:00:00.000000000",
          "2019-05-30T00:00:00.000000000",
          "2019-05-31T00:00:00.000000000",
          "2019-06-01T00:00:00.000000000",
          "2019-06-02T00:00:00.000000000",
          "2019-06-03T00:00:00.000000000",
          "2019-06-04T00:00:00.000000000",
          "2019-06-05T00:00:00.000000000",
          "2019-06-06T00:00:00.000000000",
          "2019-06-07T00:00:00.000000000",
          "2019-06-08T00:00:00.000000000",
          "2019-06-09T00:00:00.000000000",
          "2019-06-10T00:00:00.000000000",
          "2019-06-11T00:00:00.000000000",
          "2019-06-12T00:00:00.000000000",
          "2019-06-13T00:00:00.000000000",
          "2019-06-14T00:00:00.000000000",
          "2019-06-15T00:00:00.000000000",
          "2019-06-16T00:00:00.000000000",
          "2019-06-17T00:00:00.000000000",
          "2019-06-18T00:00:00.000000000",
          "2019-06-19T00:00:00.000000000",
          "2019-06-20T00:00:00.000000000",
          "2019-06-21T00:00:00.000000000",
          "2019-06-22T00:00:00.000000000",
          "2019-06-23T00:00:00.000000000",
          "2019-06-24T00:00:00.000000000",
          "2019-06-25T00:00:00.000000000",
          "2019-06-26T00:00:00.000000000",
          "2019-06-27T00:00:00.000000000",
          "2019-06-28T00:00:00.000000000",
          "2019-06-29T00:00:00.000000000",
          "2019-06-30T00:00:00.000000000",
          "2019-07-01T00:00:00.000000000",
          "2019-07-02T00:00:00.000000000",
          "2019-07-03T00:00:00.000000000",
          "2019-07-04T00:00:00.000000000",
          "2019-07-05T00:00:00.000000000",
          "2019-07-06T00:00:00.000000000",
          "2019-07-07T00:00:00.000000000",
          "2019-07-08T00:00:00.000000000",
          "2019-07-09T00:00:00.000000000",
          "2019-07-10T00:00:00.000000000",
          "2019-07-11T00:00:00.000000000",
          "2019-07-12T00:00:00.000000000",
          "2019-07-13T00:00:00.000000000",
          "2019-07-14T00:00:00.000000000",
          "2019-07-15T00:00:00.000000000",
          "2019-07-16T00:00:00.000000000",
          "2019-07-17T00:00:00.000000000",
          "2019-07-18T00:00:00.000000000",
          "2019-07-19T00:00:00.000000000",
          "2019-07-20T00:00:00.000000000",
          "2019-07-21T00:00:00.000000000",
          "2019-07-22T00:00:00.000000000",
          "2019-07-23T00:00:00.000000000",
          "2019-07-24T00:00:00.000000000",
          "2019-07-25T00:00:00.000000000",
          "2019-07-26T00:00:00.000000000",
          "2019-07-27T00:00:00.000000000",
          "2019-07-28T00:00:00.000000000",
          "2019-07-29T00:00:00.000000000",
          "2019-07-30T00:00:00.000000000",
          "2019-07-31T00:00:00.000000000",
          "2019-08-01T00:00:00.000000000",
          "2019-08-02T00:00:00.000000000",
          "2019-08-03T00:00:00.000000000",
          "2019-08-04T00:00:00.000000000",
          "2019-08-05T00:00:00.000000000",
          "2019-08-06T00:00:00.000000000",
          "2019-08-07T00:00:00.000000000",
          "2019-08-08T00:00:00.000000000",
          "2019-08-09T00:00:00.000000000",
          "2019-08-10T00:00:00.000000000",
          "2019-08-11T00:00:00.000000000",
          "2019-08-12T00:00:00.000000000",
          "2019-08-13T00:00:00.000000000",
          "2019-08-14T00:00:00.000000000",
          "2019-08-15T00:00:00.000000000",
          "2019-08-16T00:00:00.000000000",
          "2019-08-17T00:00:00.000000000",
          "2019-08-18T00:00:00.000000000",
          "2019-08-19T00:00:00.000000000",
          "2019-08-20T00:00:00.000000000",
          "2019-08-21T00:00:00.000000000",
          "2019-08-22T00:00:00.000000000",
          "2019-08-23T00:00:00.000000000",
          "2019-08-24T00:00:00.000000000",
          "2019-08-25T00:00:00.000000000",
          "2019-08-26T00:00:00.000000000",
          "2019-08-27T00:00:00.000000000",
          "2019-08-28T00:00:00.000000000",
          "2019-08-29T00:00:00.000000000",
          "2019-08-30T00:00:00.000000000",
          "2019-08-31T00:00:00.000000000",
          "2019-09-01T00:00:00.000000000",
          "2019-09-02T00:00:00.000000000",
          "2019-09-03T00:00:00.000000000",
          "2019-09-04T00:00:00.000000000",
          "2019-09-05T00:00:00.000000000",
          "2019-09-06T00:00:00.000000000",
          "2019-09-07T00:00:00.000000000",
          "2019-09-08T00:00:00.000000000",
          "2019-09-09T00:00:00.000000000",
          "2019-09-10T00:00:00.000000000",
          "2019-09-11T00:00:00.000000000",
          "2019-09-12T00:00:00.000000000",
          "2019-09-13T00:00:00.000000000",
          "2019-09-14T00:00:00.000000000",
          "2019-09-15T00:00:00.000000000",
          "2019-09-16T00:00:00.000000000",
          "2019-09-17T00:00:00.000000000",
          "2019-09-18T00:00:00.000000000",
          "2019-09-19T00:00:00.000000000",
          "2019-09-20T00:00:00.000000000",
          "2019-09-21T00:00:00.000000000",
          "2019-09-22T00:00:00.000000000",
          "2019-09-23T00:00:00.000000000",
          "2019-09-24T00:00:00.000000000",
          "2019-09-25T00:00:00.000000000",
          "2019-09-26T00:00:00.000000000",
          "2019-09-27T00:00:00.000000000",
          "2019-09-28T00:00:00.000000000",
          "2019-09-29T00:00:00.000000000",
          "2019-09-30T00:00:00.000000000",
          "2019-10-01T00:00:00.000000000",
          "2019-10-02T00:00:00.000000000",
          "2019-10-03T00:00:00.000000000",
          "2019-10-04T00:00:00.000000000",
          "2019-10-05T00:00:00.000000000",
          "2019-10-06T00:00:00.000000000",
          "2019-10-07T00:00:00.000000000",
          "2019-10-08T00:00:00.000000000",
          "2019-10-09T00:00:00.000000000",
          "2019-10-10T00:00:00.000000000",
          "2019-10-11T00:00:00.000000000",
          "2019-10-12T00:00:00.000000000",
          "2019-10-13T00:00:00.000000000",
          "2019-10-14T00:00:00.000000000",
          "2019-10-15T00:00:00.000000000",
          "2019-10-16T00:00:00.000000000",
          "2019-10-17T00:00:00.000000000",
          "2019-10-18T00:00:00.000000000",
          "2019-10-19T00:00:00.000000000",
          "2019-10-20T00:00:00.000000000",
          "2019-10-21T00:00:00.000000000",
          "2019-10-22T00:00:00.000000000",
          "2019-10-23T00:00:00.000000000",
          "2019-10-24T00:00:00.000000000",
          "2019-10-25T00:00:00.000000000",
          "2019-10-26T00:00:00.000000000",
          "2019-10-27T00:00:00.000000000",
          "2019-10-28T00:00:00.000000000",
          "2019-10-29T00:00:00.000000000",
          "2019-10-30T00:00:00.000000000",
          "2019-10-31T00:00:00.000000000",
          "2019-11-01T00:00:00.000000000",
          "2019-11-02T00:00:00.000000000",
          "2019-11-03T00:00:00.000000000",
          "2019-11-04T00:00:00.000000000",
          "2019-11-05T00:00:00.000000000",
          "2019-11-06T00:00:00.000000000",
          "2019-11-07T00:00:00.000000000",
          "2019-11-08T00:00:00.000000000",
          "2019-11-09T00:00:00.000000000",
          "2019-11-10T00:00:00.000000000",
          "2019-11-11T00:00:00.000000000",
          "2019-11-12T00:00:00.000000000",
          "2019-11-13T00:00:00.000000000",
          "2019-11-14T00:00:00.000000000",
          "2019-11-15T00:00:00.000000000",
          "2019-11-16T00:00:00.000000000",
          "2019-11-17T00:00:00.000000000",
          "2019-11-18T00:00:00.000000000",
          "2019-11-19T00:00:00.000000000",
          "2019-11-20T00:00:00.000000000",
          "2019-11-21T00:00:00.000000000",
          "2019-11-22T00:00:00.000000000",
          "2019-11-23T00:00:00.000000000",
          "2019-11-24T00:00:00.000000000",
          "2019-11-25T00:00:00.000000000",
          "2019-11-26T00:00:00.000000000",
          "2019-11-27T00:00:00.000000000",
          "2019-11-28T00:00:00.000000000",
          "2019-11-29T00:00:00.000000000",
          "2019-11-30T00:00:00.000000000",
          "2019-12-01T00:00:00.000000000",
          "2019-12-02T00:00:00.000000000",
          "2019-12-03T00:00:00.000000000",
          "2019-12-04T00:00:00.000000000",
          "2019-12-05T00:00:00.000000000",
          "2019-12-06T00:00:00.000000000",
          "2019-12-07T00:00:00.000000000",
          "2019-12-08T00:00:00.000000000",
          "2019-12-09T00:00:00.000000000",
          "2019-12-10T00:00:00.000000000",
          "2019-12-11T00:00:00.000000000",
          "2019-12-12T00:00:00.000000000",
          "2019-12-13T00:00:00.000000000",
          "2019-12-14T00:00:00.000000000",
          "2019-12-15T00:00:00.000000000",
          "2019-12-16T00:00:00.000000000",
          "2019-12-17T00:00:00.000000000",
          "2019-12-18T00:00:00.000000000",
          "2019-12-19T00:00:00.000000000",
          "2019-12-20T00:00:00.000000000",
          "2019-12-21T00:00:00.000000000",
          "2019-12-22T00:00:00.000000000",
          "2019-12-23T00:00:00.000000000",
          "2019-12-24T00:00:00.000000000",
          "2019-12-25T00:00:00.000000000",
          "2019-12-26T00:00:00.000000000",
          "2019-12-27T00:00:00.000000000",
          "2019-12-28T00:00:00.000000000",
          "2019-12-29T00:00:00.000000000",
          "2019-12-30T00:00:00.000000000",
          "2019-12-31T00:00:00.000000000",
          "2020-01-01T00:00:00.000000000",
          "2020-01-02T00:00:00.000000000",
          "2020-01-03T00:00:00.000000000",
          "2020-01-04T00:00:00.000000000",
          "2020-01-05T00:00:00.000000000",
          "2020-01-06T00:00:00.000000000",
          "2020-01-07T00:00:00.000000000",
          "2020-01-08T00:00:00.000000000",
          "2020-01-09T00:00:00.000000000",
          "2020-01-10T00:00:00.000000000",
          "2020-01-11T00:00:00.000000000",
          "2020-01-12T00:00:00.000000000",
          "2020-01-13T00:00:00.000000000",
          "2020-01-14T00:00:00.000000000",
          "2020-01-15T00:00:00.000000000",
          "2020-01-16T00:00:00.000000000",
          "2020-01-17T00:00:00.000000000",
          "2020-01-18T00:00:00.000000000",
          "2020-01-19T00:00:00.000000000",
          "2020-01-20T00:00:00.000000000",
          "2020-01-21T00:00:00.000000000",
          "2020-01-22T00:00:00.000000000",
          "2020-01-23T00:00:00.000000000",
          "2020-01-24T00:00:00.000000000",
          "2020-01-25T00:00:00.000000000",
          "2020-01-26T00:00:00.000000000",
          "2020-01-27T00:00:00.000000000",
          "2020-01-28T00:00:00.000000000",
          "2020-01-29T00:00:00.000000000",
          "2020-01-30T00:00:00.000000000",
          "2020-01-31T00:00:00.000000000",
          "2020-02-01T00:00:00.000000000",
          "2020-02-02T00:00:00.000000000",
          "2020-02-03T00:00:00.000000000",
          "2020-02-04T00:00:00.000000000",
          "2020-02-05T00:00:00.000000000",
          "2020-02-06T00:00:00.000000000",
          "2020-02-07T00:00:00.000000000",
          "2020-02-08T00:00:00.000000000",
          "2020-02-09T00:00:00.000000000",
          "2020-02-10T00:00:00.000000000",
          "2020-02-11T00:00:00.000000000",
          "2020-02-12T00:00:00.000000000",
          "2020-02-13T00:00:00.000000000",
          "2020-02-14T00:00:00.000000000",
          "2020-02-15T00:00:00.000000000",
          "2020-02-16T00:00:00.000000000",
          "2020-02-17T00:00:00.000000000",
          "2020-02-18T00:00:00.000000000",
          "2020-02-19T00:00:00.000000000",
          "2020-02-20T00:00:00.000000000",
          "2020-02-21T00:00:00.000000000",
          "2020-02-22T00:00:00.000000000",
          "2020-02-23T00:00:00.000000000",
          "2020-02-24T00:00:00.000000000",
          "2020-02-25T00:00:00.000000000",
          "2020-02-26T00:00:00.000000000",
          "2020-02-27T00:00:00.000000000",
          "2020-02-28T00:00:00.000000000",
          "2020-02-29T00:00:00.000000000",
          "2020-03-01T00:00:00.000000000",
          "2020-03-02T00:00:00.000000000",
          "2020-03-03T00:00:00.000000000",
          "2020-03-04T00:00:00.000000000",
          "2020-03-05T00:00:00.000000000",
          "2020-03-06T00:00:00.000000000",
          "2020-03-07T00:00:00.000000000",
          "2020-03-08T00:00:00.000000000",
          "2020-03-09T00:00:00.000000000",
          "2020-03-10T00:00:00.000000000",
          "2020-03-11T00:00:00.000000000",
          "2020-03-12T00:00:00.000000000",
          "2020-03-13T00:00:00.000000000",
          "2020-03-14T00:00:00.000000000",
          "2020-03-15T00:00:00.000000000",
          "2020-03-16T00:00:00.000000000",
          "2020-03-17T00:00:00.000000000",
          "2020-03-18T00:00:00.000000000",
          "2020-03-19T00:00:00.000000000",
          "2020-03-20T00:00:00.000000000",
          "2020-03-21T00:00:00.000000000",
          "2020-03-22T00:00:00.000000000",
          "2020-03-23T00:00:00.000000000",
          "2020-03-24T00:00:00.000000000",
          "2020-03-25T00:00:00.000000000",
          "2020-03-26T00:00:00.000000000",
          "2020-03-27T00:00:00.000000000",
          "2020-03-28T00:00:00.000000000",
          "2020-03-29T00:00:00.000000000",
          "2020-03-30T00:00:00.000000000",
          "2020-03-31T00:00:00.000000000",
          "2020-04-01T00:00:00.000000000",
          "2020-04-02T00:00:00.000000000",
          "2020-04-03T00:00:00.000000000",
          "2020-04-04T00:00:00.000000000",
          "2020-04-05T00:00:00.000000000",
          "2020-04-06T00:00:00.000000000",
          "2020-04-07T00:00:00.000000000",
          "2020-04-08T00:00:00.000000000",
          "2020-04-09T00:00:00.000000000",
          "2020-04-10T00:00:00.000000000",
          "2020-04-11T00:00:00.000000000",
          "2020-04-12T00:00:00.000000000",
          "2020-04-13T00:00:00.000000000",
          "2020-04-14T00:00:00.000000000",
          "2020-04-15T00:00:00.000000000",
          "2020-04-16T00:00:00.000000000",
          "2020-04-17T00:00:00.000000000",
          "2020-04-18T00:00:00.000000000",
          "2020-04-19T00:00:00.000000000",
          "2020-04-20T00:00:00.000000000",
          "2020-04-21T00:00:00.000000000",
          "2020-04-22T00:00:00.000000000",
          "2020-04-23T00:00:00.000000000",
          "2020-04-24T00:00:00.000000000",
          "2020-04-25T00:00:00.000000000",
          "2020-04-26T00:00:00.000000000",
          "2020-04-27T00:00:00.000000000",
          "2020-04-28T00:00:00.000000000",
          "2020-04-29T00:00:00.000000000",
          "2020-04-30T00:00:00.000000000",
          "2020-05-01T00:00:00.000000000",
          "2020-05-02T00:00:00.000000000",
          "2020-05-03T00:00:00.000000000",
          "2020-05-04T00:00:00.000000000",
          "2020-05-05T00:00:00.000000000",
          "2020-05-06T00:00:00.000000000",
          "2020-05-07T00:00:00.000000000",
          "2020-05-08T00:00:00.000000000",
          "2020-05-09T00:00:00.000000000",
          "2020-05-10T00:00:00.000000000",
          "2020-05-11T00:00:00.000000000",
          "2020-05-12T00:00:00.000000000",
          "2020-05-13T00:00:00.000000000",
          "2020-05-14T00:00:00.000000000",
          "2020-05-15T00:00:00.000000000",
          "2020-05-16T00:00:00.000000000",
          "2020-05-17T00:00:00.000000000",
          "2020-05-18T00:00:00.000000000",
          "2020-05-19T00:00:00.000000000",
          "2020-05-20T00:00:00.000000000",
          "2020-05-21T00:00:00.000000000",
          "2020-05-22T00:00:00.000000000",
          "2020-05-23T00:00:00.000000000",
          "2020-05-24T00:00:00.000000000",
          "2020-05-25T00:00:00.000000000",
          "2020-05-26T00:00:00.000000000",
          "2020-05-27T00:00:00.000000000",
          "2020-05-28T00:00:00.000000000",
          "2020-05-29T00:00:00.000000000",
          "2020-05-30T00:00:00.000000000",
          "2020-05-31T00:00:00.000000000",
          "2020-06-01T00:00:00.000000000",
          "2020-06-02T00:00:00.000000000",
          "2020-06-03T00:00:00.000000000",
          "2020-06-04T00:00:00.000000000",
          "2020-06-05T00:00:00.000000000",
          "2020-06-06T00:00:00.000000000",
          "2020-06-07T00:00:00.000000000",
          "2020-06-08T00:00:00.000000000",
          "2020-06-09T00:00:00.000000000",
          "2020-06-10T00:00:00.000000000",
          "2020-06-11T00:00:00.000000000",
          "2020-06-12T00:00:00.000000000",
          "2020-06-13T00:00:00.000000000",
          "2020-06-14T00:00:00.000000000",
          "2020-06-15T00:00:00.000000000",
          "2020-06-16T00:00:00.000000000",
          "2020-06-17T00:00:00.000000000",
          "2020-06-18T00:00:00.000000000",
          "2020-06-19T00:00:00.000000000",
          "2020-06-20T00:00:00.000000000",
          "2020-06-21T00:00:00.000000000",
          "2020-06-22T00:00:00.000000000",
          "2020-06-23T00:00:00.000000000",
          "2020-06-24T00:00:00.000000000",
          "2020-06-25T00:00:00.000000000",
          "2020-06-26T00:00:00.000000000",
          "2020-06-27T00:00:00.000000000",
          "2020-06-28T00:00:00.000000000",
          "2020-06-29T00:00:00.000000000",
          "2020-06-30T00:00:00.000000000",
          "2020-07-01T00:00:00.000000000",
          "2020-07-02T00:00:00.000000000",
          "2020-07-03T00:00:00.000000000",
          "2020-07-04T00:00:00.000000000",
          "2020-07-05T00:00:00.000000000",
          "2020-07-06T00:00:00.000000000",
          "2020-07-07T00:00:00.000000000",
          "2020-07-08T00:00:00.000000000",
          "2020-07-09T00:00:00.000000000",
          "2020-07-10T00:00:00.000000000",
          "2020-07-11T00:00:00.000000000",
          "2020-07-12T00:00:00.000000000",
          "2020-07-13T00:00:00.000000000",
          "2020-07-14T00:00:00.000000000",
          "2020-07-15T00:00:00.000000000",
          "2020-07-16T00:00:00.000000000",
          "2020-07-17T00:00:00.000000000",
          "2020-07-18T00:00:00.000000000",
          "2020-07-19T00:00:00.000000000",
          "2020-07-20T00:00:00.000000000",
          "2020-07-21T00:00:00.000000000",
          "2020-07-22T00:00:00.000000000",
          "2020-07-23T00:00:00.000000000",
          "2020-07-24T00:00:00.000000000",
          "2020-07-25T00:00:00.000000000",
          "2020-07-26T00:00:00.000000000",
          "2020-07-27T00:00:00.000000000",
          "2020-07-28T00:00:00.000000000",
          "2020-07-29T00:00:00.000000000",
          "2020-07-30T00:00:00.000000000",
          "2020-07-31T00:00:00.000000000",
          "2020-08-01T00:00:00.000000000",
          "2020-08-02T00:00:00.000000000",
          "2020-08-03T00:00:00.000000000",
          "2020-08-04T00:00:00.000000000",
          "2020-08-05T00:00:00.000000000",
          "2020-08-06T00:00:00.000000000",
          "2020-08-07T00:00:00.000000000",
          "2020-08-08T00:00:00.000000000",
          "2020-08-09T00:00:00.000000000",
          "2020-08-10T00:00:00.000000000",
          "2020-08-11T00:00:00.000000000",
          "2020-08-12T00:00:00.000000000",
          "2020-08-13T00:00:00.000000000",
          "2020-08-14T00:00:00.000000000",
          "2020-08-15T00:00:00.000000000",
          "2020-08-16T00:00:00.000000000",
          "2020-08-17T00:00:00.000000000",
          "2020-08-18T00:00:00.000000000",
          "2020-08-19T00:00:00.000000000",
          "2020-08-20T00:00:00.000000000",
          "2020-08-21T00:00:00.000000000",
          "2020-08-22T00:00:00.000000000",
          "2020-08-23T00:00:00.000000000",
          "2020-08-24T00:00:00.000000000",
          "2020-08-25T00:00:00.000000000",
          "2020-08-26T00:00:00.000000000",
          "2020-08-27T00:00:00.000000000",
          "2020-08-28T00:00:00.000000000",
          "2020-08-29T00:00:00.000000000",
          "2020-08-30T00:00:00.000000000",
          "2020-08-31T00:00:00.000000000",
          "2020-09-01T00:00:00.000000000",
          "2020-09-02T00:00:00.000000000",
          "2020-09-03T00:00:00.000000000",
          "2020-09-04T00:00:00.000000000",
          "2020-09-05T00:00:00.000000000",
          "2020-09-06T00:00:00.000000000",
          "2020-09-07T00:00:00.000000000",
          "2020-09-08T00:00:00.000000000",
          "2020-09-09T00:00:00.000000000",
          "2020-09-10T00:00:00.000000000",
          "2020-09-11T00:00:00.000000000",
          "2020-09-12T00:00:00.000000000",
          "2020-09-13T00:00:00.000000000",
          "2020-09-14T00:00:00.000000000",
          "2020-09-15T00:00:00.000000000",
          "2020-09-16T00:00:00.000000000",
          "2020-09-17T00:00:00.000000000",
          "2020-09-18T00:00:00.000000000",
          "2020-09-19T00:00:00.000000000",
          "2020-09-20T00:00:00.000000000",
          "2020-09-21T00:00:00.000000000",
          "2020-09-22T00:00:00.000000000",
          "2020-09-23T00:00:00.000000000",
          "2020-09-24T00:00:00.000000000",
          "2020-09-25T00:00:00.000000000",
          "2020-09-26T00:00:00.000000000",
          "2020-09-27T00:00:00.000000000",
          "2020-09-28T00:00:00.000000000",
          "2020-09-29T00:00:00.000000000",
          "2020-09-30T00:00:00.000000000",
          "2020-10-01T00:00:00.000000000",
          "2020-10-02T00:00:00.000000000",
          "2020-10-03T00:00:00.000000000",
          "2020-10-04T00:00:00.000000000",
          "2020-10-05T00:00:00.000000000",
          "2020-10-06T00:00:00.000000000",
          "2020-10-07T00:00:00.000000000",
          "2020-10-08T00:00:00.000000000",
          "2020-10-09T00:00:00.000000000",
          "2020-10-10T00:00:00.000000000",
          "2020-10-11T00:00:00.000000000",
          "2020-10-12T00:00:00.000000000",
          "2020-10-13T00:00:00.000000000",
          "2020-10-14T00:00:00.000000000",
          "2020-10-15T00:00:00.000000000",
          "2020-10-16T00:00:00.000000000",
          "2020-10-17T00:00:00.000000000",
          "2020-10-18T00:00:00.000000000",
          "2020-10-19T00:00:00.000000000",
          "2020-10-20T00:00:00.000000000",
          "2020-10-21T00:00:00.000000000",
          "2020-10-22T00:00:00.000000000",
          "2020-10-23T00:00:00.000000000",
          "2020-10-24T00:00:00.000000000",
          "2020-10-25T00:00:00.000000000",
          "2020-10-26T00:00:00.000000000",
          "2020-10-27T00:00:00.000000000",
          "2020-10-28T00:00:00.000000000",
          "2020-10-29T00:00:00.000000000",
          "2020-10-30T00:00:00.000000000",
          "2020-10-31T00:00:00.000000000",
          "2020-11-01T00:00:00.000000000",
          "2020-11-02T00:00:00.000000000",
          "2020-11-03T00:00:00.000000000",
          "2020-11-04T00:00:00.000000000",
          "2020-11-05T00:00:00.000000000",
          "2020-11-06T00:00:00.000000000",
          "2020-11-07T00:00:00.000000000",
          "2020-11-08T00:00:00.000000000",
          "2020-11-09T00:00:00.000000000",
          "2020-11-10T00:00:00.000000000",
          "2020-11-11T00:00:00.000000000",
          "2020-11-12T00:00:00.000000000",
          "2020-11-13T00:00:00.000000000",
          "2020-11-14T00:00:00.000000000",
          "2020-11-15T00:00:00.000000000",
          "2020-11-16T00:00:00.000000000",
          "2020-11-17T00:00:00.000000000",
          "2020-11-18T00:00:00.000000000",
          "2020-11-19T00:00:00.000000000",
          "2020-11-20T00:00:00.000000000",
          "2020-11-21T00:00:00.000000000",
          "2020-11-22T00:00:00.000000000",
          "2020-11-23T00:00:00.000000000",
          "2020-11-24T00:00:00.000000000",
          "2020-11-25T00:00:00.000000000",
          "2020-11-26T00:00:00.000000000",
          "2020-11-27T00:00:00.000000000",
          "2020-11-28T00:00:00.000000000",
          "2020-11-29T00:00:00.000000000",
          "2020-11-30T00:00:00.000000000",
          "2020-12-01T00:00:00.000000000",
          "2020-12-02T00:00:00.000000000",
          "2020-12-03T00:00:00.000000000",
          "2020-12-04T00:00:00.000000000",
          "2020-12-05T00:00:00.000000000",
          "2020-12-06T00:00:00.000000000",
          "2020-12-07T00:00:00.000000000",
          "2020-12-08T00:00:00.000000000",
          "2020-12-09T00:00:00.000000000",
          "2020-12-10T00:00:00.000000000",
          "2020-12-11T00:00:00.000000000",
          "2020-12-12T00:00:00.000000000",
          "2020-12-13T00:00:00.000000000",
          "2020-12-14T00:00:00.000000000",
          "2020-12-15T00:00:00.000000000",
          "2020-12-16T00:00:00.000000000",
          "2020-12-17T00:00:00.000000000",
          "2020-12-18T00:00:00.000000000",
          "2020-12-19T00:00:00.000000000",
          "2020-12-20T00:00:00.000000000",
          "2020-12-21T00:00:00.000000000",
          "2020-12-22T00:00:00.000000000",
          "2020-12-23T00:00:00.000000000",
          "2020-12-24T00:00:00.000000000",
          "2020-12-25T00:00:00.000000000",
          "2020-12-26T00:00:00.000000000",
          "2020-12-27T00:00:00.000000000",
          "2020-12-28T00:00:00.000000000",
          "2020-12-29T00:00:00.000000000",
          "2020-12-30T00:00:00.000000000",
          "2020-12-31T00:00:00.000000000",
          "2021-01-01T00:00:00.000000000",
          "2021-01-02T00:00:00.000000000",
          "2021-01-03T00:00:00.000000000",
          "2021-01-04T00:00:00.000000000",
          "2021-01-05T00:00:00.000000000",
          "2021-01-06T00:00:00.000000000",
          "2021-01-07T00:00:00.000000000",
          "2021-01-08T00:00:00.000000000",
          "2021-01-09T00:00:00.000000000",
          "2021-01-10T00:00:00.000000000",
          "2021-01-11T00:00:00.000000000",
          "2021-01-12T00:00:00.000000000",
          "2021-01-13T00:00:00.000000000",
          "2021-01-14T00:00:00.000000000",
          "2021-01-15T00:00:00.000000000",
          "2021-01-16T00:00:00.000000000",
          "2021-01-17T00:00:00.000000000",
          "2021-01-18T00:00:00.000000000",
          "2021-01-19T00:00:00.000000000",
          "2021-01-20T00:00:00.000000000",
          "2021-01-21T00:00:00.000000000",
          "2021-01-22T00:00:00.000000000",
          "2021-01-23T00:00:00.000000000",
          "2021-01-24T00:00:00.000000000",
          "2021-01-25T00:00:00.000000000",
          "2021-01-26T00:00:00.000000000",
          "2021-01-27T00:00:00.000000000",
          "2021-01-28T00:00:00.000000000",
          "2021-01-29T00:00:00.000000000",
          "2021-01-30T00:00:00.000000000",
          "2021-01-31T00:00:00.000000000",
          "2021-02-01T00:00:00.000000000",
          "2021-02-02T00:00:00.000000000",
          "2021-02-03T00:00:00.000000000",
          "2021-02-04T00:00:00.000000000",
          "2021-02-05T00:00:00.000000000",
          "2021-02-06T00:00:00.000000000",
          "2021-02-07T00:00:00.000000000",
          "2021-02-08T00:00:00.000000000",
          "2021-02-09T00:00:00.000000000",
          "2021-02-10T00:00:00.000000000",
          "2021-02-11T00:00:00.000000000",
          "2021-02-12T00:00:00.000000000",
          "2021-02-13T00:00:00.000000000",
          "2021-02-14T00:00:00.000000000",
          "2021-02-15T00:00:00.000000000",
          "2021-02-16T00:00:00.000000000",
          "2021-02-17T00:00:00.000000000",
          "2021-02-18T00:00:00.000000000",
          "2021-02-19T00:00:00.000000000",
          "2021-02-20T00:00:00.000000000",
          "2021-02-21T00:00:00.000000000",
          "2021-02-22T00:00:00.000000000",
          "2021-02-23T00:00:00.000000000",
          "2021-02-24T00:00:00.000000000",
          "2021-02-25T00:00:00.000000000",
          "2021-02-26T00:00:00.000000000",
          "2021-02-27T00:00:00.000000000",
          "2021-02-28T00:00:00.000000000",
          "2021-03-01T00:00:00.000000000",
          "2021-03-02T00:00:00.000000000",
          "2021-03-03T00:00:00.000000000",
          "2021-03-04T00:00:00.000000000",
          "2021-03-05T00:00:00.000000000",
          "2021-03-06T00:00:00.000000000",
          "2021-03-07T00:00:00.000000000",
          "2021-03-08T00:00:00.000000000",
          "2021-03-09T00:00:00.000000000",
          "2021-03-10T00:00:00.000000000",
          "2021-03-11T00:00:00.000000000",
          "2021-03-12T00:00:00.000000000",
          "2021-03-13T00:00:00.000000000",
          "2021-03-14T00:00:00.000000000",
          "2021-03-15T00:00:00.000000000",
          "2021-03-16T00:00:00.000000000",
          "2021-03-17T00:00:00.000000000",
          "2021-03-18T00:00:00.000000000",
          "2021-03-19T00:00:00.000000000",
          "2021-03-20T00:00:00.000000000",
          "2021-03-21T00:00:00.000000000",
          "2021-03-22T00:00:00.000000000",
          "2021-03-23T00:00:00.000000000",
          "2021-03-24T00:00:00.000000000",
          "2021-03-25T00:00:00.000000000",
          "2021-03-26T00:00:00.000000000",
          "2021-03-27T00:00:00.000000000",
          "2021-03-28T00:00:00.000000000",
          "2021-03-29T00:00:00.000000000",
          "2021-03-30T00:00:00.000000000",
          "2021-03-31T00:00:00.000000000",
          "2021-04-01T00:00:00.000000000",
          "2021-04-02T00:00:00.000000000",
          "2021-04-03T00:00:00.000000000",
          "2021-04-04T00:00:00.000000000",
          "2021-04-05T00:00:00.000000000",
          "2021-04-06T00:00:00.000000000",
          "2021-04-07T00:00:00.000000000",
          "2021-04-08T00:00:00.000000000",
          "2021-04-09T00:00:00.000000000",
          "2021-04-10T00:00:00.000000000",
          "2021-04-11T00:00:00.000000000",
          "2021-04-12T00:00:00.000000000",
          "2021-04-13T00:00:00.000000000",
          "2021-04-14T00:00:00.000000000",
          "2021-04-15T00:00:00.000000000",
          "2021-04-16T00:00:00.000000000",
          "2021-04-17T00:00:00.000000000",
          "2021-04-18T00:00:00.000000000",
          "2021-04-19T00:00:00.000000000",
          "2021-04-20T00:00:00.000000000",
          "2021-04-21T00:00:00.000000000",
          "2021-04-22T00:00:00.000000000",
          "2021-04-23T00:00:00.000000000",
          "2021-04-24T00:00:00.000000000",
          "2021-04-25T00:00:00.000000000",
          "2021-04-26T00:00:00.000000000",
          "2021-04-27T00:00:00.000000000",
          "2021-04-28T00:00:00.000000000",
          "2021-04-29T00:00:00.000000000",
          "2021-04-30T00:00:00.000000000",
          "2021-05-01T00:00:00.000000000",
          "2021-05-02T00:00:00.000000000",
          "2021-05-03T00:00:00.000000000",
          "2021-05-04T00:00:00.000000000",
          "2021-05-05T00:00:00.000000000",
          "2021-05-06T00:00:00.000000000",
          "2021-05-07T00:00:00.000000000",
          "2021-05-08T00:00:00.000000000",
          "2021-05-09T00:00:00.000000000",
          "2021-05-10T00:00:00.000000000",
          "2021-05-11T00:00:00.000000000",
          "2021-05-12T00:00:00.000000000",
          "2021-05-13T00:00:00.000000000",
          "2021-05-14T00:00:00.000000000",
          "2021-05-15T00:00:00.000000000",
          "2021-05-16T00:00:00.000000000",
          "2021-05-17T00:00:00.000000000",
          "2021-05-18T00:00:00.000000000",
          "2021-05-19T00:00:00.000000000",
          "2021-05-20T00:00:00.000000000",
          "2021-05-21T00:00:00.000000000",
          "2021-05-22T00:00:00.000000000",
          "2021-05-23T00:00:00.000000000",
          "2021-05-24T00:00:00.000000000",
          "2021-05-25T00:00:00.000000000",
          "2021-05-26T00:00:00.000000000",
          "2021-05-27T00:00:00.000000000",
          "2021-05-28T00:00:00.000000000",
          "2021-05-29T00:00:00.000000000",
          "2021-05-30T00:00:00.000000000",
          "2021-05-31T00:00:00.000000000",
          "2021-06-01T00:00:00.000000000",
          "2021-06-02T00:00:00.000000000",
          "2021-06-03T00:00:00.000000000",
          "2021-06-04T00:00:00.000000000",
          "2021-06-05T00:00:00.000000000",
          "2021-06-06T00:00:00.000000000",
          "2021-06-07T00:00:00.000000000",
          "2021-06-08T00:00:00.000000000",
          "2021-06-09T00:00:00.000000000",
          "2021-06-10T00:00:00.000000000",
          "2021-06-11T00:00:00.000000000",
          "2021-06-12T00:00:00.000000000",
          "2021-06-13T00:00:00.000000000",
          "2021-06-14T00:00:00.000000000",
          "2021-06-15T00:00:00.000000000",
          "2021-06-16T00:00:00.000000000",
          "2021-06-17T00:00:00.000000000",
          "2021-06-18T00:00:00.000000000",
          "2021-06-19T00:00:00.000000000",
          "2021-06-20T00:00:00.000000000",
          "2021-06-21T00:00:00.000000000",
          "2021-06-22T00:00:00.000000000",
          "2021-06-23T00:00:00.000000000",
          "2021-06-24T00:00:00.000000000",
          "2021-06-25T00:00:00.000000000",
          "2021-06-26T00:00:00.000000000",
          "2021-06-27T00:00:00.000000000",
          "2021-06-28T00:00:00.000000000",
          "2021-06-29T00:00:00.000000000",
          "2021-06-30T00:00:00.000000000",
          "2021-07-01T00:00:00.000000000",
          "2021-07-02T00:00:00.000000000",
          "2021-07-03T00:00:00.000000000",
          "2021-07-04T00:00:00.000000000",
          "2021-07-05T00:00:00.000000000",
          "2021-07-06T00:00:00.000000000",
          "2021-07-07T00:00:00.000000000",
          "2021-07-08T00:00:00.000000000",
          "2021-07-09T00:00:00.000000000",
          "2021-07-10T00:00:00.000000000",
          "2021-07-11T00:00:00.000000000",
          "2021-07-12T00:00:00.000000000",
          "2021-07-13T00:00:00.000000000",
          "2021-07-14T00:00:00.000000000",
          "2021-07-15T00:00:00.000000000",
          "2021-07-16T00:00:00.000000000",
          "2021-07-17T00:00:00.000000000",
          "2021-07-18T00:00:00.000000000",
          "2021-07-19T00:00:00.000000000",
          "2021-07-20T00:00:00.000000000",
          "2021-07-21T00:00:00.000000000",
          "2021-07-22T00:00:00.000000000",
          "2021-07-23T00:00:00.000000000",
          "2021-07-24T00:00:00.000000000",
          "2021-07-25T00:00:00.000000000",
          "2021-07-26T00:00:00.000000000",
          "2021-07-27T00:00:00.000000000",
          "2021-07-28T00:00:00.000000000",
          "2021-07-29T00:00:00.000000000",
          "2021-07-30T00:00:00.000000000",
          "2021-07-31T00:00:00.000000000",
          "2021-08-01T00:00:00.000000000",
          "2021-08-02T00:00:00.000000000",
          "2021-08-03T00:00:00.000000000",
          "2021-08-04T00:00:00.000000000",
          "2021-08-05T00:00:00.000000000",
          "2021-08-06T00:00:00.000000000",
          "2021-08-07T00:00:00.000000000",
          "2021-08-08T00:00:00.000000000",
          "2021-08-09T00:00:00.000000000",
          "2021-08-10T00:00:00.000000000",
          "2021-08-11T00:00:00.000000000",
          "2021-08-12T00:00:00.000000000",
          "2021-08-13T00:00:00.000000000",
          "2021-08-14T00:00:00.000000000",
          "2021-08-15T00:00:00.000000000",
          "2021-08-16T00:00:00.000000000",
          "2021-08-17T00:00:00.000000000",
          "2021-08-18T00:00:00.000000000",
          "2021-08-19T00:00:00.000000000",
          "2021-08-20T00:00:00.000000000",
          "2021-08-21T00:00:00.000000000",
          "2021-08-22T00:00:00.000000000",
          "2021-08-23T00:00:00.000000000",
          "2021-08-24T00:00:00.000000000",
          "2021-08-25T00:00:00.000000000",
          "2021-08-26T00:00:00.000000000",
          "2021-08-27T00:00:00.000000000",
          "2021-08-28T00:00:00.000000000",
          "2021-08-29T00:00:00.000000000",
          "2021-08-30T00:00:00.000000000",
          "2021-08-31T00:00:00.000000000",
          "2021-09-01T00:00:00.000000000",
          "2021-09-02T00:00:00.000000000",
          "2021-09-03T00:00:00.000000000",
          "2021-09-04T00:00:00.000000000",
          "2021-09-05T00:00:00.000000000",
          "2021-09-06T00:00:00.000000000",
          "2021-09-07T00:00:00.000000000",
          "2021-09-08T00:00:00.000000000",
          "2021-09-09T00:00:00.000000000",
          "2021-09-10T00:00:00.000000000",
          "2021-09-11T00:00:00.000000000",
          "2021-09-12T00:00:00.000000000",
          "2021-09-13T00:00:00.000000000",
          "2021-09-14T00:00:00.000000000",
          "2021-09-15T00:00:00.000000000",
          "2021-09-16T00:00:00.000000000",
          "2021-09-17T00:00:00.000000000",
          "2021-09-18T00:00:00.000000000",
          "2021-09-19T00:00:00.000000000",
          "2021-09-20T00:00:00.000000000",
          "2021-09-21T00:00:00.000000000",
          "2021-09-22T00:00:00.000000000",
          "2021-09-23T00:00:00.000000000",
          "2021-09-24T00:00:00.000000000",
          "2021-09-25T00:00:00.000000000",
          "2021-09-26T00:00:00.000000000",
          "2021-09-27T00:00:00.000000000",
          "2021-09-28T00:00:00.000000000",
          "2021-09-29T00:00:00.000000000",
          "2021-09-30T00:00:00.000000000",
          "2021-10-01T00:00:00.000000000",
          "2021-10-02T00:00:00.000000000",
          "2021-10-03T00:00:00.000000000",
          "2021-10-04T00:00:00.000000000",
          "2021-10-05T00:00:00.000000000",
          "2021-10-06T00:00:00.000000000",
          "2021-10-07T00:00:00.000000000",
          "2021-10-08T00:00:00.000000000",
          "2021-10-09T00:00:00.000000000",
          "2021-10-10T00:00:00.000000000",
          "2021-10-11T00:00:00.000000000",
          "2021-10-12T00:00:00.000000000",
          "2021-10-13T00:00:00.000000000",
          "2021-10-14T00:00:00.000000000",
          "2021-10-15T00:00:00.000000000",
          "2021-10-16T00:00:00.000000000",
          "2021-10-17T00:00:00.000000000",
          "2021-10-18T00:00:00.000000000",
          "2021-10-19T00:00:00.000000000",
          "2021-10-20T00:00:00.000000000",
          "2021-10-21T00:00:00.000000000",
          "2021-10-22T00:00:00.000000000",
          "2021-10-23T00:00:00.000000000",
          "2021-10-24T00:00:00.000000000",
          "2021-10-25T00:00:00.000000000",
          "2021-10-26T00:00:00.000000000",
          "2021-10-27T00:00:00.000000000",
          "2021-10-28T00:00:00.000000000",
          "2021-10-29T00:00:00.000000000",
          "2021-10-30T00:00:00.000000000",
          "2021-10-31T00:00:00.000000000",
          "2021-11-01T00:00:00.000000000",
          "2021-11-02T00:00:00.000000000",
          "2021-11-03T00:00:00.000000000",
          "2021-11-04T00:00:00.000000000",
          "2021-11-05T00:00:00.000000000",
          "2021-11-06T00:00:00.000000000",
          "2021-11-07T00:00:00.000000000",
          "2021-11-08T00:00:00.000000000",
          "2021-11-09T00:00:00.000000000",
          "2021-11-10T00:00:00.000000000",
          "2021-11-11T00:00:00.000000000",
          "2021-11-12T00:00:00.000000000",
          "2021-11-13T00:00:00.000000000",
          "2021-11-14T00:00:00.000000000",
          "2021-11-15T00:00:00.000000000",
          "2021-11-16T00:00:00.000000000",
          "2021-11-17T00:00:00.000000000",
          "2021-11-18T00:00:00.000000000",
          "2021-11-19T00:00:00.000000000",
          "2021-11-20T00:00:00.000000000",
          "2021-11-21T00:00:00.000000000",
          "2021-11-22T00:00:00.000000000",
          "2021-11-23T00:00:00.000000000",
          "2021-11-24T00:00:00.000000000",
          "2021-11-25T00:00:00.000000000",
          "2021-11-26T00:00:00.000000000",
          "2021-11-27T00:00:00.000000000",
          "2021-11-28T00:00:00.000000000",
          "2021-11-29T00:00:00.000000000",
          "2021-11-30T00:00:00.000000000",
          "2021-12-01T00:00:00.000000000",
          "2021-12-02T00:00:00.000000000",
          "2021-12-03T00:00:00.000000000",
          "2021-12-04T00:00:00.000000000",
          "2021-12-05T00:00:00.000000000",
          "2021-12-06T00:00:00.000000000",
          "2021-12-07T00:00:00.000000000",
          "2021-12-08T00:00:00.000000000",
          "2021-12-09T00:00:00.000000000",
          "2021-12-10T00:00:00.000000000",
          "2021-12-11T00:00:00.000000000",
          "2021-12-12T00:00:00.000000000",
          "2021-12-13T00:00:00.000000000",
          "2021-12-14T00:00:00.000000000",
          "2021-12-15T00:00:00.000000000",
          "2021-12-16T00:00:00.000000000",
          "2021-12-17T00:00:00.000000000",
          "2021-12-18T00:00:00.000000000",
          "2021-12-19T00:00:00.000000000",
          "2021-12-20T00:00:00.000000000",
          "2021-12-21T00:00:00.000000000",
          "2021-12-22T00:00:00.000000000",
          "2021-12-23T00:00:00.000000000",
          "2021-12-24T00:00:00.000000000",
          "2021-12-25T00:00:00.000000000",
          "2021-12-26T00:00:00.000000000",
          "2021-12-27T00:00:00.000000000",
          "2021-12-28T00:00:00.000000000",
          "2021-12-29T00:00:00.000000000",
          "2021-12-30T00:00:00.000000000",
          "2021-12-31T00:00:00.000000000",
          "2022-01-01T00:00:00.000000000",
          "2022-01-02T00:00:00.000000000",
          "2022-01-03T00:00:00.000000000",
          "2022-01-04T00:00:00.000000000",
          "2022-01-05T00:00:00.000000000",
          "2022-01-06T00:00:00.000000000",
          "2022-01-07T00:00:00.000000000",
          "2022-01-08T00:00:00.000000000",
          "2022-01-09T00:00:00.000000000",
          "2022-01-10T00:00:00.000000000",
          "2022-01-11T00:00:00.000000000",
          "2022-01-12T00:00:00.000000000",
          "2022-01-13T00:00:00.000000000",
          "2022-01-14T00:00:00.000000000",
          "2022-01-15T00:00:00.000000000",
          "2022-01-16T00:00:00.000000000",
          "2022-01-17T00:00:00.000000000",
          "2022-01-18T00:00:00.000000000",
          "2022-01-19T00:00:00.000000000",
          "2022-01-20T00:00:00.000000000",
          "2022-01-21T00:00:00.000000000",
          "2022-01-22T00:00:00.000000000",
          "2022-01-23T00:00:00.000000000",
          "2022-01-24T00:00:00.000000000",
          "2022-01-25T00:00:00.000000000",
          "2022-01-26T00:00:00.000000000",
          "2022-01-27T00:00:00.000000000",
          "2022-01-28T00:00:00.000000000",
          "2022-01-29T00:00:00.000000000",
          "2022-01-30T00:00:00.000000000",
          "2022-01-31T00:00:00.000000000",
          "2022-02-01T00:00:00.000000000",
          "2022-02-02T00:00:00.000000000",
          "2022-02-03T00:00:00.000000000",
          "2022-02-04T00:00:00.000000000",
          "2022-02-05T00:00:00.000000000",
          "2022-02-06T00:00:00.000000000",
          "2022-02-07T00:00:00.000000000",
          "2022-02-08T00:00:00.000000000",
          "2022-02-09T00:00:00.000000000",
          "2022-02-10T00:00:00.000000000",
          "2022-02-11T00:00:00.000000000",
          "2022-02-12T00:00:00.000000000",
          "2022-02-13T00:00:00.000000000",
          "2022-02-14T00:00:00.000000000",
          "2022-02-15T00:00:00.000000000",
          "2022-02-16T00:00:00.000000000",
          "2022-02-17T00:00:00.000000000",
          "2022-02-18T00:00:00.000000000",
          "2022-02-19T00:00:00.000000000",
          "2022-02-20T00:00:00.000000000",
          "2022-02-21T00:00:00.000000000",
          "2022-02-22T00:00:00.000000000",
          "2022-02-23T00:00:00.000000000",
          "2022-02-24T00:00:00.000000000",
          "2022-02-25T00:00:00.000000000",
          "2022-02-26T00:00:00.000000000",
          "2022-02-27T00:00:00.000000000",
          "2022-02-28T00:00:00.000000000",
          "2022-03-01T00:00:00.000000000",
          "2022-03-02T00:00:00.000000000",
          "2022-03-03T00:00:00.000000000",
          "2022-03-04T00:00:00.000000000",
          "2022-03-05T00:00:00.000000000",
          "2022-03-06T00:00:00.000000000",
          "2022-03-07T00:00:00.000000000",
          "2022-03-08T00:00:00.000000000",
          "2022-03-09T00:00:00.000000000",
          "2022-03-10T00:00:00.000000000",
          "2022-03-11T00:00:00.000000000",
          "2022-03-12T00:00:00.000000000",
          "2022-03-13T00:00:00.000000000",
          "2022-03-14T00:00:00.000000000",
          "2022-03-15T00:00:00.000000000",
          "2022-03-16T00:00:00.000000000",
          "2022-03-17T00:00:00.000000000",
          "2022-03-18T00:00:00.000000000",
          "2022-03-19T00:00:00.000000000",
          "2022-03-20T00:00:00.000000000",
          "2022-03-21T00:00:00.000000000",
          "2022-03-22T00:00:00.000000000",
          "2022-03-23T00:00:00.000000000",
          "2022-03-24T00:00:00.000000000",
          "2022-03-25T00:00:00.000000000",
          "2022-03-26T00:00:00.000000000",
          "2022-03-27T00:00:00.000000000",
          "2022-03-28T00:00:00.000000000",
          "2022-03-29T00:00:00.000000000",
          "2022-03-30T00:00:00.000000000",
          "2022-03-31T00:00:00.000000000",
          "2022-04-01T00:00:00.000000000",
          "2022-04-02T00:00:00.000000000",
          "2022-04-03T00:00:00.000000000",
          "2022-04-04T00:00:00.000000000",
          "2022-04-05T00:00:00.000000000",
          "2022-04-06T00:00:00.000000000",
          "2022-04-07T00:00:00.000000000",
          "2022-04-08T00:00:00.000000000",
          "2022-04-09T00:00:00.000000000",
          "2022-04-10T00:00:00.000000000",
          "2022-04-11T00:00:00.000000000",
          "2022-04-12T00:00:00.000000000",
          "2022-04-13T00:00:00.000000000",
          "2022-04-14T00:00:00.000000000",
          "2022-04-15T00:00:00.000000000",
          "2022-04-16T00:00:00.000000000",
          "2022-04-17T00:00:00.000000000",
          "2022-04-18T00:00:00.000000000",
          "2022-04-19T00:00:00.000000000",
          "2022-04-20T00:00:00.000000000",
          "2022-04-21T00:00:00.000000000",
          "2022-04-22T00:00:00.000000000",
          "2022-04-23T00:00:00.000000000",
          "2022-04-24T00:00:00.000000000",
          "2022-04-25T00:00:00.000000000",
          "2022-04-26T00:00:00.000000000",
          "2022-04-27T00:00:00.000000000",
          "2022-04-28T00:00:00.000000000",
          "2022-04-29T00:00:00.000000000",
          "2022-04-30T00:00:00.000000000",
          "2022-05-01T00:00:00.000000000",
          "2022-05-02T00:00:00.000000000",
          "2022-05-03T00:00:00.000000000",
          "2022-05-04T00:00:00.000000000",
          "2022-05-05T00:00:00.000000000",
          "2022-05-06T00:00:00.000000000",
          "2022-05-07T00:00:00.000000000",
          "2022-05-08T00:00:00.000000000",
          "2022-05-09T00:00:00.000000000",
          "2022-05-10T00:00:00.000000000",
          "2022-05-11T00:00:00.000000000",
          "2022-05-12T00:00:00.000000000",
          "2022-05-13T00:00:00.000000000",
          "2022-05-14T00:00:00.000000000",
          "2022-05-15T00:00:00.000000000",
          "2022-05-16T00:00:00.000000000",
          "2022-05-17T00:00:00.000000000",
          "2022-05-18T00:00:00.000000000",
          "2022-05-19T00:00:00.000000000",
          "2022-05-20T00:00:00.000000000",
          "2022-05-21T00:00:00.000000000",
          "2022-05-22T00:00:00.000000000",
          "2022-05-23T00:00:00.000000000",
          "2022-05-24T00:00:00.000000000",
          "2022-05-25T00:00:00.000000000",
          "2022-05-26T00:00:00.000000000",
          "2022-05-27T00:00:00.000000000",
          "2022-05-28T00:00:00.000000000",
          "2022-05-29T00:00:00.000000000",
          "2022-05-30T00:00:00.000000000",
          "2022-05-31T00:00:00.000000000",
          "2022-06-01T00:00:00.000000000",
          "2022-06-02T00:00:00.000000000",
          "2022-06-03T00:00:00.000000000",
          "2022-06-04T00:00:00.000000000",
          "2022-06-05T00:00:00.000000000",
          "2022-06-06T00:00:00.000000000",
          "2022-06-07T00:00:00.000000000",
          "2022-06-08T00:00:00.000000000",
          "2022-06-09T00:00:00.000000000",
          "2022-06-10T00:00:00.000000000",
          "2022-06-11T00:00:00.000000000",
          "2022-06-12T00:00:00.000000000",
          "2022-06-13T00:00:00.000000000",
          "2022-06-14T00:00:00.000000000",
          "2022-06-15T00:00:00.000000000",
          "2022-06-16T00:00:00.000000000",
          "2022-06-17T00:00:00.000000000",
          "2022-06-18T00:00:00.000000000",
          "2022-06-19T00:00:00.000000000",
          "2022-06-20T00:00:00.000000000",
          "2022-06-21T00:00:00.000000000",
          "2022-06-22T00:00:00.000000000",
          "2022-06-23T00:00:00.000000000",
          "2022-06-24T00:00:00.000000000",
          "2022-06-25T00:00:00.000000000",
          "2022-06-26T00:00:00.000000000",
          "2022-06-27T00:00:00.000000000",
          "2022-06-28T00:00:00.000000000",
          "2022-06-29T00:00:00.000000000",
          "2022-06-30T00:00:00.000000000",
          "2022-07-01T00:00:00.000000000",
          "2022-07-02T00:00:00.000000000",
          "2022-07-03T00:00:00.000000000",
          "2022-07-04T00:00:00.000000000",
          "2022-07-05T00:00:00.000000000",
          "2022-07-06T00:00:00.000000000",
          "2022-07-07T00:00:00.000000000",
          "2022-07-08T00:00:00.000000000",
          "2022-07-09T00:00:00.000000000",
          "2022-07-10T00:00:00.000000000",
          "2022-07-11T00:00:00.000000000",
          "2022-07-12T00:00:00.000000000",
          "2022-07-13T00:00:00.000000000",
          "2022-07-14T00:00:00.000000000",
          "2022-07-15T00:00:00.000000000",
          "2022-07-16T00:00:00.000000000",
          "2022-07-17T00:00:00.000000000",
          "2022-07-18T00:00:00.000000000",
          "2022-07-19T00:00:00.000000000",
          "2022-07-20T00:00:00.000000000",
          "2022-07-21T00:00:00.000000000",
          "2022-07-22T00:00:00.000000000",
          "2022-07-23T00:00:00.000000000",
          "2022-07-24T00:00:00.000000000",
          "2022-07-25T00:00:00.000000000",
          "2022-07-26T00:00:00.000000000",
          "2022-07-27T00:00:00.000000000",
          "2022-07-28T00:00:00.000000000",
          "2022-07-29T00:00:00.000000000",
          "2022-07-30T00:00:00.000000000",
          "2022-07-31T00:00:00.000000000",
          "2022-08-01T00:00:00.000000000",
          "2022-08-02T00:00:00.000000000",
          "2022-08-03T00:00:00.000000000",
          "2022-08-04T00:00:00.000000000",
          "2022-08-05T00:00:00.000000000",
          "2022-08-06T00:00:00.000000000",
          "2022-08-07T00:00:00.000000000",
          "2022-08-08T00:00:00.000000000",
          "2022-08-09T00:00:00.000000000",
          "2022-08-10T00:00:00.000000000",
          "2022-08-11T00:00:00.000000000",
          "2022-08-12T00:00:00.000000000",
          "2022-08-13T00:00:00.000000000",
          "2022-08-14T00:00:00.000000000",
          "2022-08-15T00:00:00.000000000",
          "2022-08-16T00:00:00.000000000",
          "2022-08-17T00:00:00.000000000",
          "2022-08-18T00:00:00.000000000",
          "2022-08-19T00:00:00.000000000",
          "2022-08-20T00:00:00.000000000",
          "2022-08-21T00:00:00.000000000",
          "2022-08-22T00:00:00.000000000",
          "2022-08-23T00:00:00.000000000",
          "2022-08-24T00:00:00.000000000",
          "2022-08-25T00:00:00.000000000",
          "2022-08-26T00:00:00.000000000",
          "2022-08-27T00:00:00.000000000",
          "2022-08-28T00:00:00.000000000",
          "2022-08-29T00:00:00.000000000",
          "2022-08-30T00:00:00.000000000",
          "2022-08-31T00:00:00.000000000",
          "2022-09-01T00:00:00.000000000",
          "2022-09-02T00:00:00.000000000",
          "2022-09-03T00:00:00.000000000",
          "2022-09-04T00:00:00.000000000",
          "2022-09-05T00:00:00.000000000",
          "2022-09-06T00:00:00.000000000",
          "2022-09-07T00:00:00.000000000",
          "2022-09-08T00:00:00.000000000",
          "2022-09-09T00:00:00.000000000",
          "2022-09-10T00:00:00.000000000",
          "2022-09-11T00:00:00.000000000",
          "2022-09-12T00:00:00.000000000",
          "2022-09-13T00:00:00.000000000",
          "2022-09-14T00:00:00.000000000",
          "2022-09-15T00:00:00.000000000",
          "2022-09-16T00:00:00.000000000",
          "2022-09-17T00:00:00.000000000",
          "2022-09-18T00:00:00.000000000",
          "2022-09-19T00:00:00.000000000",
          "2022-09-20T00:00:00.000000000",
          "2022-09-21T00:00:00.000000000",
          "2022-09-22T00:00:00.000000000",
          "2022-09-23T00:00:00.000000000",
          "2022-09-24T00:00:00.000000000",
          "2022-09-25T00:00:00.000000000",
          "2022-09-26T00:00:00.000000000",
          "2022-09-27T00:00:00.000000000",
          "2022-09-28T00:00:00.000000000",
          "2022-09-29T00:00:00.000000000",
          "2022-09-30T00:00:00.000000000",
          "2022-10-01T00:00:00.000000000",
          "2022-10-02T00:00:00.000000000",
          "2022-10-03T00:00:00.000000000",
          "2022-10-04T00:00:00.000000000",
          "2022-10-05T00:00:00.000000000",
          "2022-10-06T00:00:00.000000000",
          "2022-10-07T00:00:00.000000000",
          "2022-10-08T00:00:00.000000000",
          "2022-10-09T00:00:00.000000000",
          "2022-10-10T00:00:00.000000000",
          "2022-10-11T00:00:00.000000000",
          "2022-10-12T00:00:00.000000000",
          "2022-10-13T00:00:00.000000000",
          "2022-10-14T00:00:00.000000000",
          "2022-10-15T00:00:00.000000000",
          "2022-10-16T00:00:00.000000000",
          "2022-10-17T00:00:00.000000000",
          "2022-10-18T00:00:00.000000000",
          "2022-10-19T00:00:00.000000000",
          "2022-10-20T00:00:00.000000000",
          "2022-10-21T00:00:00.000000000",
          "2022-10-22T00:00:00.000000000",
          "2022-10-23T00:00:00.000000000",
          "2022-10-24T00:00:00.000000000",
          "2022-10-25T00:00:00.000000000",
          "2022-10-26T00:00:00.000000000",
          "2022-10-27T00:00:00.000000000",
          "2022-10-28T00:00:00.000000000",
          "2022-10-29T00:00:00.000000000",
          "2022-10-30T00:00:00.000000000",
          "2022-10-31T00:00:00.000000000",
          "2022-11-01T00:00:00.000000000",
          "2022-11-02T00:00:00.000000000",
          "2022-11-03T00:00:00.000000000",
          "2022-11-04T00:00:00.000000000",
          "2022-11-05T00:00:00.000000000",
          "2022-11-06T00:00:00.000000000",
          "2022-11-07T00:00:00.000000000",
          "2022-11-08T00:00:00.000000000",
          "2022-11-09T00:00:00.000000000",
          "2022-11-10T00:00:00.000000000",
          "2022-11-11T00:00:00.000000000",
          "2022-11-12T00:00:00.000000000",
          "2022-11-13T00:00:00.000000000",
          "2022-11-14T00:00:00.000000000",
          "2022-11-15T00:00:00.000000000",
          "2022-11-16T00:00:00.000000000",
          "2022-11-17T00:00:00.000000000",
          "2022-11-18T00:00:00.000000000",
          "2022-11-19T00:00:00.000000000",
          "2022-11-20T00:00:00.000000000",
          "2022-11-21T00:00:00.000000000",
          "2022-11-22T00:00:00.000000000",
          "2022-11-23T00:00:00.000000000",
          "2022-11-24T00:00:00.000000000",
          "2022-11-25T00:00:00.000000000",
          "2022-11-26T00:00:00.000000000",
          "2022-11-27T00:00:00.000000000",
          "2022-11-28T00:00:00.000000000",
          "2022-11-29T00:00:00.000000000",
          "2022-11-30T00:00:00.000000000"
         ],
         "xaxis": "x",
         "y": {
          "bdata": "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",
          "dtype": "f8"
         },
         "yaxis": "y"
        }
       ],
       "layout": {
        "legend": {
         "title": {
          "text": "variable"
         },
         "tracegroupgap": 0
        },
        "margin": {
         "t": 60
        },
        "template": {
         "data": {
          "bar": [
           {
            "error_x": {
             "color": "#2a3f5f"
            },
            "error_y": {
             "color": "#2a3f5f"
            },
            "marker": {
             "line": {
              "color": "#E5ECF6",
              "width": 0.5
             },
             "pattern": {
              "fillmode": "overlay",
              "size": 10,
              "solidity": 0.2
             }
            },
            "type": "bar"
           }
          ],
          "barpolar": [
           {
            "marker": {
             "line": {
              "color": "#E5ECF6",
              "width": 0.5
             },
             "pattern": {
              "fillmode": "overlay",
              "size": 10,
              "solidity": 0.2
             }
            },
            "type": "barpolar"
           }
          ],
          "carpet": [
           {
            "aaxis": {
             "endlinecolor": "#2a3f5f",
             "gridcolor": "white",
             "linecolor": "white",
             "minorgridcolor": "white",
             "startlinecolor": "#2a3f5f"
            },
            "baxis": {
             "endlinecolor": "#2a3f5f",
             "gridcolor": "white",
             "linecolor": "white",
             "minorgridcolor": "white",
             "startlinecolor": "#2a3f5f"
            },
            "type": "carpet"
           }
          ],
          "choropleth": [
           {
            "colorbar": {
             "outlinewidth": 0,
             "ticks": ""
            },
            "type": "choropleth"
           }
          ],
          "contour": [
           {
            "colorbar": {
             "outlinewidth": 0,
             "ticks": ""
            },
            "colorscale": [
             [
              0,
              "#0d0887"
             ],
             [
              0.1111111111111111,
              "#46039f"
             ],
             [
              0.2222222222222222,
              "#7201a8"
             ],
             [
              0.3333333333333333,
              "#9c179e"
             ],
             [
              0.4444444444444444,
              "#bd3786"
             ],
             [
              0.5555555555555556,
              "#d8576b"
             ],
             [
              0.6666666666666666,
              "#ed7953"
             ],
             [
              0.7777777777777778,
              "#fb9f3a"
             ],
             [
              0.8888888888888888,
              "#fdca26"
             ],
             [
              1,
              "#f0f921"
             ]
            ],
            "type": "contour"
           }
          ],
          "contourcarpet": [
           {
            "colorbar": {
             "outlinewidth": 0,
             "ticks": ""
            },
            "type": "contourcarpet"
           }
          ],
          "heatmap": [
           {
            "colorbar": {
             "outlinewidth": 0,
             "ticks": ""
            },
            "colorscale": [
             [
              0,
              "#0d0887"
             ],
             [
              0.1111111111111111,
              "#46039f"
             ],
             [
              0.2222222222222222,
              "#7201a8"
             ],
             [
              0.3333333333333333,
              "#9c179e"
             ],
             [
              0.4444444444444444,
              "#bd3786"
             ],
             [
              0.5555555555555556,
              "#d8576b"
             ],
             [
              0.6666666666666666,
              "#ed7953"
             ],
             [
              0.7777777777777778,
              "#fb9f3a"
             ],
             [
              0.8888888888888888,
              "#fdca26"
             ],
             [
              1,
              "#f0f921"
             ]
            ],
            "type": "heatmap"
           }
          ],
          "histogram": [
           {
            "marker": {
             "pattern": {
              "fillmode": "overlay",
              "size": 10,
              "solidity": 0.2
             }
            },
            "type": "histogram"
           }
          ],
          "histogram2d": [
           {
            "colorbar": {
             "outlinewidth": 0,
             "ticks": ""
            },
            "colorscale": [
             [
              0,
              "#0d0887"
             ],
             [
              0.1111111111111111,
              "#46039f"
             ],
             [
              0.2222222222222222,
              "#7201a8"
             ],
             [
              0.3333333333333333,
              "#9c179e"
             ],
             [
              0.4444444444444444,
              "#bd3786"
             ],
             [
              0.5555555555555556,
              "#d8576b"
             ],
             [
              0.6666666666666666,
              "#ed7953"
             ],
             [
              0.7777777777777778,
              "#fb9f3a"
             ],
             [
              0.8888888888888888,
              "#fdca26"
             ],
             [
              1,
              "#f0f921"
             ]
            ],
            "type": "histogram2d"
           }
          ],
          "histogram2dcontour": [
           {
            "colorbar": {
             "outlinewidth": 0,
             "ticks": ""
            },
            "colorscale": [
             [
              0,
              "#0d0887"
             ],
             [
              0.1111111111111111,
              "#46039f"
             ],
             [
              0.2222222222222222,
              "#7201a8"
             ],
             [
              0.3333333333333333,
              "#9c179e"
             ],
             [
              0.4444444444444444,
              "#bd3786"
             ],
             [
              0.5555555555555556,
              "#d8576b"
             ],
             [
              0.6666666666666666,
              "#ed7953"
             ],
             [
              0.7777777777777778,
              "#fb9f3a"
             ],
             [
              0.8888888888888888,
              "#fdca26"
             ],
             [
              1,
              "#f0f921"
             ]
            ],
            "type": "histogram2dcontour"
           }
          ],
          "mesh3d": [
           {
            "colorbar": {
             "outlinewidth": 0,
             "ticks": ""
            },
            "type": "mesh3d"
           }
          ],
          "parcoords": [
           {
            "line": {
             "colorbar": {
              "outlinewidth": 0,
              "ticks": ""
             }
            },
            "type": "parcoords"
           }
          ],
          "pie": [
           {
            "automargin": true,
            "type": "pie"
           }
          ],
          "scatter": [
           {
            "fillpattern": {
             "fillmode": "overlay",
             "size": 10,
             "solidity": 0.2
            },
            "type": "scatter"
           }
          ],
          "scatter3d": [
           {
            "line": {
             "colorbar": {
              "outlinewidth": 0,
              "ticks": ""
             }
            },
            "marker": {
             "colorbar": {
              "outlinewidth": 0,
              "ticks": ""
             }
            },
            "type": "scatter3d"
           }
          ],
          "scattercarpet": [
           {
            "marker": {
             "colorbar": {
              "outlinewidth": 0,
              "ticks": ""
             }
            },
            "type": "scattercarpet"
           }
          ],
          "scattergeo": [
           {
            "marker": {
             "colorbar": {
              "outlinewidth": 0,
              "ticks": ""
             }
            },
            "type": "scattergeo"
           }
          ],
          "scattergl": [
           {
            "marker": {
             "colorbar": {
              "outlinewidth": 0,
              "ticks": ""
             }
            },
            "type": "scattergl"
           }
          ],
          "scattermap": [
           {
            "marker": {
             "colorbar": {
              "outlinewidth": 0,
              "ticks": ""
             }
            },
            "type": "scattermap"
           }
          ],
          "scattermapbox": [
           {
            "marker": {
             "colorbar": {
              "outlinewidth": 0,
              "ticks": ""
             }
            },
            "type": "scattermapbox"
           }
          ],
          "scatterpolar": [
           {
            "marker": {
             "colorbar": {
              "outlinewidth": 0,
              "ticks": ""
             }
            },
            "type": "scatterpolar"
           }
          ],
          "scatterpolargl": [
           {
            "marker": {
             "colorbar": {
              "outlinewidth": 0,
              "ticks": ""
             }
            },
            "type": "scatterpolargl"
           }
          ],
          "scatterternary": [
           {
            "marker": {
             "colorbar": {
              "outlinewidth": 0,
              "ticks": ""
             }
            },
            "type": "scatterternary"
           }
          ],
          "surface": [
           {
            "colorbar": {
             "outlinewidth": 0,
             "ticks": ""
            },
            "colorscale": [
             [
              0,
              "#0d0887"
             ],
             [
              0.1111111111111111,
              "#46039f"
             ],
             [
              0.2222222222222222,
              "#7201a8"
             ],
             [
              0.3333333333333333,
              "#9c179e"
             ],
             [
              0.4444444444444444,
              "#bd3786"
             ],
             [
              0.5555555555555556,
              "#d8576b"
             ],
             [
              0.6666666666666666,
              "#ed7953"
             ],
             [
              0.7777777777777778,
              "#fb9f3a"
             ],
             [
              0.8888888888888888,
              "#fdca26"
             ],
             [
              1,
              "#f0f921"
             ]
            ],
            "type": "surface"
           }
          ],
          "table": [
           {
            "cells": {
             "fill": {
              "color": "#EBF0F8"
             },
             "line": {
              "color": "white"
             }
            },
            "header": {
             "fill": {
              "color": "#C8D4E3"
             },
             "line": {
              "color": "white"
             }
            },
            "type": "table"
           }
          ]
         },
         "layout": {
          "annotationdefaults": {
           "arrowcolor": "#2a3f5f",
           "arrowhead": 0,
           "arrowwidth": 1
          },
          "autotypenumbers": "strict",
          "coloraxis": {
           "colorbar": {
            "outlinewidth": 0,
            "ticks": ""
           }
          },
          "colorscale": {
           "diverging": [
            [
             0,
             "#8e0152"
            ],
            [
             0.1,
             "#c51b7d"
            ],
            [
             0.2,
             "#de77ae"
            ],
            [
             0.3,
             "#f1b6da"
            ],
            [
             0.4,
             "#fde0ef"
            ],
            [
             0.5,
             "#f7f7f7"
            ],
            [
             0.6,
             "#e6f5d0"
            ],
            [
             0.7,
             "#b8e186"
            ],
            [
             0.8,
             "#7fbc41"
            ],
            [
             0.9,
             "#4d9221"
            ],
            [
             1,
             "#276419"
            ]
           ],
           "sequential": [
            [
             0,
             "#0d0887"
            ],
            [
             0.1111111111111111,
             "#46039f"
            ],
            [
             0.2222222222222222,
             "#7201a8"
            ],
            [
             0.3333333333333333,
             "#9c179e"
            ],
            [
             0.4444444444444444,
             "#bd3786"
            ],
            [
             0.5555555555555556,
             "#d8576b"
            ],
            [
             0.6666666666666666,
             "#ed7953"
            ],
            [
             0.7777777777777778,
             "#fb9f3a"
            ],
            [
             0.8888888888888888,
             "#fdca26"
            ],
            [
             1,
             "#f0f921"
            ]
           ],
           "sequentialminus": [
            [
             0,
             "#0d0887"
            ],
            [
             0.1111111111111111,
             "#46039f"
            ],
            [
             0.2222222222222222,
             "#7201a8"
            ],
            [
             0.3333333333333333,
             "#9c179e"
            ],
            [
             0.4444444444444444,
             "#bd3786"
            ],
            [
             0.5555555555555556,
             "#d8576b"
            ],
            [
             0.6666666666666666,
             "#ed7953"
            ],
            [
             0.7777777777777778,
             "#fb9f3a"
            ],
            [
             0.8888888888888888,
             "#fdca26"
            ],
            [
             1,
             "#f0f921"
            ]
           ]
          },
          "colorway": [
           "#636efa",
           "#EF553B",
           "#00cc96",
           "#ab63fa",
           "#FFA15A",
           "#19d3f3",
           "#FF6692",
           "#B6E880",
           "#FF97FF",
           "#FECB52"
          ],
          "font": {
           "color": "#2a3f5f"
          },
          "geo": {
           "bgcolor": "white",
           "lakecolor": "white",
           "landcolor": "#E5ECF6",
           "showlakes": true,
           "showland": true,
           "subunitcolor": "white"
          },
          "hoverlabel": {
           "align": "left"
          },
          "hovermode": "closest",
          "mapbox": {
           "style": "light"
          },
          "paper_bgcolor": "white",
          "plot_bgcolor": "#E5ECF6",
          "polar": {
           "angularaxis": {
            "gridcolor": "white",
            "linecolor": "white",
            "ticks": ""
           },
           "bgcolor": "#E5ECF6",
           "radialaxis": {
            "gridcolor": "white",
            "linecolor": "white",
            "ticks": ""
           }
          },
          "scene": {
           "xaxis": {
            "backgroundcolor": "#E5ECF6",
            "gridcolor": "white",
            "gridwidth": 2,
            "linecolor": "white",
            "showbackground": true,
            "ticks": "",
            "zerolinecolor": "white"
           },
           "yaxis": {
            "backgroundcolor": "#E5ECF6",
            "gridcolor": "white",
            "gridwidth": 2,
            "linecolor": "white",
            "showbackground": true,
            "ticks": "",
            "zerolinecolor": "white"
           },
           "zaxis": {
            "backgroundcolor": "#E5ECF6",
            "gridcolor": "white",
            "gridwidth": 2,
            "linecolor": "white",
            "showbackground": true,
            "ticks": "",
            "zerolinecolor": "white"
           }
          },
          "shapedefaults": {
           "line": {
            "color": "#2a3f5f"
           }
          },
          "ternary": {
           "aaxis": {
            "gridcolor": "white",
            "linecolor": "white",
            "ticks": ""
           },
           "baxis": {
            "gridcolor": "white",
            "linecolor": "white",
            "ticks": ""
           },
           "bgcolor": "#E5ECF6",
           "caxis": {
            "gridcolor": "white",
            "linecolor": "white",
            "ticks": ""
           }
          },
          "title": {
           "x": 0.05
          },
          "xaxis": {
           "automargin": true,
           "gridcolor": "white",
           "linecolor": "white",
           "ticks": "",
           "title": {
            "standoff": 15
           },
           "zerolinecolor": "white",
           "zerolinewidth": 2
          },
          "yaxis": {
           "automargin": true,
           "gridcolor": "white",
           "linecolor": "white",
           "ticks": "",
           "title": {
            "standoff": 15
           },
           "zerolinecolor": "white",
           "zerolinewidth": 2
          }
         }
        },
        "xaxis": {
         "anchor": "y",
         "domain": [
          0,
          1
         ],
         "title": {
          "text": "date"
         }
        },
        "yaxis": {
         "anchor": "x",
         "domain": [
          0,
          1
         ],
         "title": {
          "text": "value"
         }
        }
       }
      }
     },
     "metadata": {},
     "output_type": "display_data"
    }
   ],
   "source": [
    "px.line(sales_df[\"revenue\"])"
   ]
  },
  {
   "cell_type": "code",
   "execution_count": 115,
   "id": "4b63cf40",
   "metadata": {},
   "outputs": [
    {
     "data": {
      "image/png": "[encoded data removed]",
      "text/plain": [
       "<Figure size 640x480 with 1 Axes>"
      ]
     },
     "metadata": {},
     "output_type": "display_data"
    }
   ],
   "source": [
    "month_plot(sales_df[\"revenue\"].resample(\"ME\").mean())\n",
    "plt.show()"
   ]
  },
  {
   "cell_type": "code",
   "execution_count": 116,
   "id": "f0d682ea",
   "metadata": {},
   "outputs": [
    {
     "data": {
      "image/png": "[encoded data removed]",
      "text/plain": [
       "<Figure size 640x480 with 4 Axes>"
      ]
     },
     "metadata": {},
     "output_type": "display_data"
    }
   ],
   "source": [
    "decomposition = seasonal_decompose(sales_df[\"revenue\"], model=\"multiplicative\", period=365)\n",
    "\n",
    "fig = decomposition.plot()"
   ]
  },
  {
   "cell_type": "code",
   "execution_count": 117,
   "id": "90d5bbbb",
   "metadata": {},
   "outputs": [],
   "source": [
    "sales_df = sales_df.asfreq(\"d\")"
   ]
  },
  {
   "cell_type": "code",
   "execution_count": 118,
   "id": "47fe175f",
   "metadata": {},
   "outputs": [],
   "source": [
    "periods = 30\n",
    "train, test = sales_df.iloc[:-periods, 0], sales_df.iloc[-periods:, 0]"
   ]
  },
  {
   "cell_type": "code",
   "execution_count": 119,
   "id": "d53715de",
   "metadata": {},
   "outputs": [],
   "source": [
    "train_df = pd.DataFrame({\n",
    "    \"unique_id\": \"series1\",\n",
    "    \"ds\": train.index,    # datetime index\n",
    "    \"y\": train.values     # target values\n",
    "})\n",
    "\n",
    "sarima_model = StatsForecast(models=[AutoARIMA(season_length=7)], freq='D')\n"
   ]
  },
  {
   "cell_type": "code",
   "execution_count": 120,
   "id": "c961073c",
   "metadata": {},
   "outputs": [
    {
     "data": {
      "text/plain": [
       "StatsForecast(models=[AutoARIMA])"
      ]
     },
     "execution_count": 120,
     "metadata": {},
     "output_type": "execute_result"
    }
   ],
   "source": [
    "sarima_model.fit(train_df)"
   ]
  },
  {
   "cell_type": "code",
   "execution_count": 121,
   "id": "5cd0fa8b",
   "metadata": {},
   "outputs": [],
   "source": [
    "sarima_forecast = sarima_model.predict(h=30)  # forecast next n periods\n",
    "sarima_pred = sarima_forecast.set_index(\"ds\")[\"AutoARIMA\"].reindex(test.index)\n"
   ]
  },
  {
   "cell_type": "code",
   "execution_count": 122,
   "id": "51713189",
   "metadata": {},
   "outputs": [],
   "source": [
    "import numpy as np\n",
    "import pandas as pd\n",
    "from statsforecast import StatsForecast\n",
    "from statsforecast.models import AutoARIMA\n",
    "from sklearn.metrics import mean_absolute_error, mean_squared_error\n",
    "\n",
    "# --- Clean & freq ---\n",
    "sales = sales_df.copy()\n",
    "sales.index = pd.to_datetime(sales.index)\n",
    "sales = sales.sort_index()\n",
    "sales[\"revenue\"] = sales[\"revenue\"].astype(str).str.replace(\",\", \"\", regex=False).astype(float)\n",
    "exog_cols = [\"discount_rate\", \"coupon_rate\"]\n",
    "sales[exog_cols] = sales[exog_cols].astype(float)\n",
    "\n",
    "freq = pd.infer_freq(sales.index) or \"D\"\n",
    "sales = sales.asfreq(freq)\n",
    "\n",
    "# --- Split ---\n",
    "H = 30\n",
    "train, test = sales.iloc[:-H], sales.iloc[-H:]\n",
    "y_train, y_test = train[\"revenue\"], test[\"revenue\"]\n",
    "X_train, X_test = train[exog_cols], test[exog_cols]\n",
    "\n",
    "# --- Training DF (must have unique_id, ds, y, then exog) ---\n",
    "train_long = pd.DataFrame({\n",
    "    \"unique_id\": \"series1\",\n",
    "    \"ds\": y_train.index,     # <-- ensure 'ds' present\n",
    "    \"y\": y_train.values\n",
    "})\n",
    "# attach exog by aligning on index->ds\n",
    "train_long = (\n",
    "    train_long\n",
    "    .set_index(\"ds\")\n",
    "    .join(X_train)          # joins on datetime index\n",
    "    .reset_index()          # brings back 'ds'\n",
    ")\n",
    "\n",
    "# --- Future exog (must have unique_id, ds, and exog cols) ---\n",
    "X_future = X_test.copy()\n",
    "X_future[\"ds\"] = X_test.index        # <-- ensure 'ds'\n",
    "X_future.insert(0, \"unique_id\", \"series1\")\n",
    "X_future = X_future.reset_index(drop=True)\n",
    "\n",
    "# --- Forecast (no separate fit) ---\n",
    "sf = StatsForecast(models=[AutoARIMA(season_length=7)], freq=freq)\n",
    "fcst = sf.forecast(df=train_long, h=H, X_df=X_future)   # returns cols: unique_id, ds, AutoARIMA\n",
    "\n",
    "# Align predictions to test index\n",
    "sarimax_pred = fcst.set_index(\"ds\")[\"AutoARIMA\"].reindex(y_test.index)\n",
    "\n"
   ]
  },
  {
   "cell_type": "code",
   "execution_count": 123,
   "id": "cb310fc8",
   "metadata": {},
   "outputs": [
    {
     "data": {
      "image/png": "[encoded data removed]",
      "text/plain": [
       "<Figure size 1000x400 with 1 Axes>"
      ]
     },
     "metadata": {},
     "output_type": "display_data"
    }
   ],
   "source": [
    "plt.figure(figsize=(10,4))\n",
    "plt.plot(train, label = \"Train\")\n",
    "plt.plot(test, label = \"Test\")\n",
    "plt.plot(sarima_pred, label = \"SARIMA\")\n",
    "\n",
    "plt.title(\"Predicting using ARIMA\")\n",
    "plt.legend()\n",
    "plt.show()"
   ]
  },
  {
   "cell_type": "code",
   "execution_count": null,
   "id": "f3d20f1f",
   "metadata": {},
   "outputs": [
    {
     "data": {
      "application/vnd.plotly.v1+json": {
       "config": {
        "plotlyServerURL": "https://plot.ly"
       },
       "data": [],
       "layout": {
        "height": 400,
        "legend": {
         "traceorder": "normal",
         "x": 0,
         "y": 1
        },
        "template": {
         "data": {
          "bar": [
           {
            "error_x": {
             "color": "#2a3f5f"
            },
            "error_y": {
             "color": "#2a3f5f"
            },
            "marker": {
             "line": {
              "color": "#E5ECF6",
              "width": 0.5
             },
             "pattern": {
              "fillmode": "overlay",
              "size": 10,
              "solidity": 0.2
             }
            },
            "type": "bar"
           }
          ],
          "barpolar": [
           {
            "marker": {
             "line": {
              "color": "#E5ECF6",
              "width": 0.5
             },
             "pattern": {
              "fillmode": "overlay",
              "size": 10,
              "solidity": 0.2
             }
            },
            "type": "barpolar"
           }
          ],
          "carpet": [
           {
            "aaxis": {
             "endlinecolor": "#2a3f5f",
             "gridcolor": "white",
             "linecolor": "white",
             "minorgridcolor": "white",
             "startlinecolor": "#2a3f5f"
            },
            "baxis": {
             "endlinecolor": "#2a3f5f",
             "gridcolor": "white",
             "linecolor": "white",
             "minorgridcolor": "white",
             "startlinecolor": "#2a3f5f"
            },
            "type": "carpet"
           }
          ],
          "choropleth": [
           {
            "colorbar": {
             "outlinewidth": 0,
             "ticks": ""
            },
            "type": "choropleth"
           }
          ],
          "contour": [
           {
            "colorbar": {
             "outlinewidth": 0,
             "ticks": ""
            },
            "colorscale": [
             [
              0,
              "#0d0887"
             ],
             [
              0.1111111111111111,
              "#46039f"
             ],
             [
              0.2222222222222222,
              "#7201a8"
             ],
             [
              0.3333333333333333,
              "#9c179e"
             ],
             [
              0.4444444444444444,
              "#bd3786"
             ],
             [
              0.5555555555555556,
              "#d8576b"
             ],
             [
              0.6666666666666666,
              "#ed7953"
             ],
             [
              0.7777777777777778,
              "#fb9f3a"
             ],
             [
              0.8888888888888888,
              "#fdca26"
             ],
             [
              1,
              "#f0f921"
             ]
            ],
            "type": "contour"
           }
          ],
          "contourcarpet": [
           {
            "colorbar": {
             "outlinewidth": 0,
             "ticks": ""
            },
            "type": "contourcarpet"
           }
          ],
          "heatmap": [
           {
            "colorbar": {
             "outlinewidth": 0,
             "ticks": ""
            },
            "colorscale": [
             [
              0,
              "#0d0887"
             ],
             [
              0.1111111111111111,
              "#46039f"
             ],
             [
              0.2222222222222222,
              "#7201a8"
             ],
             [
              0.3333333333333333,
              "#9c179e"
             ],
             [
              0.4444444444444444,
              "#bd3786"
             ],
             [
              0.5555555555555556,
              "#d8576b"
             ],
             [
              0.6666666666666666,
              "#ed7953"
             ],
             [
              0.7777777777777778,
              "#fb9f3a"
             ],
             [
              0.8888888888888888,
              "#fdca26"
             ],
             [
              1,
              "#f0f921"
             ]
            ],
            "type": "heatmap"
           }
          ],
          "histogram": [
           {
            "marker": {
             "pattern": {
              "fillmode": "overlay",
              "size": 10,
              "solidity": 0.2
             }
            },
            "type": "histogram"
           }
          ],
          "histogram2d": [
           {
            "colorbar": {
             "outlinewidth": 0,
             "ticks": ""
            },
            "colorscale": [
             [
              0,
              "#0d0887"
             ],
             [
              0.1111111111111111,
              "#46039f"
             ],
             [
              0.2222222222222222,
              "#7201a8"
             ],
             [
              0.3333333333333333,
              "#9c179e"
             ],
             [
              0.4444444444444444,
              "#bd3786"
             ],
             [
              0.5555555555555556,
              "#d8576b"
             ],
             [
              0.6666666666666666,
              "#ed7953"
             ],
             [
              0.7777777777777778,
              "#fb9f3a"
             ],
             [
              0.8888888888888888,
              "#fdca26"
             ],
             [
              1,
              "#f0f921"
             ]
            ],
            "type": "histogram2d"
           }
          ],
          "histogram2dcontour": [
           {
            "colorbar": {
             "outlinewidth": 0,
             "ticks": ""
            },
            "colorscale": [
             [
              0,
              "#0d0887"
             ],
             [
              0.1111111111111111,
              "#46039f"
             ],
             [
              0.2222222222222222,
              "#7201a8"
             ],
             [
              0.3333333333333333,
              "#9c179e"
             ],
             [
              0.4444444444444444,
              "#bd3786"
             ],
             [
              0.5555555555555556,
              "#d8576b"
             ],
             [
              0.6666666666666666,
              "#ed7953"
             ],
             [
              0.7777777777777778,
              "#fb9f3a"
             ],
             [
              0.8888888888888888,
              "#fdca26"
             ],
             [
              1,
              "#f0f921"
             ]
            ],
            "type": "histogram2dcontour"
           }
          ],
          "mesh3d": [
           {
            "colorbar": {
             "outlinewidth": 0,
             "ticks": ""
            },
            "type": "mesh3d"
           }
          ],
          "parcoords": [
           {
            "line": {
             "colorbar": {
              "outlinewidth": 0,
              "ticks": ""
             }
            },
            "type": "parcoords"
           }
          ],
          "pie": [
           {
            "automargin": true,
            "type": "pie"
           }
          ],
          "scatter": [
           {
            "fillpattern": {
             "fillmode": "overlay",
             "size": 10,
             "solidity": 0.2
            },
            "type": "scatter"
           }
          ],
          "scatter3d": [
           {
            "line": {
             "colorbar": {
              "outlinewidth": 0,
              "ticks": ""
             }
            },
            "marker": {
             "colorbar": {
              "outlinewidth": 0,
              "ticks": ""
             }
            },
            "type": "scatter3d"
           }
          ],
          "scattercarpet": [
           {
            "marker": {
             "colorbar": {
              "outlinewidth": 0,
              "ticks": ""
             }
            },
            "type": "scattercarpet"
           }
          ],
          "scattergeo": [
           {
            "marker": {
             "colorbar": {
              "outlinewidth": 0,
              "ticks": ""
             }
            },
            "type": "scattergeo"
           }
          ],
          "scattergl": [
           {
            "marker": {
             "colorbar": {
              "outlinewidth": 0,
              "ticks": ""
             }
            },
            "type": "scattergl"
           }
          ],
          "scattermap": [
           {
            "marker": {
             "colorbar": {
              "outlinewidth": 0,
              "ticks": ""
             }
            },
            "type": "scattermap"
           }
          ],
          "scattermapbox": [
           {
            "marker": {
             "colorbar": {
              "outlinewidth": 0,
              "ticks": ""
             }
            },
            "type": "scattermapbox"
           }
          ],
          "scatterpolar": [
           {
            "marker": {
             "colorbar": {
              "outlinewidth": 0,
              "ticks": ""
             }
            },
            "type": "scatterpolar"
           }
          ],
          "scatterpolargl": [
           {
            "marker": {
             "colorbar": {
              "outlinewidth": 0,
              "ticks": ""
             }
            },
            "type": "scatterpolargl"
           }
          ],
          "scatterternary": [
           {
            "marker": {
             "colorbar": {
              "outlinewidth": 0,
              "ticks": ""
             }
            },
            "type": "scatterternary"
           }
          ],
          "surface": [
           {
            "colorbar": {
             "outlinewidth": 0,
             "ticks": ""
            },
            "colorscale": [
             [
              0,
              "#0d0887"
             ],
             [
              0.1111111111111111,
              "#46039f"
             ],
             [
              0.2222222222222222,
              "#7201a8"
             ],
             [
              0.3333333333333333,
              "#9c179e"
             ],
             [
              0.4444444444444444,
              "#bd3786"
             ],
             [
              0.5555555555555556,
              "#d8576b"
             ],
             [
              0.6666666666666666,
              "#ed7953"
             ],
             [
              0.7777777777777778,
              "#fb9f3a"
             ],
             [
              0.8888888888888888,
              "#fdca26"
             ],
             [
              1,
              "#f0f921"
             ]
            ],
            "type": "surface"
           }
          ],
          "table": [
           {
            "cells": {
             "fill": {
              "color": "#EBF0F8"
             },
             "line": {
              "color": "white"
             }
            },
            "header": {
             "fill": {
              "color": "#C8D4E3"
             },
             "line": {
              "color": "white"
             }
            },
            "type": "table"
           }
          ]
         },
         "layout": {
          "annotationdefaults": {
           "arrowcolor": "#2a3f5f",
           "arrowhead": 0,
           "arrowwidth": 1
          },
          "autotypenumbers": "strict",
          "coloraxis": {
           "colorbar": {
            "outlinewidth": 0,
            "ticks": ""
           }
          },
          "colorscale": {
           "diverging": [
            [
             0,
             "#8e0152"
            ],
            [
             0.1,
             "#c51b7d"
            ],
            [
             0.2,
             "#de77ae"
            ],
            [
             0.3,
             "#f1b6da"
            ],
            [
             0.4,
             "#fde0ef"
            ],
            [
             0.5,
             "#f7f7f7"
            ],
            [
             0.6,
             "#e6f5d0"
            ],
            [
             0.7,
             "#b8e186"
            ],
            [
             0.8,
             "#7fbc41"
            ],
            [
             0.9,
             "#4d9221"
            ],
            [
             1,
             "#276419"
            ]
           ],
           "sequential": [
            [
             0,
             "#0d0887"
            ],
            [
             0.1111111111111111,
             "#46039f"
            ],
            [
             0.2222222222222222,
             "#7201a8"
            ],
            [
             0.3333333333333333,
             "#9c179e"
            ],
            [
             0.4444444444444444,
             "#bd3786"
            ],
            [
             0.5555555555555556,
             "#d8576b"
            ],
            [
             0.6666666666666666,
             "#ed7953"
            ],
            [
             0.7777777777777778,
             "#fb9f3a"
            ],
            [
             0.8888888888888888,
             "#fdca26"
            ],
            [
             1,
             "#f0f921"
            ]
           ],
           "sequentialminus": [
            [
             0,
             "#0d0887"
            ],
            [
             0.1111111111111111,
             "#46039f"
            ],
            [
             0.2222222222222222,
             "#7201a8"
            ],
            [
             0.3333333333333333,
             "#9c179e"
            ],
            [
             0.4444444444444444,
             "#bd3786"
            ],
            [
             0.5555555555555556,
             "#d8576b"
            ],
            [
             0.6666666666666666,
             "#ed7953"
            ],
            [
             0.7777777777777778,
             "#fb9f3a"
            ],
            [
             0.8888888888888888,
             "#fdca26"
            ],
            [
             1,
             "#f0f921"
            ]
           ]
          },
          "colorway": [
           "#636efa",
           "#EF553B",
           "#00cc96",
           "#ab63fa",
           "#FFA15A",
           "#19d3f3",
           "#FF6692",
           "#B6E880",
           "#FF97FF",
           "#FECB52"
          ],
          "font": {
           "color": "#2a3f5f"
          },
          "geo": {
           "bgcolor": "white",
           "lakecolor": "white",
           "landcolor": "#E5ECF6",
           "showlakes": true,
           "showland": true,
           "subunitcolor": "white"
          },
          "hoverlabel": {
           "align": "left"
          },
          "hovermode": "closest",
          "mapbox": {
           "style": "light"
          },
          "paper_bgcolor": "white",
          "plot_bgcolor": "#E5ECF6",
          "polar": {
           "angularaxis": {
            "gridcolor": "white",
            "linecolor": "white",
            "ticks": ""
           },
           "bgcolor": "#E5ECF6",
           "radialaxis": {
            "gridcolor": "white",
            "linecolor": "white",
            "ticks": ""
           }
          },
          "scene": {
           "xaxis": {
            "backgroundcolor": "#E5ECF6",
            "gridcolor": "white",
            "gridwidth": 2,
            "linecolor": "white",
            "showbackground": true,
            "ticks": "",
            "zerolinecolor": "white"
           },
           "yaxis": {
            "backgroundcolor": "#E5ECF6",
            "gridcolor": "white",
            "gridwidth": 2,
            "linecolor": "white",
            "showbackground": true,
            "ticks": "",
            "zerolinecolor": "white"
           },
           "zaxis": {
            "backgroundcolor": "#E5ECF6",
            "gridcolor": "white",
            "gridwidth": 2,
            "linecolor": "white",
            "showbackground": true,
            "ticks": "",
            "zerolinecolor": "white"
           }
          },
          "shapedefaults": {
           "line": {
            "color": "#2a3f5f"
           }
          },
          "ternary": {
           "aaxis": {
            "gridcolor": "white",
            "linecolor": "white",
            "ticks": ""
           },
           "baxis": {
            "gridcolor": "white",
            "linecolor": "white",
            "ticks": ""
           },
           "bgcolor": "#E5ECF6",
           "caxis": {
            "gridcolor": "white",
            "linecolor": "white",
            "ticks": ""
           }
          },
          "title": {
           "x": 0.05
          },
          "xaxis": {
           "automargin": true,
           "gridcolor": "white",
           "linecolor": "white",
           "ticks": "",
           "title": {
            "standoff": 15
           },
           "zerolinecolor": "white",
           "zerolinewidth": 2
          },
          "yaxis": {
           "automargin": true,
           "gridcolor": "white",
           "linecolor": "white",
           "ticks": "",
           "title": {
            "standoff": 15
           },
           "zerolinecolor": "white",
           "zerolinewidth": 2
          }
         }
        },
        "title": {
         "text": "Predicting using Exponential Smoothing"
        },
        "width": 1000,
        "xaxis": {
         "title": {
          "text": "Date"
         }
        },
        "yaxis": {
         "title": {
          "text": "Value"
         }
        }
       }
      }
     },
     "metadata": {},
     "output_type": "display_data"
    }
   ],
   "source": [
    "fig = go.Figure()\n",
    "\n",
    "fig.add_trace(go.Scatter(x=train.index, y=train, mode=\"lines\", name=\"Train\"))\n",
    "fig.add_trace(go.Scatter(x=test.index, y=test, mode=\"lines\", name=\"Test\"))\n",
    "fig.add_trace(go.Scatter(x=sarima_pred.index, y=sarima_pred, mode=\"lines\", name=\"SARIMA\"))\n",
    "fig.add_trace(go.Scatter(x=sarimax_pred.index, y=sarimax_pred, mode=\"lines\", name=\"SARIMAX\"))\n",
    "\n",
    "\n",
    "fig.update_layout(\n",
    "    title=\"Predicting using Exponential Smoothing\",\n",
    "    xaxis_title=\"Date\",\n",
    "    yaxis_title=\"Value\",\n",
    "    legend=dict(x=0, y=1, traceorder=\"normal\"),\n",
    "    width=1000, height=400\n",
    ")\n",
    "\n",
    "fig.show()"
   ]
  },
  {
   "cell_type": "code",
   "execution_count": null,
   "id": "c9a7805a",
   "metadata": {},
   "outputs": [],
   "source": []
  }
 ],
 "metadata": {
  "kernelspec": {
   "display_name": "pythonml (3.13.3)",
   "language": "python",
   "name": "python3"
  },
  "language_info": {
   "codemirror_mode": {
    "name": "ipython",
    "version": 3
   },
   "file_extension": ".py",
   "mimetype": "text/x-python",
   "name": "python",
   "nbconvert_exporter": "python",
   "pygments_lexer": "ipython3",
   "version": "3.13.3"
  }
 },
 "nbformat": 4,
 "nbformat_minor": 5
}
